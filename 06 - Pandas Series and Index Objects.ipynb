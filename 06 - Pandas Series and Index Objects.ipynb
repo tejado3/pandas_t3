{
 "cells": [
  {
   "cell_type": "code",
   "execution_count": null,
   "metadata": {},
   "outputs": [],
   "source": []
  },
  {
   "cell_type": "markdown",
   "metadata": {},
   "source": [
    "#### 06 - Pandas Series and Index Objects"
   ]
  },
  {
   "cell_type": "markdown",
   "metadata": {},
   "source": [
    "##### First steps"
   ]
  },
  {
   "cell_type": "code",
   "execution_count": null,
   "metadata": {},
   "outputs": [],
   "source": [
    "import pandas as pd"
   ]
  },
  {
   "cell_type": "code",
   "execution_count": null,
   "metadata": {},
   "outputs": [
    {
     "data": {
      "text/html": [
       "<div>\n",
       "<style scoped>\n",
       "    .dataframe tbody tr th:only-of-type {\n",
       "        vertical-align: middle;\n",
       "    }\n",
       "\n",
       "    .dataframe tbody tr th {\n",
       "        vertical-align: top;\n",
       "    }\n",
       "\n",
       "    .dataframe thead th {\n",
       "        text-align: right;\n",
       "    }\n",
       "</style>\n",
       "<table border=\"1\" class=\"dataframe\">\n",
       "  <thead>\n",
       "    <tr style=\"text-align: right;\">\n",
       "      <th></th>\n",
       "      <th>survived</th>\n",
       "      <th>pclass</th>\n",
       "      <th>sex</th>\n",
       "      <th>age</th>\n",
       "      <th>sibsp</th>\n",
       "      <th>parch</th>\n",
       "      <th>fare</th>\n",
       "      <th>embarked</th>\n",
       "      <th>deck</th>\n",
       "    </tr>\n",
       "  </thead>\n",
       "  <tbody>\n",
       "    <tr>\n",
       "      <th>0</th>\n",
       "      <td>0</td>\n",
       "      <td>3</td>\n",
       "      <td>male</td>\n",
       "      <td>22.0</td>\n",
       "      <td>1</td>\n",
       "      <td>0</td>\n",
       "      <td>7.2500</td>\n",
       "      <td>S</td>\n",
       "      <td>NaN</td>\n",
       "    </tr>\n",
       "    <tr>\n",
       "      <th>1</th>\n",
       "      <td>1</td>\n",
       "      <td>1</td>\n",
       "      <td>female</td>\n",
       "      <td>38.0</td>\n",
       "      <td>1</td>\n",
       "      <td>0</td>\n",
       "      <td>71.2833</td>\n",
       "      <td>C</td>\n",
       "      <td>C</td>\n",
       "    </tr>\n",
       "    <tr>\n",
       "      <th>2</th>\n",
       "      <td>1</td>\n",
       "      <td>3</td>\n",
       "      <td>female</td>\n",
       "      <td>26.0</td>\n",
       "      <td>0</td>\n",
       "      <td>0</td>\n",
       "      <td>7.9250</td>\n",
       "      <td>S</td>\n",
       "      <td>NaN</td>\n",
       "    </tr>\n",
       "    <tr>\n",
       "      <th>3</th>\n",
       "      <td>1</td>\n",
       "      <td>1</td>\n",
       "      <td>female</td>\n",
       "      <td>35.0</td>\n",
       "      <td>1</td>\n",
       "      <td>0</td>\n",
       "      <td>53.1000</td>\n",
       "      <td>S</td>\n",
       "      <td>C</td>\n",
       "    </tr>\n",
       "    <tr>\n",
       "      <th>4</th>\n",
       "      <td>0</td>\n",
       "      <td>3</td>\n",
       "      <td>male</td>\n",
       "      <td>35.0</td>\n",
       "      <td>0</td>\n",
       "      <td>0</td>\n",
       "      <td>8.0500</td>\n",
       "      <td>S</td>\n",
       "      <td>NaN</td>\n",
       "    </tr>\n",
       "    <tr>\n",
       "      <th>...</th>\n",
       "      <td>...</td>\n",
       "      <td>...</td>\n",
       "      <td>...</td>\n",
       "      <td>...</td>\n",
       "      <td>...</td>\n",
       "      <td>...</td>\n",
       "      <td>...</td>\n",
       "      <td>...</td>\n",
       "      <td>...</td>\n",
       "    </tr>\n",
       "    <tr>\n",
       "      <th>886</th>\n",
       "      <td>0</td>\n",
       "      <td>2</td>\n",
       "      <td>male</td>\n",
       "      <td>27.0</td>\n",
       "      <td>0</td>\n",
       "      <td>0</td>\n",
       "      <td>13.0000</td>\n",
       "      <td>S</td>\n",
       "      <td>NaN</td>\n",
       "    </tr>\n",
       "    <tr>\n",
       "      <th>887</th>\n",
       "      <td>1</td>\n",
       "      <td>1</td>\n",
       "      <td>female</td>\n",
       "      <td>19.0</td>\n",
       "      <td>0</td>\n",
       "      <td>0</td>\n",
       "      <td>30.0000</td>\n",
       "      <td>S</td>\n",
       "      <td>B</td>\n",
       "    </tr>\n",
       "    <tr>\n",
       "      <th>888</th>\n",
       "      <td>0</td>\n",
       "      <td>3</td>\n",
       "      <td>female</td>\n",
       "      <td>NaN</td>\n",
       "      <td>1</td>\n",
       "      <td>2</td>\n",
       "      <td>23.4500</td>\n",
       "      <td>S</td>\n",
       "      <td>NaN</td>\n",
       "    </tr>\n",
       "    <tr>\n",
       "      <th>889</th>\n",
       "      <td>1</td>\n",
       "      <td>1</td>\n",
       "      <td>male</td>\n",
       "      <td>26.0</td>\n",
       "      <td>0</td>\n",
       "      <td>0</td>\n",
       "      <td>30.0000</td>\n",
       "      <td>C</td>\n",
       "      <td>C</td>\n",
       "    </tr>\n",
       "    <tr>\n",
       "      <th>890</th>\n",
       "      <td>0</td>\n",
       "      <td>3</td>\n",
       "      <td>male</td>\n",
       "      <td>32.0</td>\n",
       "      <td>0</td>\n",
       "      <td>0</td>\n",
       "      <td>7.7500</td>\n",
       "      <td>Q</td>\n",
       "      <td>NaN</td>\n",
       "    </tr>\n",
       "  </tbody>\n",
       "</table>\n",
       "<p>891 rows × 9 columns</p>\n",
       "</div>"
      ],
      "text/plain": [
       "     survived  pclass     sex   age  sibsp  parch     fare embarked deck\n",
       "0           0       3    male  22.0      1      0   7.2500        S  NaN\n",
       "1           1       1  female  38.0      1      0  71.2833        C    C\n",
       "2           1       3  female  26.0      0      0   7.9250        S  NaN\n",
       "3           1       1  female  35.0      1      0  53.1000        S    C\n",
       "4           0       3    male  35.0      0      0   8.0500        S  NaN\n",
       "..        ...     ...     ...   ...    ...    ...      ...      ...  ...\n",
       "886         0       2    male  27.0      0      0  13.0000        S  NaN\n",
       "887         1       1  female  19.0      0      0  30.0000        S    B\n",
       "888         0       3  female   NaN      1      2  23.4500        S  NaN\n",
       "889         1       1    male  26.0      0      0  30.0000        C    C\n",
       "890         0       3    male  32.0      0      0   7.7500        Q  NaN\n",
       "\n",
       "[891 rows x 9 columns]"
      ]
     },
     "metadata": {},
     "output_type": "display_data"
    }
   ],
   "source": [
    "titanic = pd.read_csv(r\"C:\\Users\\aitor\\OneDrive\\Desktop\\FRED\\course_env\\Pandas_2025\\onthego_materials\\Course_Materials_Part1\\Video_Lecture_NBs\\titanic.csv\")\n",
    "titanic"
   ]
  },
  {
   "cell_type": "code",
   "execution_count": null,
   "metadata": {},
   "outputs": [
    {
     "name": "stdout",
     "output_type": "stream",
     "text": [
      "<class 'pandas.core.frame.DataFrame'>\n",
      "RangeIndex: 891 entries, 0 to 890\n",
      "Data columns (total 9 columns):\n",
      " #   Column    Non-Null Count  Dtype  \n",
      "---  ------    --------------  -----  \n",
      " 0   survived  891 non-null    int64  \n",
      " 1   pclass    891 non-null    int64  \n",
      " 2   sex       891 non-null    object \n",
      " 3   age       714 non-null    float64\n",
      " 4   sibsp     891 non-null    int64  \n",
      " 5   parch     891 non-null    int64  \n",
      " 6   fare      891 non-null    float64\n",
      " 7   embarked  889 non-null    object \n",
      " 8   deck      203 non-null    object \n",
      "dtypes: float64(2), int64(4), object(3)\n",
      "memory usage: 62.8+ KB\n"
     ]
    }
   ],
   "source": [
    "titanic.info()"
   ]
  },
  {
   "cell_type": "code",
   "execution_count": null,
   "metadata": {},
   "outputs": [
    {
     "data": {
      "text/plain": [
       "0      22.0\n",
       "1      38.0\n",
       "2      26.0\n",
       "3      35.0\n",
       "4      35.0\n",
       "       ... \n",
       "886    27.0\n",
       "887    19.0\n",
       "888     NaN\n",
       "889    26.0\n",
       "890    32.0\n",
       "Name: age, Length: 891, dtype: float64"
      ]
     },
     "metadata": {},
     "output_type": "display_data"
    }
   ],
   "source": [
    "# And actually a Pandas series is a one dimensional labeled array.\n",
    "# titanic.age\n",
    "titanic[\"age\"]"
   ]
  },
  {
   "cell_type": "code",
   "execution_count": null,
   "metadata": {},
   "outputs": [],
   "source": [
    "# Dataframes and Pandas series share most of the methods and attributes.\n",
    "age = titanic[\"age\"]"
   ]
  },
  {
   "cell_type": "code",
   "execution_count": null,
   "metadata": {},
   "outputs": [
    {
     "data": {
      "text/plain": [
       "(0    22.0\n",
       " 1    38.0\n",
       " 2    26.0\n",
       " 3    35.0\n",
       " 4    35.0\n",
       " Name: age, dtype: float64,\n",
       " 886    27.0\n",
       " 887    19.0\n",
       " 888     NaN\n",
       " 889    26.0\n",
       " 890    32.0\n",
       " Name: age, dtype: float64,\n",
       " dtype('float64'),\n",
       " (891,),\n",
       " RangeIndex(start=0, stop=891, step=1),\n",
       " pandas.core.series.Series)"
      ]
     },
     "metadata": {},
     "output_type": "display_data"
    }
   ],
   "source": [
    "age.head(), age.tail(), age.dtype, age.shape, age.index, type(age)"
   ]
  },
  {
   "cell_type": "code",
   "execution_count": null,
   "metadata": {},
   "outputs": [
    {
     "name": "stdout",
     "output_type": "stream",
     "text": [
      "<class 'pandas.core.series.Series'>\n",
      "RangeIndex: 891 entries, 0 to 890\n",
      "Series name: age\n",
      "Non-Null Count  Dtype  \n",
      "--------------  -----  \n",
      "714 non-null    float64\n",
      "dtypes: float64(1)\n",
      "memory usage: 7.1 KB\n"
     ]
    }
   ],
   "source": [
    "age.info()"
   ]
  },
  {
   "cell_type": "code",
   "execution_count": null,
   "metadata": {},
   "outputs": [
    {
     "data": {
      "text/html": [
       "<div>\n",
       "<style scoped>\n",
       "    .dataframe tbody tr th:only-of-type {\n",
       "        vertical-align: middle;\n",
       "    }\n",
       "\n",
       "    .dataframe tbody tr th {\n",
       "        vertical-align: top;\n",
       "    }\n",
       "\n",
       "    .dataframe thead th {\n",
       "        text-align: right;\n",
       "    }\n",
       "</style>\n",
       "<table border=\"1\" class=\"dataframe\">\n",
       "  <thead>\n",
       "    <tr style=\"text-align: right;\">\n",
       "      <th></th>\n",
       "      <th>age</th>\n",
       "    </tr>\n",
       "  </thead>\n",
       "  <tbody>\n",
       "    <tr>\n",
       "      <th>0</th>\n",
       "      <td>22.0</td>\n",
       "    </tr>\n",
       "    <tr>\n",
       "      <th>1</th>\n",
       "      <td>38.0</td>\n",
       "    </tr>\n",
       "    <tr>\n",
       "      <th>2</th>\n",
       "      <td>26.0</td>\n",
       "    </tr>\n",
       "    <tr>\n",
       "      <th>3</th>\n",
       "      <td>35.0</td>\n",
       "    </tr>\n",
       "    <tr>\n",
       "      <th>4</th>\n",
       "      <td>35.0</td>\n",
       "    </tr>\n",
       "    <tr>\n",
       "      <th>...</th>\n",
       "      <td>...</td>\n",
       "    </tr>\n",
       "    <tr>\n",
       "      <th>886</th>\n",
       "      <td>27.0</td>\n",
       "    </tr>\n",
       "    <tr>\n",
       "      <th>887</th>\n",
       "      <td>19.0</td>\n",
       "    </tr>\n",
       "    <tr>\n",
       "      <th>888</th>\n",
       "      <td>NaN</td>\n",
       "    </tr>\n",
       "    <tr>\n",
       "      <th>889</th>\n",
       "      <td>26.0</td>\n",
       "    </tr>\n",
       "    <tr>\n",
       "      <th>890</th>\n",
       "      <td>32.0</td>\n",
       "    </tr>\n",
       "  </tbody>\n",
       "</table>\n",
       "<p>891 rows × 1 columns</p>\n",
       "</div>"
      ],
      "text/plain": [
       "      age\n",
       "0    22.0\n",
       "1    38.0\n",
       "2    26.0\n",
       "3    35.0\n",
       "4    35.0\n",
       "..    ...\n",
       "886  27.0\n",
       "887  19.0\n",
       "888   NaN\n",
       "889  26.0\n",
       "890  32.0\n",
       "\n",
       "[891 rows x 1 columns]"
      ]
     },
     "metadata": {},
     "output_type": "display_data"
    }
   ],
   "source": [
    "# convert the series to a pandas dataframe\n",
    "age.to_frame()"
   ]
  },
  {
   "cell_type": "code",
   "execution_count": null,
   "metadata": {},
   "outputs": [
    {
     "name": "stdout",
     "output_type": "stream",
     "text": [
      "<class 'pandas.core.frame.DataFrame'>\n",
      "RangeIndex: 891 entries, 0 to 890\n",
      "Data columns (total 1 columns):\n",
      " #   Column  Non-Null Count  Dtype  \n",
      "---  ------  --------------  -----  \n",
      " 0   age     714 non-null    float64\n",
      "dtypes: float64(1)\n",
      "memory usage: 7.1 KB\n"
     ]
    }
   ],
   "source": [
    "age.to_frame().info()"
   ]
  },
  {
   "cell_type": "markdown",
   "metadata": {},
   "source": [
    "##### Analyzing Numerical Series with unique(), nunique() and value_counts()"
   ]
  },
  {
   "cell_type": "code",
   "execution_count": null,
   "metadata": {},
   "outputs": [
    {
     "data": {
      "text/plain": [
       "count    714.000000\n",
       "mean      29.699118\n",
       "std       14.526497\n",
       "min        0.420000\n",
       "25%       20.125000\n",
       "50%       28.000000\n",
       "75%       38.000000\n",
       "max       80.000000\n",
       "Name: age, dtype: float64"
      ]
     },
     "metadata": {},
     "output_type": "display_data"
    }
   ],
   "source": [
    "age.describe()"
   ]
  },
  {
   "cell_type": "code",
   "execution_count": null,
   "metadata": {},
   "outputs": [
    {
     "data": {
      "text/plain": [
       "(np.float64(28.0),\n",
       " np.float64(14.526497332334042),\n",
       " array([22.  , 38.  , 26.  , 35.  ,   nan, 54.  ,  2.  , 27.  , 14.  ,\n",
       "         4.  , 58.  , 20.  , 39.  , 55.  , 31.  , 34.  , 15.  , 28.  ,\n",
       "         8.  , 19.  , 40.  , 66.  , 42.  , 21.  , 18.  ,  3.  ,  7.  ,\n",
       "        49.  , 29.  , 65.  , 28.5 ,  5.  , 11.  , 45.  , 17.  , 32.  ,\n",
       "        16.  , 25.  ,  0.83, 30.  , 33.  , 23.  , 24.  , 46.  , 59.  ,\n",
       "        71.  , 37.  , 47.  , 14.5 , 70.5 , 32.5 , 12.  ,  9.  , 36.5 ,\n",
       "        51.  , 55.5 , 40.5 , 44.  ,  1.  , 61.  , 56.  , 50.  , 36.  ,\n",
       "        45.5 , 20.5 , 62.  , 41.  , 52.  , 63.  , 23.5 ,  0.92, 43.  ,\n",
       "        60.  , 10.  , 64.  , 13.  , 48.  ,  0.75, 53.  , 57.  , 80.  ,\n",
       "        70.  , 24.5 ,  6.  ,  0.67, 30.5 ,  0.42, 34.5 , 74.  ]),\n",
       " 89,\n",
       " 88,\n",
       " 89)"
      ]
     },
     "metadata": {},
     "output_type": "display_data"
    }
   ],
   "source": [
    "# ******************************************************************************************\n",
    "# count the number of non-missing values\n",
    "# sum(age) does not know how to handle missing values but age.sum() does (it has a parameter skipna to handle missing values)\n",
    "# .unique() returns an array of unique values (remove duplicates)(missing values are included)\n",
    "# .nunique() returns the number of unique values (missing values are excluded) (dropna=True by default)\n",
    "# ******************************************************************************************\n",
    "age.count(), age.size, len(age), age.sum(), age.sum(skipna=False), sum(age), age.mean(), age.min(), age.max(), \n",
    "age.median(), age.std(), age.unique(), len(age.unique()), age.nunique(), age.nunique(dropna=False)"
   ]
  },
  {
   "cell_type": "code",
   "execution_count": null,
   "metadata": {},
   "outputs": [
    {
     "data": {
      "text/plain": [
       "age\n",
       "24.00    30\n",
       "22.00    27\n",
       "18.00    26\n",
       "28.00    25\n",
       "30.00    25\n",
       "         ..\n",
       "24.50     1\n",
       "0.67      1\n",
       "0.42      1\n",
       "34.50     1\n",
       "74.00     1\n",
       "Name: count, Length: 88, dtype: int64"
      ]
     },
     "metadata": {},
     "output_type": "display_data"
    }
   ],
   "source": [
    "# ******************************************************************************************\n",
    "# value_counts() returns the frequency of each unique value in the series\n",
    "# ******************************************************************************************\n",
    "# The value Counts method is a very useful and versatile method, and the default behavior is that it\n",
    "# returns the number of occurrences or to say the absolute frequencies of all unique values sorted from most frequent to least frequent.\n",
    "age.value_counts()"
   ]
  },
  {
   "cell_type": "code",
   "execution_count": null,
   "metadata": {},
   "outputs": [
    {
     "data": {
      "text/plain": [
       "age\n",
       "22.00     27\n",
       "38.00     11\n",
       "26.00     18\n",
       "35.00     18\n",
       "NaN      177\n",
       "        ... \n",
       "0.67       1\n",
       "30.50      2\n",
       "0.42       1\n",
       "34.50      1\n",
       "74.00      1\n",
       "Name: count, Length: 89, dtype: int64"
      ]
     },
     "metadata": {},
     "output_type": "display_data"
    }
   ],
   "source": [
    "# sort False will return the unique values in the order they appear in the series\n",
    "age.value_counts(sort=False)"
   ]
  },
  {
   "cell_type": "code",
   "execution_count": null,
   "metadata": {},
   "outputs": [
    {
     "data": {
      "text/plain": [
       "age\n",
       "NaN      177\n",
       "24.00     30\n",
       "22.00     27\n",
       "18.00     26\n",
       "28.00     25\n",
       "        ... \n",
       "24.50      1\n",
       "0.67       1\n",
       "0.42       1\n",
       "34.50      1\n",
       "74.00      1\n",
       "Name: count, Length: 89, dtype: int64"
      ]
     },
     "metadata": {},
     "output_type": "display_data"
    }
   ],
   "source": [
    "age.value_counts(dropna=False)"
   ]
  },
  {
   "cell_type": "code",
   "execution_count": null,
   "metadata": {},
   "outputs": [
    {
     "data": {
      "text/plain": [
       "age\n",
       "66.0     1\n",
       "12.0     1\n",
       "70.5     1\n",
       "36.5     1\n",
       "20.5     1\n",
       "        ..\n",
       "28.0    25\n",
       "30.0    25\n",
       "18.0    26\n",
       "22.0    27\n",
       "24.0    30\n",
       "Name: count, Length: 88, dtype: int64"
      ]
     },
     "metadata": {},
     "output_type": "display_data"
    }
   ],
   "source": [
    "# low to high in frequency\n",
    "age.value_counts(ascending=True)"
   ]
  },
  {
   "cell_type": "code",
   "execution_count": null,
   "metadata": {},
   "outputs": [
    {
     "data": {
      "text/plain": [
       "(age\n",
       " 24.00    30\n",
       " 22.00    27\n",
       " 18.00    26\n",
       " 28.00    25\n",
       " 30.00    25\n",
       "          ..\n",
       " 24.50     1\n",
       " 0.67      1\n",
       " 0.42      1\n",
       " 34.50     1\n",
       " 74.00     1\n",
       " Name: count, Length: 88, dtype: int64,\n",
       " age\n",
       " 24.00    0.042017\n",
       " 22.00    0.037815\n",
       " 18.00    0.036415\n",
       " 28.00    0.035014\n",
       " 30.00    0.035014\n",
       "            ...   \n",
       " 24.50    0.001401\n",
       " 0.67     0.001401\n",
       " 0.42     0.001401\n",
       " 34.50    0.001401\n",
       " 74.00    0.001401\n",
       " Name: proportion, Length: 88, dtype: float64)"
      ]
     },
     "metadata": {},
     "output_type": "display_data"
    }
   ],
   "source": [
    "# And actually, by default, Pandas returns the absolute frequencies.\n",
    "# normalize parameter to return the relative frequencies - by default it is set to False - so we get the absolute frequencies.\n",
    "# ******************************************************************************************\n",
    "# But we have also the option to return the relative frequencies.\n",
    "# So to say 4.5% of all passengers are 24 years old and 3.7% of all passengers are 22 years old and so on.\n",
    "# ******************************************************************************************\n",
    "age.value_counts(normalize=False), age.value_counts(normalize=True)"
   ]
  },
  {
   "cell_type": "code",
   "execution_count": null,
   "metadata": {},
   "outputs": [
    {
     "data": {
      "text/plain": [
       "(age\n",
       " NaN      0.198653\n",
       " 24.00    0.033670\n",
       " 22.00    0.030303\n",
       " 18.00    0.029181\n",
       " 28.00    0.028058\n",
       "            ...   \n",
       " 24.50    0.001122\n",
       " 0.67     0.001122\n",
       " 0.42     0.001122\n",
       " 34.50    0.001122\n",
       " 74.00    0.001122\n",
       " Name: proportion, Length: 89, dtype: float64,\n",
       " np.float64(0.04201680672268908),\n",
       " 0.03367003367003367,\n",
       " 0.03367003367003367)"
      ]
     },
     "metadata": {},
     "output_type": "display_data"
    }
   ],
   "source": [
    "# Now the question is, how does pandas calculate the relative frequencies?\n",
    "# ******************************************************************************************\n",
    "# 30 / the number of non-missing values. (714 in de denominator because we have 714 non-missing values in the age column)\n",
    "# we set the dropna parameter to False to include the missing values in the denominator.\n",
    "# so in the denominator, we have 714 + 177 = 891, so we have the total number of elements in the series.\n",
    "# ******************************************************************************************\n",
    "age.value_counts(dropna=False, normalize=True), (30 / age.count()), (30 / age.size), (30 / len(age))"
   ]
  },
  {
   "cell_type": "code",
   "execution_count": null,
   "metadata": {},
   "outputs": [
    {
     "data": {
      "text/plain": [
       "(0.339, 16.336]     0.112233\n",
       "(16.336, 32.252]    0.388328\n",
       "(32.252, 48.168]    0.210999\n",
       "(48.168, 64.084]    0.077441\n",
       "(64.084, 80.0]      0.012346\n",
       "Name: proportion, dtype: float64"
      ]
     },
     "metadata": {},
     "output_type": "display_data"
    }
   ],
   "source": [
    "# bins parameter to group the unique values into half open intervals\n",
    "# ******************************************************************************************\n",
    "# So we have bins and here we can group the unique values into half open equal width bins.\n",
    "# ******************************************************************************************\n",
    "# include sort parameter to sort the bins by the index\n",
    "age.value_counts(dropna=False, normalize=True, bins=5, sort=False)"
   ]
  },
  {
   "cell_type": "code",
   "execution_count": null,
   "metadata": {},
   "outputs": [
    {
     "data": {
      "text/plain": [
       "(0.339, 16.336]     100\n",
       "(16.336, 32.252]    346\n",
       "(32.252, 48.168]    188\n",
       "(48.168, 64.084]     69\n",
       "(64.084, 80.0]       11\n",
       "Name: count, dtype: int64"
      ]
     },
     "metadata": {},
     "output_type": "display_data"
    }
   ],
   "source": [
    "# normalize parameter to False to return the absolute frequencies\n",
    "# ******************************************************************************************\n",
    "age.value_counts(dropna=False, normalize=False, bins=5, sort=False)"
   ]
  },
  {
   "cell_type": "code",
   "execution_count": null,
   "metadata": {},
   "outputs": [],
   "source": []
  },
  {
   "cell_type": "code",
   "execution_count": null,
   "metadata": {},
   "outputs": [
    {
     "data": {
      "text/plain": [
       "fare\n",
       "8.0500     43\n",
       "13.0000    42\n",
       "7.8958     38\n",
       "7.7500     34\n",
       "26.0000    31\n",
       "           ..\n",
       "13.8583     1\n",
       "50.4958     1\n",
       "5.0000      1\n",
       "9.8458      1\n",
       "10.5167     1\n",
       "Name: count, Length: 248, dtype: int64"
      ]
     },
     "metadata": {},
     "output_type": "display_data"
    }
   ],
   "source": [
    "fare = titanic[\"fare\"]\n",
    "fare.value_counts(ascending=False)"
   ]
  },
  {
   "cell_type": "code",
   "execution_count": null,
   "metadata": {},
   "outputs": [
    {
     "name": "stdout",
     "output_type": "stream",
     "text": [
      "8.05\n",
      "43\n",
      "71.2833\n",
      "1\n"
     ]
    },
    {
     "data": {
      "text/plain": [
       "(None, None)"
      ]
     },
     "metadata": {},
     "output_type": "display_data"
    }
   ],
   "source": [
    "# Use value_counts() on the column \"fare\" and then select the first element in the Index.\n",
    "print(fare.value_counts(ascending=False).idxmax()), print(fare.value_counts(ascending=False).max()),\n",
    "print(fare.value_counts(ascending=True).idxmin()), print(fare.value_counts(ascending=True).min())"
   ]
  },
  {
   "cell_type": "markdown",
   "metadata": {},
   "source": [
    "##### Analyzing NON-numerical Series with unique(), nunique(), value_counts()"
   ]
  },
  {
   "cell_type": "code",
   "execution_count": null,
   "metadata": {},
   "outputs": [
    {
     "data": {
      "text/html": [
       "<div>\n",
       "<style scoped>\n",
       "    .dataframe tbody tr th:only-of-type {\n",
       "        vertical-align: middle;\n",
       "    }\n",
       "\n",
       "    .dataframe tbody tr th {\n",
       "        vertical-align: top;\n",
       "    }\n",
       "\n",
       "    .dataframe thead th {\n",
       "        text-align: right;\n",
       "    }\n",
       "</style>\n",
       "<table border=\"1\" class=\"dataframe\">\n",
       "  <thead>\n",
       "    <tr style=\"text-align: right;\">\n",
       "      <th></th>\n",
       "      <th>Year</th>\n",
       "      <th>City</th>\n",
       "      <th>Sport</th>\n",
       "      <th>Discipline</th>\n",
       "      <th>Athlete</th>\n",
       "      <th>Country</th>\n",
       "      <th>Gender</th>\n",
       "      <th>Event</th>\n",
       "      <th>Medal</th>\n",
       "    </tr>\n",
       "  </thead>\n",
       "  <tbody>\n",
       "    <tr>\n",
       "      <th>0</th>\n",
       "      <td>1896</td>\n",
       "      <td>Athens</td>\n",
       "      <td>Aquatics</td>\n",
       "      <td>Swimming</td>\n",
       "      <td>HAJOS, Alfred</td>\n",
       "      <td>HUN</td>\n",
       "      <td>Men</td>\n",
       "      <td>100M Freestyle</td>\n",
       "      <td>Gold</td>\n",
       "    </tr>\n",
       "    <tr>\n",
       "      <th>1</th>\n",
       "      <td>1896</td>\n",
       "      <td>Athens</td>\n",
       "      <td>Aquatics</td>\n",
       "      <td>Swimming</td>\n",
       "      <td>HERSCHMANN, Otto</td>\n",
       "      <td>AUT</td>\n",
       "      <td>Men</td>\n",
       "      <td>100M Freestyle</td>\n",
       "      <td>Silver</td>\n",
       "    </tr>\n",
       "    <tr>\n",
       "      <th>2</th>\n",
       "      <td>1896</td>\n",
       "      <td>Athens</td>\n",
       "      <td>Aquatics</td>\n",
       "      <td>Swimming</td>\n",
       "      <td>DRIVAS, Dimitrios</td>\n",
       "      <td>GRE</td>\n",
       "      <td>Men</td>\n",
       "      <td>100M Freestyle For Sailors</td>\n",
       "      <td>Bronze</td>\n",
       "    </tr>\n",
       "    <tr>\n",
       "      <th>3</th>\n",
       "      <td>1896</td>\n",
       "      <td>Athens</td>\n",
       "      <td>Aquatics</td>\n",
       "      <td>Swimming</td>\n",
       "      <td>MALOKINIS, Ioannis</td>\n",
       "      <td>GRE</td>\n",
       "      <td>Men</td>\n",
       "      <td>100M Freestyle For Sailors</td>\n",
       "      <td>Gold</td>\n",
       "    </tr>\n",
       "    <tr>\n",
       "      <th>4</th>\n",
       "      <td>1896</td>\n",
       "      <td>Athens</td>\n",
       "      <td>Aquatics</td>\n",
       "      <td>Swimming</td>\n",
       "      <td>CHASAPIS, Spiridon</td>\n",
       "      <td>GRE</td>\n",
       "      <td>Men</td>\n",
       "      <td>100M Freestyle For Sailors</td>\n",
       "      <td>Silver</td>\n",
       "    </tr>\n",
       "  </tbody>\n",
       "</table>\n",
       "</div>"
      ],
      "text/plain": [
       "   Year    City     Sport Discipline             Athlete Country Gender  \\\n",
       "0  1896  Athens  Aquatics   Swimming       HAJOS, Alfred     HUN    Men   \n",
       "1  1896  Athens  Aquatics   Swimming    HERSCHMANN, Otto     AUT    Men   \n",
       "2  1896  Athens  Aquatics   Swimming   DRIVAS, Dimitrios     GRE    Men   \n",
       "3  1896  Athens  Aquatics   Swimming  MALOKINIS, Ioannis     GRE    Men   \n",
       "4  1896  Athens  Aquatics   Swimming  CHASAPIS, Spiridon     GRE    Men   \n",
       "\n",
       "                        Event   Medal  \n",
       "0              100M Freestyle    Gold  \n",
       "1              100M Freestyle  Silver  \n",
       "2  100M Freestyle For Sailors  Bronze  \n",
       "3  100M Freestyle For Sailors    Gold  \n",
       "4  100M Freestyle For Sailors  Silver  "
      ]
     },
     "metadata": {},
     "output_type": "display_data"
    }
   ],
   "source": [
    "import pandas as pd\n",
    "summer = pd.read_csv(r\"C:\\Users\\aitor\\OneDrive\\Desktop\\FRED\\course_env\\Pandas_2025\\onthego_materials\\Course_Materials_Part1\\Video_Lecture_NBs\\summer.csv\")\n",
    "summer.head()"
   ]
  },
  {
   "cell_type": "code",
   "execution_count": null,
   "metadata": {},
   "outputs": [
    {
     "name": "stdout",
     "output_type": "stream",
     "text": [
      "<class 'pandas.core.frame.DataFrame'>\n",
      "RangeIndex: 31165 entries, 0 to 31164\n",
      "Data columns (total 9 columns):\n",
      " #   Column      Non-Null Count  Dtype \n",
      "---  ------      --------------  ----- \n",
      " 0   Year        31165 non-null  int64 \n",
      " 1   City        31165 non-null  object\n",
      " 2   Sport       31165 non-null  object\n",
      " 3   Discipline  31165 non-null  object\n",
      " 4   Athlete     31165 non-null  object\n",
      " 5   Country     31161 non-null  object\n",
      " 6   Gender      31165 non-null  object\n",
      " 7   Event       31165 non-null  object\n",
      " 8   Medal       31165 non-null  object\n",
      "dtypes: int64(1), object(8)\n",
      "memory usage: 2.1+ MB\n"
     ]
    }
   ],
   "source": [
    "summer.info()"
   ]
  },
  {
   "cell_type": "code",
   "execution_count": null,
   "metadata": {},
   "outputs": [
    {
     "data": {
      "text/plain": [
       "(0         HAJOS, Alfred\n",
       " 1      HERSCHMANN, Otto\n",
       " 2     DRIVAS, Dimitrios\n",
       " 3    MALOKINIS, Ioannis\n",
       " 4    CHASAPIS, Spiridon\n",
       " Name: Athlete, dtype: object,\n",
       " pandas.core.series.Series)"
      ]
     },
     "metadata": {},
     "output_type": "display_data"
    }
   ],
   "source": [
    "athlete = summer[\"Athlete\"]\n",
    "athlete.head(), type(athlete)"
   ]
  },
  {
   "cell_type": "code",
   "execution_count": null,
   "metadata": {},
   "outputs": [
    {
     "data": {
      "text/plain": [
       "(dtype('O'),\n",
       " 31165,\n",
       " np.int64(31165),\n",
       " (31165,),\n",
       " RangeIndex(start=0, stop=31165, step=1))"
      ]
     },
     "metadata": {},
     "output_type": "display_data"
    }
   ],
   "source": [
    "athlete.dtypes, athlete.size, athlete.count(), athlete.shape, athlete.index"
   ]
  },
  {
   "cell_type": "code",
   "execution_count": null,
   "metadata": {},
   "outputs": [
    {
     "data": {
      "text/plain": [
       "count               31165\n",
       "unique              22762\n",
       "top       PHELPS, Michael\n",
       "freq                   22\n",
       "Name: Athlete, dtype: object"
      ]
     },
     "metadata": {},
     "output_type": "display_data"
    }
   ],
   "source": [
    "athlete.describe()"
   ]
  },
  {
   "cell_type": "code",
   "execution_count": null,
   "metadata": {},
   "outputs": [
    {
     "data": {
      "text/plain": [
       "('AABYE, Edgar',\n",
       " 'ÖSTRAND, Per-Olof',\n",
       " array(['HAJOS, Alfred', 'HERSCHMANN, Otto', 'DRIVAS, Dimitrios', ...,\n",
       "        'TOTROV, Rustam', 'ALEKSANYAN, Artur', 'LIDBERG, Jimmy'],\n",
       "       dtype=object),\n",
       " 22762,\n",
       " 22762)"
      ]
     },
     "metadata": {},
     "output_type": "display_data"
    }
   ],
   "source": [
    "# alphabetically sorted\n",
    "# ******************************************************************************************\n",
    "# athlete.unique(), len(athlete.unique()), athlete.nunique() - check the difference between unique and nunique\n",
    "# ******************************************************************************************\n",
    "athlete.min(), athlete.max(), athlete.unique(), len(athlete.unique()), athlete.nunique()"
   ]
  },
  {
   "cell_type": "code",
   "execution_count": null,
   "metadata": {},
   "outputs": [
    {
     "data": {
      "text/plain": [
       "Athlete\n",
       "PHELPS, Michael             22\n",
       "LATYNINA, Larisa            18\n",
       "ANDRIANOV, Nikolay          15\n",
       "ONO, Takashi                13\n",
       "MANGIAROTTI, Edoardo        13\n",
       "                            ..\n",
       "UNDA, Maider                 1\n",
       "BURROUGHS, Jordan Ernest     1\n",
       "GOUDARZI, Sadegh Saeed       1\n",
       "HATOS, Gabor                 1\n",
       "TSARGUSH, Denis              1\n",
       "Name: count, Length: 22762, dtype: int64"
      ]
     },
     "metadata": {},
     "output_type": "display_data"
    }
   ],
   "source": [
    "athlete.value_counts()"
   ]
  },
  {
   "cell_type": "code",
   "execution_count": null,
   "metadata": {},
   "outputs": [
    {
     "data": {
      "text/plain": [
       "Athlete\n",
       "TANATAROV, Akzhurek          1\n",
       "VOROBIEVA, Natalia           1\n",
       "HRISTOVA, Stanka Zlateva     1\n",
       "MANYUROVA, Guzel             1\n",
       "UNDA, Maider                 1\n",
       "                            ..\n",
       "MANGIAROTTI, Edoardo        13\n",
       "ONO, Takashi                13\n",
       "ANDRIANOV, Nikolay          15\n",
       "LATYNINA, Larisa            18\n",
       "PHELPS, Michael             22\n",
       "Name: count, Length: 22762, dtype: int64"
      ]
     },
     "metadata": {},
     "output_type": "display_data"
    }
   ],
   "source": [
    "athlete.value_counts(sort=True, ascending=True)"
   ]
  },
  {
   "cell_type": "code",
   "execution_count": null,
   "metadata": {},
   "outputs": [
    {
     "data": {
      "text/plain": [
       "Athlete\n",
       "PHELPS, Michael         0.000706\n",
       "LATYNINA, Larisa        0.000578\n",
       "ANDRIANOV, Nikolay      0.000481\n",
       "ONO, Takashi            0.000417\n",
       "MANGIAROTTI, Edoardo    0.000417\n",
       "Name: proportion, dtype: float64"
      ]
     },
     "metadata": {},
     "output_type": "display_data"
    }
   ],
   "source": [
    "# Phelps, Michael has the most medals - 22/31165 = 0.0007069104\n",
    "# ******************************************************************************************\n",
    "athlete.value_counts(sort=True, ascending=False, normalize=True).head()"
   ]
  },
  {
   "cell_type": "markdown",
   "metadata": {},
   "source": [
    "##### Creating Pandas Series (Part 1)"
   ]
  },
  {
   "cell_type": "code",
   "execution_count": null,
   "metadata": {},
   "outputs": [],
   "source": [
    "import pandas as pd"
   ]
  },
  {
   "cell_type": "code",
   "execution_count": null,
   "metadata": {},
   "outputs": [
    {
     "data": {
      "text/plain": [
       "0                    HAJOS, Alfred\n",
       "1                 HERSCHMANN, Otto\n",
       "2                DRIVAS, Dimitrios\n",
       "3               MALOKINIS, Ioannis\n",
       "4               CHASAPIS, Spiridon\n",
       "                   ...            \n",
       "31160           JANIKOWSKI, Damian\n",
       "31161    REZAEI, Ghasem Gholamreza\n",
       "31162               TOTROV, Rustam\n",
       "31163            ALEKSANYAN, Artur\n",
       "31164               LIDBERG, Jimmy\n",
       "Name: Athlete, Length: 31165, dtype: object"
      ]
     },
     "metadata": {},
     "output_type": "display_data"
    }
   ],
   "source": [
    "# ******************************************************************************************\n",
    "# from dataframe\n",
    "# ******************************************************************************************\n",
    "summer = pd.read_csv(r\"C:\\Users\\aitor\\OneDrive\\Desktop\\FRED\\course_env\\Pandas_2025\\onthego_materials\\Course_Materials_Part1\\Video_Lecture_NBs\\summer.csv\")\n",
    "summer.Athlete"
   ]
  },
  {
   "cell_type": "code",
   "execution_count": null,
   "metadata": {},
   "outputs": [
    {
     "data": {
      "text/plain": [
       "Year                    1896\n",
       "City                  Athens\n",
       "Sport               Aquatics\n",
       "Discipline          Swimming\n",
       "Athlete        HAJOS, Alfred\n",
       "Country                  HUN\n",
       "Gender                   Men\n",
       "Event         100M Freestyle\n",
       "Medal                   Gold\n",
       "Name: 0, dtype: object"
      ]
     },
     "metadata": {},
     "output_type": "display_data"
    }
   ],
   "source": [
    "summer.iloc[0]"
   ]
  },
  {
   "cell_type": "code",
   "execution_count": null,
   "metadata": {},
   "outputs": [
    {
     "data": {
      "text/plain": [
       "0                    HAJOS, Alfred\n",
       "1                 HERSCHMANN, Otto\n",
       "2                DRIVAS, Dimitrios\n",
       "3               MALOKINIS, Ioannis\n",
       "4               CHASAPIS, Spiridon\n",
       "                   ...            \n",
       "31160           JANIKOWSKI, Damian\n",
       "31161    REZAEI, Ghasem Gholamreza\n",
       "31162               TOTROV, Rustam\n",
       "31163            ALEKSANYAN, Artur\n",
       "31164               LIDBERG, Jimmy\n",
       "Name: Athlete, Length: 31165, dtype: object"
      ]
     },
     "metadata": {},
     "output_type": "display_data"
    }
   ],
   "source": [
    "# ******************************************************************************************\n",
    "# importing from csv\n",
    "# ******************************************************************************************\n",
    "# .squeeze() will return a series if there is only one column\n",
    "pd.read_csv(r\"C:\\Users\\aitor\\OneDrive\\Desktop\\FRED\\course_env\\Pandas_2025\\onthego_materials\\Course_Materials_Part1\\Video_Lecture_NBs\\summer.csv\", usecols=[\"Athlete\"]).squeeze()"
   ]
  },
  {
   "cell_type": "code",
   "execution_count": null,
   "metadata": {},
   "outputs": [
    {
     "data": {
      "text/plain": [
       "0    10\n",
       "1    25\n",
       "2     6\n",
       "3    36\n",
       "4     2\n",
       "dtype: int64"
      ]
     },
     "metadata": {},
     "output_type": "display_data"
    }
   ],
   "source": [
    "# ******************************************************************************************\n",
    "# creating from scratch with pd.Series()\n",
    "# ******************************************************************************************\n",
    "pd.Series([10,25,6,36,2])"
   ]
  },
  {
   "cell_type": "code",
   "execution_count": null,
   "metadata": {},
   "outputs": [
    {
     "data": {
      "text/plain": [
       "Mon    10\n",
       "Tue    25\n",
       "Wed     6\n",
       "Thu    36\n",
       "Fri     2\n",
       "dtype: int64"
      ]
     },
     "metadata": {},
     "output_type": "display_data"
    }
   ],
   "source": [
    "pd.Series([10,25,6,36,2], index=[\"Mon\", \"Tue\", \"Wed\", \"Thu\", \"Fri\"])"
   ]
  },
  {
   "cell_type": "code",
   "execution_count": null,
   "metadata": {},
   "outputs": [
    {
     "data": {
      "text/plain": [
       "Mon    10\n",
       "Tue    25\n",
       "Wed     6\n",
       "Thu    36\n",
       "Fri     2\n",
       "Name: Sales, dtype: int64"
      ]
     },
     "metadata": {},
     "output_type": "display_data"
    }
   ],
   "source": [
    "# give it a name\n",
    "pd.Series([10,25,6,36,2], index=[\"Mon\", \"Tue\", \"Wed\", \"Thu\", \"Fri\"], name=\"Sales\")"
   ]
  },
  {
   "cell_type": "markdown",
   "metadata": {},
   "source": [
    "##### Creating Pandas Series (Part 2)"
   ]
  },
  {
   "cell_type": "code",
   "execution_count": null,
   "metadata": {},
   "outputs": [
    {
     "data": {
      "text/plain": [
       "array([10, 25,  6, 36,  2])"
      ]
     },
     "metadata": {},
     "output_type": "display_data"
    }
   ],
   "source": [
    "# ******************************************************************************************\n",
    "# from numpy array\n",
    "# ******************************************************************************************\n",
    "import pandas as pd\n",
    "import numpy as np\n",
    "sales = np.array([10,25,6,36,2])\n",
    "sales"
   ]
  },
  {
   "cell_type": "code",
   "execution_count": null,
   "metadata": {},
   "outputs": [
    {
     "data": {
      "text/plain": [
       "0    10\n",
       "1    25\n",
       "2     6\n",
       "3    36\n",
       "4     2\n",
       "dtype: int64"
      ]
     },
     "metadata": {},
     "output_type": "display_data"
    }
   ],
   "source": [
    "pd.Series(sales)"
   ]
  },
  {
   "cell_type": "code",
   "execution_count": null,
   "metadata": {},
   "outputs": [
    {
     "data": {
      "text/plain": [
       "Mon    10\n",
       "Tue    25\n",
       "Wed     6\n",
       "Thu    36\n",
       "Fri     2\n",
       "Name: Sales, dtype: int64"
      ]
     },
     "metadata": {},
     "output_type": "display_data"
    }
   ],
   "source": [
    "# ******************************************************************************************\n",
    "# from a list, tuple ...\n",
    "# ******************************************************************************************\n",
    "sales = [10,25,6,36,2]\n",
    "pd.Series(sales,index=[\"Mon\", \"Tue\", \"Wed\", \"Thu\", \"Fri\"], name=\"Sales\")"
   ]
  },
  {
   "cell_type": "code",
   "execution_count": null,
   "metadata": {},
   "outputs": [
    {
     "data": {
      "text/plain": [
       "Mon    10\n",
       "Tue    25\n",
       "Wed     6\n",
       "Thu    36\n",
       "Fri     2\n",
       "dtype: int64"
      ]
     },
     "metadata": {},
     "output_type": "display_data"
    }
   ],
   "source": [
    "# ******************************************************************************************\n",
    "# from a dictionary\n",
    "# keys will be the index labels and values will be the data\n",
    "# ******************************************************************************************\n",
    "dic = {\"Mon\":10, \"Tue\":25, \"Wed\":6, \"Thu\":36, \"Fri\":2}\n",
    "sales = pd.Series(dic)\n",
    "sales"
   ]
  },
  {
   "cell_type": "code",
   "execution_count": null,
   "metadata": {},
   "outputs": [
    {
     "data": {
      "text/plain": [
       "Fri     2.0\n",
       "Sat     NaN\n",
       "Sun     NaN\n",
       "Mon    10.0\n",
       "Tue    25.0\n",
       "Wed     6.0\n",
       "dtype: float64"
      ]
     },
     "metadata": {},
     "output_type": "display_data"
    }
   ],
   "source": [
    "# conflict between the dictionary keys and the index parameter\n",
    "# ******************************************************************************************\n",
    "# And what Python or Pandas actually does. It compares our new index to the keys of our dictionary. And where we have the same label.\n",
    "# So for example, Friday. So Friday is now a new index and also now a dictionary. And on Friday, we had a sales of 2.\n",
    "# ******************************************************************************************\n",
    "# So now what happened with the new labels Saturday and Sunday, which were not originally in our dictionary?\n",
    "# And we have Saturday and Sunday as index labels and our new Panda series. But we get here missing values or Nan values because in our dictionary there is no Saturday and Sunday, no values for it.\n",
    "# ******************************************************************************************\n",
    "# Thrusday is in the dictionary, but it is not in the index parameter. So we have a conflict here.\n",
    "# ******************************************************************************************\n",
    "pd.Series(dic, index=[\"Fri\", \"Sat\", \"Sun\", \"Mon\", \"Tue\", \"Wed\"])"
   ]
  },
  {
   "cell_type": "code",
   "execution_count": null,
   "metadata": {},
   "outputs": [
    {
     "data": {
      "text/plain": [
       "1   NaN\n",
       "2   NaN\n",
       "3   NaN\n",
       "4   NaN\n",
       "5   NaN\n",
       "dtype: float64"
      ]
     },
     "metadata": {},
     "output_type": "display_data"
    }
   ],
   "source": [
    "pd.Series(dic, index=[1,2,3,4,5])"
   ]
  },
  {
   "cell_type": "markdown",
   "metadata": {},
   "source": [
    "##### Indexing and Slicing Pandas Series"
   ]
  },
  {
   "cell_type": "code",
   "execution_count": null,
   "metadata": {},
   "outputs": [
    {
     "data": {
      "text/html": [
       "<div>\n",
       "<style scoped>\n",
       "    .dataframe tbody tr th:only-of-type {\n",
       "        vertical-align: middle;\n",
       "    }\n",
       "\n",
       "    .dataframe tbody tr th {\n",
       "        vertical-align: top;\n",
       "    }\n",
       "\n",
       "    .dataframe thead th {\n",
       "        text-align: right;\n",
       "    }\n",
       "</style>\n",
       "<table border=\"1\" class=\"dataframe\">\n",
       "  <thead>\n",
       "    <tr style=\"text-align: right;\">\n",
       "      <th></th>\n",
       "      <th>survived</th>\n",
       "      <th>pclass</th>\n",
       "      <th>sex</th>\n",
       "      <th>age</th>\n",
       "      <th>sibsp</th>\n",
       "      <th>parch</th>\n",
       "      <th>fare</th>\n",
       "      <th>embarked</th>\n",
       "      <th>deck</th>\n",
       "    </tr>\n",
       "  </thead>\n",
       "  <tbody>\n",
       "    <tr>\n",
       "      <th>0</th>\n",
       "      <td>0</td>\n",
       "      <td>3</td>\n",
       "      <td>male</td>\n",
       "      <td>22.0</td>\n",
       "      <td>1</td>\n",
       "      <td>0</td>\n",
       "      <td>7.2500</td>\n",
       "      <td>S</td>\n",
       "      <td>NaN</td>\n",
       "    </tr>\n",
       "    <tr>\n",
       "      <th>1</th>\n",
       "      <td>1</td>\n",
       "      <td>1</td>\n",
       "      <td>female</td>\n",
       "      <td>38.0</td>\n",
       "      <td>1</td>\n",
       "      <td>0</td>\n",
       "      <td>71.2833</td>\n",
       "      <td>C</td>\n",
       "      <td>C</td>\n",
       "    </tr>\n",
       "    <tr>\n",
       "      <th>2</th>\n",
       "      <td>1</td>\n",
       "      <td>3</td>\n",
       "      <td>female</td>\n",
       "      <td>26.0</td>\n",
       "      <td>0</td>\n",
       "      <td>0</td>\n",
       "      <td>7.9250</td>\n",
       "      <td>S</td>\n",
       "      <td>NaN</td>\n",
       "    </tr>\n",
       "    <tr>\n",
       "      <th>3</th>\n",
       "      <td>1</td>\n",
       "      <td>1</td>\n",
       "      <td>female</td>\n",
       "      <td>35.0</td>\n",
       "      <td>1</td>\n",
       "      <td>0</td>\n",
       "      <td>53.1000</td>\n",
       "      <td>S</td>\n",
       "      <td>C</td>\n",
       "    </tr>\n",
       "    <tr>\n",
       "      <th>4</th>\n",
       "      <td>0</td>\n",
       "      <td>3</td>\n",
       "      <td>male</td>\n",
       "      <td>35.0</td>\n",
       "      <td>0</td>\n",
       "      <td>0</td>\n",
       "      <td>8.0500</td>\n",
       "      <td>S</td>\n",
       "      <td>NaN</td>\n",
       "    </tr>\n",
       "  </tbody>\n",
       "</table>\n",
       "</div>"
      ],
      "text/plain": [
       "   survived  pclass     sex   age  sibsp  parch     fare embarked deck\n",
       "0         0       3    male  22.0      1      0   7.2500        S  NaN\n",
       "1         1       1  female  38.0      1      0  71.2833        C    C\n",
       "2         1       3  female  26.0      0      0   7.9250        S  NaN\n",
       "3         1       1  female  35.0      1      0  53.1000        S    C\n",
       "4         0       3    male  35.0      0      0   8.0500        S  NaN"
      ]
     },
     "metadata": {},
     "output_type": "display_data"
    }
   ],
   "source": [
    "import pandas as pd\n",
    "titanic = pd.read_csv(r\"C:\\Users\\aitor\\OneDrive\\Desktop\\FRED\\course_env\\Pandas_2025\\onthego_materials\\Course_Materials_Part1\\Video_Lecture_NBs\\titanic.csv\")\n",
    "titanic.head()"
   ]
  },
  {
   "cell_type": "code",
   "execution_count": null,
   "metadata": {},
   "outputs": [
    {
     "data": {
      "text/plain": [
       "(0    22.0\n",
       " 1    38.0\n",
       " 2    26.0\n",
       " 3    35.0\n",
       " 4    35.0\n",
       " Name: age, dtype: float64,\n",
       " 886    27.0\n",
       " 887    19.0\n",
       " 888     NaN\n",
       " 889    26.0\n",
       " 890    32.0\n",
       " Name: age, dtype: float64,\n",
       " RangeIndex(start=0, stop=891, step=1))"
      ]
     },
     "metadata": {},
     "output_type": "display_data"
    }
   ],
   "source": [
    "age = titanic[\"age\"]\n",
    "age.head(), age.tail(), age.index"
   ]
  },
  {
   "cell_type": "code",
   "execution_count": null,
   "metadata": {},
   "outputs": [
    {
     "data": {
      "text/plain": [
       "(np.float64(22.0),\n",
       " np.float64(38.0),\n",
       " np.float64(26.0),\n",
       " np.float64(35.0),\n",
       " np.float64(35.0),\n",
       " np.float64(32.0),\n",
       " np.float64(26.0),\n",
       " np.float64(nan))"
      ]
     },
     "metadata": {},
     "output_type": "display_data"
    }
   ],
   "source": [
    "# ******************************************************************************************\n",
    "# And with a range index, we do not really know if we are doing now position based indexing or label based indexing because the range index labels are identical to the position.\n",
    "# ******************************************************************************************\n",
    "# age[-1] - ValueError: -1 is not in range - we cannot use negative values with a range index - we use iloc instead\n",
    "# ******************************************************************************************\n",
    "age[0], age[1], age[2], age[3], age[4], age.iloc[-1], age.iloc[-2], age.iloc[-3]"
   ]
  },
  {
   "cell_type": "code",
   "execution_count": null,
   "metadata": {},
   "outputs": [
    {
     "data": {
      "text/plain": [
       "(3    35.0\n",
       " 4    35.0\n",
       " Name: age, dtype: float64,\n",
       " 0    22.0\n",
       " 1    38.0\n",
       " 2    26.0\n",
       " Name: age, dtype: float64)"
      ]
     },
     "metadata": {},
     "output_type": "display_data"
    }
   ],
   "source": [
    "# So here now slicing with spare brackets behaves like position based indexing and before with the -1. It didn't behave like position based indexing.\n",
    "age[[3,4]], age[:3]"
   ]
  },
  {
   "cell_type": "code",
   "execution_count": null,
   "metadata": {},
   "outputs": [],
   "source": [
    "# ******************************************************************************************\n",
    "# The most appropriate behavior is to use the loc method for label based indexing and the iloc method for position based indexing.\n",
    "# ******************************************************************************************"
   ]
  },
  {
   "cell_type": "code",
   "execution_count": null,
   "metadata": {},
   "outputs": [
    {
     "data": {
      "text/html": [
       "<div>\n",
       "<style scoped>\n",
       "    .dataframe tbody tr th:only-of-type {\n",
       "        vertical-align: middle;\n",
       "    }\n",
       "\n",
       "    .dataframe tbody tr th {\n",
       "        vertical-align: top;\n",
       "    }\n",
       "\n",
       "    .dataframe thead th {\n",
       "        text-align: right;\n",
       "    }\n",
       "</style>\n",
       "<table border=\"1\" class=\"dataframe\">\n",
       "  <thead>\n",
       "    <tr style=\"text-align: right;\">\n",
       "      <th></th>\n",
       "      <th>Year</th>\n",
       "      <th>City</th>\n",
       "      <th>Sport</th>\n",
       "      <th>Discipline</th>\n",
       "      <th>Country</th>\n",
       "      <th>Gender</th>\n",
       "      <th>Event</th>\n",
       "      <th>Medal</th>\n",
       "    </tr>\n",
       "    <tr>\n",
       "      <th>Athlete</th>\n",
       "      <th></th>\n",
       "      <th></th>\n",
       "      <th></th>\n",
       "      <th></th>\n",
       "      <th></th>\n",
       "      <th></th>\n",
       "      <th></th>\n",
       "      <th></th>\n",
       "    </tr>\n",
       "  </thead>\n",
       "  <tbody>\n",
       "    <tr>\n",
       "      <th>HAJOS, Alfred</th>\n",
       "      <td>1896</td>\n",
       "      <td>Athens</td>\n",
       "      <td>Aquatics</td>\n",
       "      <td>Swimming</td>\n",
       "      <td>HUN</td>\n",
       "      <td>Men</td>\n",
       "      <td>100M Freestyle</td>\n",
       "      <td>Gold</td>\n",
       "    </tr>\n",
       "    <tr>\n",
       "      <th>HERSCHMANN, Otto</th>\n",
       "      <td>1896</td>\n",
       "      <td>Athens</td>\n",
       "      <td>Aquatics</td>\n",
       "      <td>Swimming</td>\n",
       "      <td>AUT</td>\n",
       "      <td>Men</td>\n",
       "      <td>100M Freestyle</td>\n",
       "      <td>Silver</td>\n",
       "    </tr>\n",
       "    <tr>\n",
       "      <th>DRIVAS, Dimitrios</th>\n",
       "      <td>1896</td>\n",
       "      <td>Athens</td>\n",
       "      <td>Aquatics</td>\n",
       "      <td>Swimming</td>\n",
       "      <td>GRE</td>\n",
       "      <td>Men</td>\n",
       "      <td>100M Freestyle For Sailors</td>\n",
       "      <td>Bronze</td>\n",
       "    </tr>\n",
       "    <tr>\n",
       "      <th>MALOKINIS, Ioannis</th>\n",
       "      <td>1896</td>\n",
       "      <td>Athens</td>\n",
       "      <td>Aquatics</td>\n",
       "      <td>Swimming</td>\n",
       "      <td>GRE</td>\n",
       "      <td>Men</td>\n",
       "      <td>100M Freestyle For Sailors</td>\n",
       "      <td>Gold</td>\n",
       "    </tr>\n",
       "    <tr>\n",
       "      <th>CHASAPIS, Spiridon</th>\n",
       "      <td>1896</td>\n",
       "      <td>Athens</td>\n",
       "      <td>Aquatics</td>\n",
       "      <td>Swimming</td>\n",
       "      <td>GRE</td>\n",
       "      <td>Men</td>\n",
       "      <td>100M Freestyle For Sailors</td>\n",
       "      <td>Silver</td>\n",
       "    </tr>\n",
       "  </tbody>\n",
       "</table>\n",
       "</div>"
      ],
      "text/plain": [
       "                    Year    City     Sport Discipline Country Gender  \\\n",
       "Athlete                                                                \n",
       "HAJOS, Alfred       1896  Athens  Aquatics   Swimming     HUN    Men   \n",
       "HERSCHMANN, Otto    1896  Athens  Aquatics   Swimming     AUT    Men   \n",
       "DRIVAS, Dimitrios   1896  Athens  Aquatics   Swimming     GRE    Men   \n",
       "MALOKINIS, Ioannis  1896  Athens  Aquatics   Swimming     GRE    Men   \n",
       "CHASAPIS, Spiridon  1896  Athens  Aquatics   Swimming     GRE    Men   \n",
       "\n",
       "                                         Event   Medal  \n",
       "Athlete                                                 \n",
       "HAJOS, Alfred                   100M Freestyle    Gold  \n",
       "HERSCHMANN, Otto                100M Freestyle  Silver  \n",
       "DRIVAS, Dimitrios   100M Freestyle For Sailors  Bronze  \n",
       "MALOKINIS, Ioannis  100M Freestyle For Sailors    Gold  \n",
       "CHASAPIS, Spiridon  100M Freestyle For Sailors  Silver  "
      ]
     },
     "metadata": {},
     "output_type": "display_data"
    }
   ],
   "source": [
    "summer = pd.read_csv(r\"C:\\Users\\aitor\\OneDrive\\Desktop\\FRED\\course_env\\Pandas_2025\\onthego_materials\\Course_Materials_Part1\\Video_Lecture_NBs\\summer.csv\", index_col=\"Athlete\")\n",
    "summer.head()"
   ]
  },
  {
   "cell_type": "code",
   "execution_count": null,
   "metadata": {},
   "outputs": [],
   "source": [
    "event = summer[\"Event\"]"
   ]
  },
  {
   "cell_type": "code",
   "execution_count": null,
   "metadata": {},
   "outputs": [
    {
     "data": {
      "text/plain": [
       "(Athlete\n",
       " HAJOS, Alfred                     100M Freestyle\n",
       " HERSCHMANN, Otto                  100M Freestyle\n",
       " DRIVAS, Dimitrios     100M Freestyle For Sailors\n",
       " MALOKINIS, Ioannis    100M Freestyle For Sailors\n",
       " CHASAPIS, Spiridon    100M Freestyle For Sailors\n",
       " Name: Event, dtype: object,\n",
       " '\\n',\n",
       " Athlete\n",
       " JANIKOWSKI, Damian           Wg 84 KG\n",
       " REZAEI, Ghasem Gholamreza    Wg 96 KG\n",
       " TOTROV, Rustam               Wg 96 KG\n",
       " ALEKSANYAN, Artur            Wg 96 KG\n",
       " LIDBERG, Jimmy               Wg 96 KG\n",
       " Name: Event, dtype: object)"
      ]
     },
     "metadata": {},
     "output_type": "display_data"
    }
   ],
   "source": [
    "event.head(), \"\\n\", event.tail()"
   ]
  },
  {
   "cell_type": "code",
   "execution_count": null,
   "metadata": {},
   "outputs": [
    {
     "data": {
      "text/plain": [
       "Index(['HAJOS, Alfred', 'HERSCHMANN, Otto', 'DRIVAS, Dimitrios',\n",
       "       'MALOKINIS, Ioannis', 'CHASAPIS, Spiridon', 'CHOROPHAS, Efstathios',\n",
       "       'HAJOS, Alfred', 'ANDREOU, Joannis', 'CHOROPHAS, Efstathios',\n",
       "       'NEUMANN, Paul',\n",
       "       ...\n",
       "       'AHMADOV, Emin', 'KAZAKEVIC, Aleksandr', 'KHUGAEV, Alan',\n",
       "       'EBRAHIM, Karam Mohamed Gaber', 'GAJIYEV, Danyal', 'JANIKOWSKI, Damian',\n",
       "       'REZAEI, Ghasem Gholamreza', 'TOTROV, Rustam', 'ALEKSANYAN, Artur',\n",
       "       'LIDBERG, Jimmy'],\n",
       "      dtype='object', name='Athlete', length=31165)"
      ]
     },
     "metadata": {},
     "output_type": "display_data"
    }
   ],
   "source": [
    "event.index"
   ]
  },
  {
   "cell_type": "code",
   "execution_count": null,
   "metadata": {},
   "outputs": [
    {
     "data": {
      "text/plain": [
       "('100M Freestyle', 'Wg 96 KG')"
      ]
     },
     "metadata": {},
     "output_type": "display_data"
    }
   ],
   "source": [
    "# And now here the position based indexing with minus one works, because here in this case, we have a index that is not a range index and Python knows exactly that we want to do here, position based indexing.\n",
    "# deprecated - event[0], event[-1]\n",
    "event.iloc[0], event.iloc[-1]"
   ]
  },
  {
   "cell_type": "code",
   "execution_count": null,
   "metadata": {},
   "outputs": [
    {
     "data": {
      "text/plain": [
       "Athlete\n",
       "HAJOS, Alfred                    100M Freestyle\n",
       "HERSCHMANN, Otto                 100M Freestyle\n",
       "DRIVAS, Dimitrios    100M Freestyle For Sailors\n",
       "Name: Event, dtype: object"
      ]
     },
     "metadata": {},
     "output_type": "display_data"
    }
   ],
   "source": [
    "event.iloc[:3]"
   ]
  },
  {
   "cell_type": "code",
   "execution_count": null,
   "metadata": {},
   "outputs": [
    {
     "data": {
      "text/plain": [
       "'100M Freestyle For Sailors'"
      ]
     },
     "metadata": {},
     "output_type": "display_data"
    }
   ],
   "source": [
    "event[\"DRIVAS, Dimitrios\"]"
   ]
  },
  {
   "cell_type": "code",
   "execution_count": null,
   "metadata": {},
   "outputs": [
    {
     "data": {
      "text/plain": [
       "Athlete\n",
       "HAJOS, Alfred                    100M Freestyle\n",
       "HERSCHMANN, Otto                 100M Freestyle\n",
       "DRIVAS, Dimitrios    100M Freestyle For Sailors\n",
       "Name: Event, dtype: object"
      ]
     },
     "metadata": {},
     "output_type": "display_data"
    }
   ],
   "source": [
    "event[:\"DRIVAS, Dimitrios\"]"
   ]
  },
  {
   "cell_type": "code",
   "execution_count": null,
   "metadata": {},
   "outputs": [
    {
     "data": {
      "text/plain": [
       "Athlete\n",
       "PHELPS, Michael            100M Butterfly\n",
       "PHELPS, Michael            200M Butterfly\n",
       "PHELPS, Michael            200M Freestyle\n",
       "PHELPS, Michael    200M Individual Medley\n",
       "PHELPS, Michael    400M Individual Medley\n",
       "PHELPS, Michael    4X100M Freestyle Relay\n",
       "PHELPS, Michael       4X100M Medley Relay\n",
       "PHELPS, Michael    4X200M Freestyle Relay\n",
       "PHELPS, Michael            100M Butterfly\n",
       "PHELPS, Michael            200M Butterfly\n",
       "PHELPS, Michael            200M Freestyle\n",
       "PHELPS, Michael    200M Individual Medley\n",
       "PHELPS, Michael    400M Individual Medley\n",
       "PHELPS, Michael    4X100M Freestyle Relay\n",
       "PHELPS, Michael       4X100M Medley Relay\n",
       "PHELPS, Michael    4X200M Freestyle Relay\n",
       "PHELPS, Michael            100M Butterfly\n",
       "PHELPS, Michael            200M Butterfly\n",
       "PHELPS, Michael               200M Medley\n",
       "PHELPS, Michael          4X100M Freestyle\n",
       "PHELPS, Michael             4X100M Medley\n",
       "PHELPS, Michael          4X200M Freestyle\n",
       "Name: Event, dtype: object"
      ]
     },
     "metadata": {},
     "output_type": "display_data"
    }
   ],
   "source": [
    "event.loc[\"PHELPS, Michael\"]"
   ]
  },
  {
   "cell_type": "code",
   "execution_count": null,
   "metadata": {},
   "outputs": [
    {
     "data": {
      "text/plain": [
       "True"
      ]
     },
     "metadata": {},
     "output_type": "display_data"
    }
   ],
   "source": [
    "event.loc[\"PHELPS, Michael\"].equals(event[\"PHELPS, Michael\"])"
   ]
  },
  {
   "cell_type": "code",
   "execution_count": null,
   "metadata": {},
   "outputs": [
    {
     "data": {
      "text/plain": [
       "Athlete\n",
       "PHELPS, Michael            100M Butterfly\n",
       "PHELPS, Michael            200M Butterfly\n",
       "PHELPS, Michael            200M Freestyle\n",
       "PHELPS, Michael    200M Individual Medley\n",
       "PHELPS, Michael    400M Individual Medley\n",
       "PHELPS, Michael    4X100M Freestyle Relay\n",
       "PHELPS, Michael       4X100M Medley Relay\n",
       "PHELPS, Michael    4X200M Freestyle Relay\n",
       "PHELPS, Michael            100M Butterfly\n",
       "PHELPS, Michael            200M Butterfly\n",
       "PHELPS, Michael            200M Freestyle\n",
       "PHELPS, Michael    200M Individual Medley\n",
       "PHELPS, Michael    400M Individual Medley\n",
       "PHELPS, Michael    4X100M Freestyle Relay\n",
       "PHELPS, Michael       4X100M Medley Relay\n",
       "PHELPS, Michael    4X200M Freestyle Relay\n",
       "PHELPS, Michael            100M Butterfly\n",
       "PHELPS, Michael            200M Butterfly\n",
       "PHELPS, Michael               200M Medley\n",
       "PHELPS, Michael          4X100M Freestyle\n",
       "PHELPS, Michael             4X100M Medley\n",
       "PHELPS, Michael          4X200M Freestyle\n",
       "LEWIS, Carl                          100M\n",
       "LEWIS, Carl                          200M\n",
       "LEWIS, Carl                  4X100M Relay\n",
       "LEWIS, Carl                     Long Jump\n",
       "LEWIS, Carl                          100M\n",
       "LEWIS, Carl                          200M\n",
       "LEWIS, Carl                     Long Jump\n",
       "LEWIS, Carl                  4X100M Relay\n",
       "LEWIS, Carl                     Long Jump\n",
       "LEWIS, Carl                     Long Jump\n",
       "Name: Event, dtype: object"
      ]
     },
     "metadata": {},
     "output_type": "display_data"
    }
   ],
   "source": [
    "event.loc[[\"PHELPS, Michael\",\"LEWIS, Carl\"]]"
   ]
  },
  {
   "cell_type": "markdown",
   "metadata": {},
   "source": [
    "##### Sorting of Series and Introduction to the inplace - parameter"
   ]
  },
  {
   "cell_type": "code",
   "execution_count": null,
   "metadata": {},
   "outputs": [],
   "source": [
    "import pandas as pd"
   ]
  },
  {
   "cell_type": "code",
   "execution_count": null,
   "metadata": {},
   "outputs": [],
   "source": [
    "# ******************************************************************************************\n",
    "# we can sort pandas series by the index or by the values\n",
    "# ******************************************************************************************"
   ]
  },
  {
   "cell_type": "code",
   "execution_count": null,
   "metadata": {},
   "outputs": [
    {
     "data": {
      "text/plain": [
       "1    10.0\n",
       "3    25.0\n",
       "2     6.0\n",
       "4    36.0\n",
       "5     2.0\n",
       "6     0.0\n",
       "7     NaN\n",
       "dtype: float64"
      ]
     },
     "metadata": {},
     "output_type": "display_data"
    }
   ],
   "source": [
    "# monday yo sunday sales\n",
    "dic = {1:10, 3:25, 2:6, 4:36, 5:2, 6:0, 7:None}\n",
    "sales = pd.Series(dic)\n",
    "sales"
   ]
  },
  {
   "cell_type": "code",
   "execution_count": null,
   "metadata": {},
   "outputs": [
    {
     "data": {
      "text/plain": [
       "(1    10.0\n",
       " 2     6.0\n",
       " 3    25.0\n",
       " 4    36.0\n",
       " 5     2.0\n",
       " 6     0.0\n",
       " 7     NaN\n",
       " dtype: float64,\n",
       " 7     NaN\n",
       " 6     0.0\n",
       " 5     2.0\n",
       " 4    36.0\n",
       " 3    25.0\n",
       " 2     6.0\n",
       " 1    10.0\n",
       " dtype: float64)"
      ]
     },
     "metadata": {},
     "output_type": "display_data"
    }
   ],
   "source": [
    "# sort by index\n",
    "# ******************************************************************************************\n",
    "# inplace parameter here also, check sort by index to know the impact of inplace parameter\n",
    "# ******************************************************************************************\n",
    "sales.sort_index(), sales.sort_index(ascending=False)"
   ]
  },
  {
   "cell_type": "code",
   "execution_count": null,
   "metadata": {},
   "outputs": [
    {
     "data": {
      "text/plain": [
       "1    10.0\n",
       "3    25.0\n",
       "2     6.0\n",
       "4    36.0\n",
       "5     2.0\n",
       "6     0.0\n",
       "7     NaN\n",
       "dtype: float64"
      ]
     },
     "metadata": {},
     "output_type": "display_data"
    }
   ],
   "source": [
    "sales"
   ]
  },
  {
   "cell_type": "code",
   "execution_count": null,
   "metadata": {},
   "outputs": [
    {
     "data": {
      "text/plain": [
       "(6     0.0\n",
       " 5     2.0\n",
       " 2     6.0\n",
       " 1    10.0\n",
       " 3    25.0\n",
       " 4    36.0\n",
       " 7     NaN\n",
       " dtype: float64,\n",
       " 4    36.0\n",
       " 3    25.0\n",
       " 1    10.0\n",
       " 2     6.0\n",
       " 5     2.0\n",
       " 6     0.0\n",
       " 7     NaN\n",
       " dtype: float64)"
      ]
     },
     "metadata": {},
     "output_type": "display_data"
    }
   ],
   "source": [
    "# sort by values\n",
    "# ******************************************************************************************\n",
    "# by default, the missing values are placed at the end of the series\n",
    "# ******************************************************************************************\n",
    "# inplace parameter to sort the series in place\n",
    "# inplace = False by default - it returns a new series with the sorted values (the original series remains unchanged)\n",
    "# inplace = True - it sorts the series in place and returns None\n",
    "# ******************************************************************************************\n",
    "sales.sort_values(), sales.sort_values(ascending=False, inplace=False)"
   ]
  },
  {
   "cell_type": "code",
   "execution_count": null,
   "metadata": {},
   "outputs": [
    {
     "data": {
      "text/plain": [
       "1    10.0\n",
       "3    25.0\n",
       "2     6.0\n",
       "4    36.0\n",
       "5     2.0\n",
       "6     0.0\n",
       "7     NaN\n",
       "dtype: float64"
      ]
     },
     "metadata": {},
     "output_type": "display_data"
    }
   ],
   "source": [
    "sales"
   ]
  },
  {
   "cell_type": "code",
   "execution_count": null,
   "metadata": {},
   "outputs": [
    {
     "data": {
      "text/plain": [
       "6     0.0\n",
       "5     2.0\n",
       "2     6.0\n",
       "1    10.0\n",
       "3    25.0\n",
       "4    36.0\n",
       "7     NaN\n",
       "dtype: float64"
      ]
     },
     "metadata": {},
     "output_type": "display_data"
    }
   ],
   "source": [
    "# ******************************************************************************************\n",
    "# inplace = True will modify the original series\n",
    "# ******************************************************************************************\n",
    "sales.sort_values()"
   ]
  },
  {
   "cell_type": "code",
   "execution_count": null,
   "metadata": {},
   "outputs": [
    {
     "data": {
      "text/plain": [
       "1    10.0\n",
       "3    25.0\n",
       "2     6.0\n",
       "4    36.0\n",
       "5     2.0\n",
       "6     0.0\n",
       "7     NaN\n",
       "dtype: float64"
      ]
     },
     "metadata": {},
     "output_type": "display_data"
    }
   ],
   "source": [
    "sales"
   ]
  },
  {
   "cell_type": "code",
   "execution_count": null,
   "metadata": {},
   "outputs": [],
   "source": [
    "sales.sort_values(ascending=False, inplace=True)"
   ]
  },
  {
   "cell_type": "code",
   "execution_count": null,
   "metadata": {},
   "outputs": [
    {
     "data": {
      "text/plain": [
       "4    36.0\n",
       "3    25.0\n",
       "1    10.0\n",
       "2     6.0\n",
       "5     2.0\n",
       "6     0.0\n",
       "7     NaN\n",
       "dtype: float64"
      ]
     },
     "metadata": {},
     "output_type": "display_data"
    }
   ],
   "source": [
    "# inplace = True has modified the original series\n",
    "sales"
   ]
  },
  {
   "cell_type": "code",
   "execution_count": null,
   "metadata": {},
   "outputs": [
    {
     "data": {
      "text/plain": [
       "7     NaN\n",
       "6     0.0\n",
       "5     2.0\n",
       "2     6.0\n",
       "1    10.0\n",
       "3    25.0\n",
       "4    36.0\n",
       "dtype: float64"
      ]
     },
     "metadata": {},
     "output_type": "display_data"
    }
   ],
   "source": [
    "# ******************************************************************************************\n",
    "# change nan position - na_position parameter to change the position of the missing values\n",
    "# ******************************************************************************************\n",
    "# na_position = 'first' - missing values are placed at the beginning of the series\n",
    "# na_position = 'last' - missing values are placed at the end of the series\n",
    "# ******************************************************************************************\n",
    "sales.sort_values(na_position='first')"
   ]
  },
  {
   "cell_type": "code",
   "execution_count": null,
   "metadata": {},
   "outputs": [
    {
     "data": {
      "text/plain": [
       "4    36.0\n",
       "3    25.0\n",
       "1    10.0\n",
       "2     6.0\n",
       "5     2.0\n",
       "6     0.0\n",
       "7     NaN\n",
       "dtype: float64"
      ]
     },
     "metadata": {},
     "output_type": "display_data"
    }
   ],
   "source": [
    "sales"
   ]
  },
  {
   "cell_type": "code",
   "execution_count": null,
   "metadata": {},
   "outputs": [
    {
     "data": {
      "text/plain": [
       "Monday       10.0\n",
       "Tuesday      25.0\n",
       "Wednesday     6.0\n",
       "Thursday     36.0\n",
       "Friday        2.0\n",
       "Saturday      0.0\n",
       "Sunday        NaN\n",
       "dtype: float64"
      ]
     },
     "metadata": {},
     "output_type": "display_data"
    }
   ],
   "source": [
    "dic = {\"Monday\":10, \"Tuesday\":25, \"Wednesday\":6, \"Thursday\":36, \"Friday\":2, \"Saturday\":0, \"Sunday\":None}\n",
    "sales = pd.Series(dic)\n",
    "sales"
   ]
  },
  {
   "cell_type": "code",
   "execution_count": null,
   "metadata": {},
   "outputs": [
    {
     "data": {
      "text/plain": [
       "Friday        2.0\n",
       "Monday       10.0\n",
       "Saturday      0.0\n",
       "Sunday        NaN\n",
       "Thursday     36.0\n",
       "Tuesday      25.0\n",
       "Wednesday     6.0\n",
       "dtype: float64"
      ]
     },
     "metadata": {},
     "output_type": "display_data"
    }
   ],
   "source": [
    "# sort by index\n",
    "# ******************************************************************************************\n",
    "# in this case the index is a string and the sorting is done alphabetically\n",
    "# ******************************************************************************************\n",
    "sales.sort_index(ascending=True)"
   ]
  },
  {
   "cell_type": "markdown",
   "metadata": {},
   "source": [
    "##### nlargest() and nsmallest()"
   ]
  },
  {
   "cell_type": "code",
   "execution_count": null,
   "metadata": {},
   "outputs": [
    {
     "data": {
      "text/html": [
       "<div>\n",
       "<style scoped>\n",
       "    .dataframe tbody tr th:only-of-type {\n",
       "        vertical-align: middle;\n",
       "    }\n",
       "\n",
       "    .dataframe tbody tr th {\n",
       "        vertical-align: top;\n",
       "    }\n",
       "\n",
       "    .dataframe thead th {\n",
       "        text-align: right;\n",
       "    }\n",
       "</style>\n",
       "<table border=\"1\" class=\"dataframe\">\n",
       "  <thead>\n",
       "    <tr style=\"text-align: right;\">\n",
       "      <th></th>\n",
       "      <th>survived</th>\n",
       "      <th>pclass</th>\n",
       "      <th>sex</th>\n",
       "      <th>age</th>\n",
       "      <th>sibsp</th>\n",
       "      <th>parch</th>\n",
       "      <th>fare</th>\n",
       "      <th>embarked</th>\n",
       "      <th>deck</th>\n",
       "    </tr>\n",
       "  </thead>\n",
       "  <tbody>\n",
       "    <tr>\n",
       "      <th>0</th>\n",
       "      <td>0</td>\n",
       "      <td>3</td>\n",
       "      <td>male</td>\n",
       "      <td>22.0</td>\n",
       "      <td>1</td>\n",
       "      <td>0</td>\n",
       "      <td>7.2500</td>\n",
       "      <td>S</td>\n",
       "      <td>NaN</td>\n",
       "    </tr>\n",
       "    <tr>\n",
       "      <th>1</th>\n",
       "      <td>1</td>\n",
       "      <td>1</td>\n",
       "      <td>female</td>\n",
       "      <td>38.0</td>\n",
       "      <td>1</td>\n",
       "      <td>0</td>\n",
       "      <td>71.2833</td>\n",
       "      <td>C</td>\n",
       "      <td>C</td>\n",
       "    </tr>\n",
       "    <tr>\n",
       "      <th>2</th>\n",
       "      <td>1</td>\n",
       "      <td>3</td>\n",
       "      <td>female</td>\n",
       "      <td>26.0</td>\n",
       "      <td>0</td>\n",
       "      <td>0</td>\n",
       "      <td>7.9250</td>\n",
       "      <td>S</td>\n",
       "      <td>NaN</td>\n",
       "    </tr>\n",
       "    <tr>\n",
       "      <th>3</th>\n",
       "      <td>1</td>\n",
       "      <td>1</td>\n",
       "      <td>female</td>\n",
       "      <td>35.0</td>\n",
       "      <td>1</td>\n",
       "      <td>0</td>\n",
       "      <td>53.1000</td>\n",
       "      <td>S</td>\n",
       "      <td>C</td>\n",
       "    </tr>\n",
       "    <tr>\n",
       "      <th>4</th>\n",
       "      <td>0</td>\n",
       "      <td>3</td>\n",
       "      <td>male</td>\n",
       "      <td>35.0</td>\n",
       "      <td>0</td>\n",
       "      <td>0</td>\n",
       "      <td>8.0500</td>\n",
       "      <td>S</td>\n",
       "      <td>NaN</td>\n",
       "    </tr>\n",
       "  </tbody>\n",
       "</table>\n",
       "</div>"
      ],
      "text/plain": [
       "   survived  pclass     sex   age  sibsp  parch     fare embarked deck\n",
       "0         0       3    male  22.0      1      0   7.2500        S  NaN\n",
       "1         1       1  female  38.0      1      0  71.2833        C    C\n",
       "2         1       3  female  26.0      0      0   7.9250        S  NaN\n",
       "3         1       1  female  35.0      1      0  53.1000        S    C\n",
       "4         0       3    male  35.0      0      0   8.0500        S  NaN"
      ]
     },
     "metadata": {},
     "output_type": "display_data"
    }
   ],
   "source": [
    "import pandas as pd\n",
    "titanic = pd.read_csv(r\"C:\\Users\\aitor\\OneDrive\\Desktop\\FRED\\course_env\\Pandas_2025\\onthego_materials\\Course_Materials_Part1\\Video_Lecture_NBs\\titanic.csv\")\n",
    "titanic.head()"
   ]
  },
  {
   "cell_type": "code",
   "execution_count": null,
   "metadata": {},
   "outputs": [
    {
     "data": {
      "text/plain": [
       "0    22.0\n",
       "1    38.0\n",
       "2    26.0\n",
       "3    35.0\n",
       "4    35.0\n",
       "Name: age, dtype: float64"
      ]
     },
     "metadata": {},
     "output_type": "display_data"
    }
   ],
   "source": [
    "age = titanic[\"age\"]\n",
    "age.head()"
   ]
  },
  {
   "cell_type": "code",
   "execution_count": null,
   "metadata": {},
   "outputs": [
    {
     "data": {
      "text/plain": [
       "630    80.0\n",
       "851    74.0\n",
       "493    71.0\n",
       "Name: age, dtype: float64"
      ]
     },
     "metadata": {},
     "output_type": "display_data"
    }
   ],
   "source": [
    "# from oldest passenger to youngest passenger\n",
    "age.sort_values(ascending=False).head(3)"
   ]
  },
  {
   "cell_type": "code",
   "execution_count": null,
   "metadata": {},
   "outputs": [
    {
     "data": {
      "text/plain": [
       "0      22.0\n",
       "1      38.0\n",
       "2      26.0\n",
       "3      35.0\n",
       "4      35.0\n",
       "       ... \n",
       "886    27.0\n",
       "887    19.0\n",
       "888     NaN\n",
       "889    26.0\n",
       "890    32.0\n",
       "Name: age, Length: 891, dtype: float64"
      ]
     },
     "metadata": {},
     "output_type": "display_data"
    }
   ],
   "source": [
    "age"
   ]
  },
  {
   "cell_type": "code",
   "execution_count": null,
   "metadata": {},
   "outputs": [
    {
     "data": {
      "text/plain": [
       "630    80.0\n",
       "851    74.0\n",
       "96     71.0\n",
       "Name: age, dtype: float64"
      ]
     },
     "metadata": {},
     "output_type": "display_data"
    }
   ],
   "source": [
    "# age.sort_values(ascending=False).head(3)\n",
    "age.nlargest(3)"
   ]
  },
  {
   "cell_type": "code",
   "execution_count": null,
   "metadata": {},
   "outputs": [
    {
     "data": {
      "text/plain": [
       "803    0.42\n",
       "755    0.67\n",
       "469    0.75\n",
       "Name: age, dtype: float64"
      ]
     },
     "metadata": {},
     "output_type": "display_data"
    }
   ],
   "source": [
    "age.sort_values(ascending=True).head(3)"
   ]
  },
  {
   "cell_type": "code",
   "execution_count": null,
   "metadata": {},
   "outputs": [
    {
     "data": {
      "text/plain": [
       "0      22.0\n",
       "1      38.0\n",
       "2      26.0\n",
       "3      35.0\n",
       "4      35.0\n",
       "       ... \n",
       "886    27.0\n",
       "887    19.0\n",
       "888     NaN\n",
       "889    26.0\n",
       "890    32.0\n",
       "Name: age, Length: 891, dtype: float64"
      ]
     },
     "metadata": {},
     "output_type": "display_data"
    }
   ],
   "source": [
    "age"
   ]
  },
  {
   "cell_type": "code",
   "execution_count": null,
   "metadata": {},
   "outputs": [
    {
     "data": {
      "text/plain": [
       "803    0.42\n",
       "755    0.67\n",
       "469    0.75\n",
       "Name: age, dtype: float64"
      ]
     },
     "metadata": {},
     "output_type": "display_data"
    }
   ],
   "source": [
    "# age.sort_values(ascending=True).head(3)\n",
    "# age.sort_values(ascending=True).iloc[:3]\n",
    "age.nsmallest(3)"
   ]
  },
  {
   "cell_type": "code",
   "execution_count": null,
   "metadata": {},
   "outputs": [
    {
     "data": {
      "text/plain": [
       "Index([803, 755, 469], dtype='int64')"
      ]
     },
     "metadata": {},
     "output_type": "display_data"
    }
   ],
   "source": [
    "# ******************************************************************************************\n",
    "# sort the series by the values and then get the index of the 3 smallest values\n",
    "# ******************************************************************************************\n",
    "age.nsmallest(3).index"
   ]
  },
  {
   "cell_type": "code",
   "execution_count": null,
   "metadata": {},
   "outputs": [
    {
     "data": {
      "text/plain": [
       "(np.int64(803), [803, 755, 469])"
      ]
     },
     "metadata": {},
     "output_type": "display_data"
    }
   ],
   "source": [
    "age.nsmallest(3).index[0], age.nsmallest(3).index.to_list()"
   ]
  },
  {
   "cell_type": "markdown",
   "metadata": {},
   "source": [
    "##### idxmin() and idxmax()"
   ]
  },
  {
   "cell_type": "code",
   "execution_count": null,
   "metadata": {},
   "outputs": [
    {
     "data": {
      "text/html": [
       "<div>\n",
       "<style scoped>\n",
       "    .dataframe tbody tr th:only-of-type {\n",
       "        vertical-align: middle;\n",
       "    }\n",
       "\n",
       "    .dataframe tbody tr th {\n",
       "        vertical-align: top;\n",
       "    }\n",
       "\n",
       "    .dataframe thead th {\n",
       "        text-align: right;\n",
       "    }\n",
       "</style>\n",
       "<table border=\"1\" class=\"dataframe\">\n",
       "  <thead>\n",
       "    <tr style=\"text-align: right;\">\n",
       "      <th></th>\n",
       "      <th>survived</th>\n",
       "      <th>pclass</th>\n",
       "      <th>sex</th>\n",
       "      <th>age</th>\n",
       "      <th>sibsp</th>\n",
       "      <th>parch</th>\n",
       "      <th>fare</th>\n",
       "      <th>embarked</th>\n",
       "      <th>deck</th>\n",
       "    </tr>\n",
       "  </thead>\n",
       "  <tbody>\n",
       "    <tr>\n",
       "      <th>0</th>\n",
       "      <td>0</td>\n",
       "      <td>3</td>\n",
       "      <td>male</td>\n",
       "      <td>22.0</td>\n",
       "      <td>1</td>\n",
       "      <td>0</td>\n",
       "      <td>7.2500</td>\n",
       "      <td>S</td>\n",
       "      <td>NaN</td>\n",
       "    </tr>\n",
       "    <tr>\n",
       "      <th>1</th>\n",
       "      <td>1</td>\n",
       "      <td>1</td>\n",
       "      <td>female</td>\n",
       "      <td>38.0</td>\n",
       "      <td>1</td>\n",
       "      <td>0</td>\n",
       "      <td>71.2833</td>\n",
       "      <td>C</td>\n",
       "      <td>C</td>\n",
       "    </tr>\n",
       "    <tr>\n",
       "      <th>2</th>\n",
       "      <td>1</td>\n",
       "      <td>3</td>\n",
       "      <td>female</td>\n",
       "      <td>26.0</td>\n",
       "      <td>0</td>\n",
       "      <td>0</td>\n",
       "      <td>7.9250</td>\n",
       "      <td>S</td>\n",
       "      <td>NaN</td>\n",
       "    </tr>\n",
       "    <tr>\n",
       "      <th>3</th>\n",
       "      <td>1</td>\n",
       "      <td>1</td>\n",
       "      <td>female</td>\n",
       "      <td>35.0</td>\n",
       "      <td>1</td>\n",
       "      <td>0</td>\n",
       "      <td>53.1000</td>\n",
       "      <td>S</td>\n",
       "      <td>C</td>\n",
       "    </tr>\n",
       "    <tr>\n",
       "      <th>4</th>\n",
       "      <td>0</td>\n",
       "      <td>3</td>\n",
       "      <td>male</td>\n",
       "      <td>35.0</td>\n",
       "      <td>0</td>\n",
       "      <td>0</td>\n",
       "      <td>8.0500</td>\n",
       "      <td>S</td>\n",
       "      <td>NaN</td>\n",
       "    </tr>\n",
       "  </tbody>\n",
       "</table>\n",
       "</div>"
      ],
      "text/plain": [
       "   survived  pclass     sex   age  sibsp  parch     fare embarked deck\n",
       "0         0       3    male  22.0      1      0   7.2500        S  NaN\n",
       "1         1       1  female  38.0      1      0  71.2833        C    C\n",
       "2         1       3  female  26.0      0      0   7.9250        S  NaN\n",
       "3         1       1  female  35.0      1      0  53.1000        S    C\n",
       "4         0       3    male  35.0      0      0   8.0500        S  NaN"
      ]
     },
     "metadata": {},
     "output_type": "display_data"
    }
   ],
   "source": [
    "titanic.head()"
   ]
  },
  {
   "cell_type": "code",
   "execution_count": null,
   "metadata": {},
   "outputs": [
    {
     "data": {
      "text/plain": [
       "(630, 803)"
      ]
     },
     "metadata": {},
     "output_type": "display_data"
    }
   ],
   "source": [
    "# ******************************************************************************************\n",
    "# extracting the index label\n",
    "# if we are interesting in the index label of the maximum and minimum value\n",
    "# ******************************************************************************************\n",
    "titanic.age.idxmax(), titanic.age.idxmin()"
   ]
  },
  {
   "cell_type": "code",
   "execution_count": null,
   "metadata": {},
   "outputs": [
    {
     "data": {
      "text/plain": [
       "survived       1\n",
       "pclass         1\n",
       "sex         male\n",
       "age         80.0\n",
       "sibsp          0\n",
       "parch          0\n",
       "fare        30.0\n",
       "embarked       S\n",
       "deck           A\n",
       "Name: 630, dtype: object"
      ]
     },
     "metadata": {},
     "output_type": "display_data"
    }
   ],
   "source": [
    "# ******************************************************************************************\n",
    "# extract the complete passenger information by that index label\n",
    "# ******************************************************************************************\n",
    "titanic.loc[titanic.age.idxmax()]"
   ]
  },
  {
   "cell_type": "code",
   "execution_count": null,
   "metadata": {},
   "outputs": [
    {
     "data": {
      "text/plain": [
       "Monday       10.0\n",
       "Tuesday      25.0\n",
       "Wednesday     6.0\n",
       "Thursday     36.0\n",
       "Friday        2.0\n",
       "Saturday      0.0\n",
       "Sunday        NaN\n",
       "dtype: float64"
      ]
     },
     "metadata": {},
     "output_type": "display_data"
    }
   ],
   "source": [
    "dic = {\"Monday\":10, \"Tuesday\":25, \"Wednesday\":6, \"Thursday\":36, \"Friday\":2, \"Saturday\":0, \"Sunday\":None}\n",
    "sales = pd.Series(dic)\n",
    "sales"
   ]
  },
  {
   "cell_type": "code",
   "execution_count": null,
   "metadata": {},
   "outputs": [
    {
     "data": {
      "text/plain": [
       "('Saturday', 'Saturday')"
      ]
     },
     "metadata": {},
     "output_type": "display_data"
    }
   ],
   "source": [
    "sales.sort_values(ascending=True).index[0], sales.idxmin()"
   ]
  },
  {
   "cell_type": "code",
   "execution_count": null,
   "metadata": {},
   "outputs": [
    {
     "data": {
      "text/plain": [
       "('Thursday', 'Thursday')"
      ]
     },
     "metadata": {},
     "output_type": "display_data"
    }
   ],
   "source": [
    "sales.sort_values(ascending=False).index[0], sales.idxmax()"
   ]
  },
  {
   "cell_type": "markdown",
   "metadata": {},
   "source": [
    "##### Manipulating Pandas Series"
   ]
  },
  {
   "cell_type": "code",
   "execution_count": null,
   "metadata": {},
   "outputs": [
    {
     "data": {
      "text/plain": [
       "Mon    10.0\n",
       "Tue    25.0\n",
       "Wed     6.0\n",
       "Thu    36.0\n",
       "Fri     2.0\n",
       "Sat     0.0\n",
       "Sun     NaN\n",
       "Mon     5.0\n",
       "dtype: float64"
      ]
     },
     "metadata": {},
     "output_type": "display_data"
    }
   ],
   "source": [
    "import pandas as pd\n",
    "sales = pd.Series([10,25,6,36,2,0,None,5], index=[\"Mon\", \"Tue\", \"Wed\", \"Thu\", \"Fri\", \"Sat\", \"Sun\", \"Mon\"])\n",
    "sales"
   ]
  },
  {
   "cell_type": "code",
   "execution_count": null,
   "metadata": {},
   "outputs": [
    {
     "data": {
      "text/plain": [
       "Mon    10.0\n",
       "Tue    25.0\n",
       "Wed     6.0\n",
       "Thu    36.0\n",
       "Fri     2.0\n",
       "Sat     0.0\n",
       "Sun     0.0\n",
       "Mon     5.0\n",
       "dtype: float64"
      ]
     },
     "metadata": {},
     "output_type": "display_data"
    }
   ],
   "source": [
    "sales[\"Sun\"] = 0\n",
    "sales"
   ]
  },
  {
   "cell_type": "code",
   "execution_count": null,
   "metadata": {},
   "outputs": [
    {
     "data": {
      "text/plain": [
       "Mon    10.0\n",
       "Tue    25.0\n",
       "Wed     6.0\n",
       "Thu    30.0\n",
       "Fri     2.0\n",
       "Sat     0.0\n",
       "Sun     0.0\n",
       "Mon     5.0\n",
       "dtype: float64"
      ]
     },
     "metadata": {},
     "output_type": "display_data"
    }
   ],
   "source": [
    "sales.iloc[3] = 30\n",
    "sales"
   ]
  },
  {
   "cell_type": "code",
   "execution_count": null,
   "metadata": {},
   "outputs": [
    {
     "data": {
      "text/plain": [
       "Mon     9.0\n",
       "Tue    22.5\n",
       "Wed     5.4\n",
       "Thu    27.0\n",
       "Fri     1.8\n",
       "Sat     0.0\n",
       "Sun     0.0\n",
       "Mon     4.5\n",
       "dtype: float64"
      ]
     },
     "metadata": {},
     "output_type": "display_data"
    }
   ],
   "source": [
    "# transform the series into a euro currency\n",
    "# ******************************************************************************************\n",
    "# So with lists we would need here A for loop and iterate over all elements and change each single element.\n",
    "# But here with Pandas series, we can actually perform this in a vectorized manner and we can simply divide here our sales Pandas series by 1.1.\n",
    "# ******************************************************************************************\n",
    "(sales * 0.9).round(2)"
   ]
  },
  {
   "cell_type": "code",
   "execution_count": null,
   "metadata": {},
   "outputs": [],
   "source": [
    "sales_EUR = (sales * 0.9).round(2)"
   ]
  },
  {
   "cell_type": "code",
   "execution_count": null,
   "metadata": {},
   "outputs": [
    {
     "data": {
      "text/plain": [
       "Mon     0.0\n",
       "Tue    22.5\n",
       "Wed     5.4\n",
       "Thu    27.0\n",
       "Fri     1.8\n",
       "Sat     0.0\n",
       "Sun     0.0\n",
       "Mon     0.0\n",
       "dtype: float64"
      ]
     },
     "metadata": {},
     "output_type": "display_data"
    }
   ],
   "source": [
    "# duplicate index values - change the value for all occurrences of the index label\n",
    "# ******************************************************************************************\n",
    "sales_EUR[\"Mon\"]= 0\n",
    "sales_EUR"
   ]
  },
  {
   "cell_type": "code",
   "execution_count": null,
   "metadata": {},
   "outputs": [
    {
     "data": {
      "text/html": [
       "<div>\n",
       "<style scoped>\n",
       "    .dataframe tbody tr th:only-of-type {\n",
       "        vertical-align: middle;\n",
       "    }\n",
       "\n",
       "    .dataframe tbody tr th {\n",
       "        vertical-align: top;\n",
       "    }\n",
       "\n",
       "    .dataframe thead th {\n",
       "        text-align: right;\n",
       "    }\n",
       "</style>\n",
       "<table border=\"1\" class=\"dataframe\">\n",
       "  <thead>\n",
       "    <tr style=\"text-align: right;\">\n",
       "      <th></th>\n",
       "      <th>survived</th>\n",
       "      <th>pclass</th>\n",
       "      <th>sex</th>\n",
       "      <th>age</th>\n",
       "      <th>sibsp</th>\n",
       "      <th>parch</th>\n",
       "      <th>fare</th>\n",
       "      <th>embarked</th>\n",
       "      <th>deck</th>\n",
       "    </tr>\n",
       "  </thead>\n",
       "  <tbody>\n",
       "    <tr>\n",
       "      <th>0</th>\n",
       "      <td>0</td>\n",
       "      <td>3</td>\n",
       "      <td>male</td>\n",
       "      <td>22.0</td>\n",
       "      <td>1</td>\n",
       "      <td>0</td>\n",
       "      <td>7.2500</td>\n",
       "      <td>S</td>\n",
       "      <td>NaN</td>\n",
       "    </tr>\n",
       "    <tr>\n",
       "      <th>1</th>\n",
       "      <td>1</td>\n",
       "      <td>1</td>\n",
       "      <td>female</td>\n",
       "      <td>38.0</td>\n",
       "      <td>1</td>\n",
       "      <td>0</td>\n",
       "      <td>71.2833</td>\n",
       "      <td>C</td>\n",
       "      <td>C</td>\n",
       "    </tr>\n",
       "    <tr>\n",
       "      <th>2</th>\n",
       "      <td>1</td>\n",
       "      <td>3</td>\n",
       "      <td>female</td>\n",
       "      <td>26.0</td>\n",
       "      <td>0</td>\n",
       "      <td>0</td>\n",
       "      <td>7.9250</td>\n",
       "      <td>S</td>\n",
       "      <td>NaN</td>\n",
       "    </tr>\n",
       "    <tr>\n",
       "      <th>3</th>\n",
       "      <td>1</td>\n",
       "      <td>1</td>\n",
       "      <td>female</td>\n",
       "      <td>35.0</td>\n",
       "      <td>1</td>\n",
       "      <td>0</td>\n",
       "      <td>53.1000</td>\n",
       "      <td>S</td>\n",
       "      <td>C</td>\n",
       "    </tr>\n",
       "    <tr>\n",
       "      <th>4</th>\n",
       "      <td>0</td>\n",
       "      <td>3</td>\n",
       "      <td>male</td>\n",
       "      <td>35.0</td>\n",
       "      <td>0</td>\n",
       "      <td>0</td>\n",
       "      <td>8.0500</td>\n",
       "      <td>S</td>\n",
       "      <td>NaN</td>\n",
       "    </tr>\n",
       "  </tbody>\n",
       "</table>\n",
       "</div>"
      ],
      "text/plain": [
       "   survived  pclass     sex   age  sibsp  parch     fare embarked deck\n",
       "0         0       3    male  22.0      1      0   7.2500        S  NaN\n",
       "1         1       1  female  38.0      1      0  71.2833        C    C\n",
       "2         1       3  female  26.0      0      0   7.9250        S  NaN\n",
       "3         1       1  female  35.0      1      0  53.1000        S    C\n",
       "4         0       3    male  35.0      0      0   8.0500        S  NaN"
      ]
     },
     "metadata": {},
     "output_type": "display_data"
    }
   ],
   "source": [
    "import pandas as pd\n",
    "titanic = pd.read_csv(r\"C:\\Users\\aitor\\OneDrive\\Desktop\\FRED\\course_env\\Pandas_2025\\onthego_materials\\Course_Materials_Part1\\Video_Lecture_NBs\\titanic.csv\")\n",
    "titanic.head()"
   ]
  },
  {
   "cell_type": "code",
   "execution_count": null,
   "metadata": {},
   "outputs": [
    {
     "data": {
      "text/plain": [
       "0    22.0\n",
       "1    38.0\n",
       "2    26.0\n",
       "3    35.0\n",
       "4    35.0\n",
       "Name: age, dtype: float64"
      ]
     },
     "metadata": {},
     "output_type": "display_data"
    }
   ],
   "source": [
    "age = titanic[\"age\"]\n",
    "age.head()"
   ]
  },
  {
   "cell_type": "code",
   "execution_count": null,
   "metadata": {},
   "outputs": [
    {
     "name": "stderr",
     "output_type": "stream",
     "text": [
      "C:\\Users\\aitor\\AppData\\Local\\Temp\\ipykernel_12968\\1477452854.py:1: SettingWithCopyWarning: \n",
      "A value is trying to be set on a copy of a slice from a DataFrame\n",
      "\n",
      "See the caveats in the documentation: https://pandas.pydata.org/pandas-docs/stable/user_guide/indexing.html#returning-a-view-versus-a-copy\n",
      "  age.iloc[1] = 30\n"
     ]
    }
   ],
   "source": [
    "age.iloc[1] = 30"
   ]
  },
  {
   "cell_type": "code",
   "execution_count": null,
   "metadata": {},
   "outputs": [
    {
     "data": {
      "text/plain": [
       "0    22.0\n",
       "1    30.0\n",
       "2    26.0\n",
       "3    35.0\n",
       "4    35.0\n",
       "Name: age, dtype: float64"
      ]
     },
     "metadata": {},
     "output_type": "display_data"
    }
   ],
   "source": [
    "age.head()"
   ]
  },
  {
   "cell_type": "code",
   "execution_count": null,
   "metadata": {},
   "outputs": [
    {
     "data": {
      "text/html": [
       "<div>\n",
       "<style scoped>\n",
       "    .dataframe tbody tr th:only-of-type {\n",
       "        vertical-align: middle;\n",
       "    }\n",
       "\n",
       "    .dataframe tbody tr th {\n",
       "        vertical-align: top;\n",
       "    }\n",
       "\n",
       "    .dataframe thead th {\n",
       "        text-align: right;\n",
       "    }\n",
       "</style>\n",
       "<table border=\"1\" class=\"dataframe\">\n",
       "  <thead>\n",
       "    <tr style=\"text-align: right;\">\n",
       "      <th></th>\n",
       "      <th>survived</th>\n",
       "      <th>pclass</th>\n",
       "      <th>sex</th>\n",
       "      <th>age</th>\n",
       "      <th>sibsp</th>\n",
       "      <th>parch</th>\n",
       "      <th>fare</th>\n",
       "      <th>embarked</th>\n",
       "      <th>deck</th>\n",
       "    </tr>\n",
       "  </thead>\n",
       "  <tbody>\n",
       "    <tr>\n",
       "      <th>0</th>\n",
       "      <td>0</td>\n",
       "      <td>3</td>\n",
       "      <td>male</td>\n",
       "      <td>22.0</td>\n",
       "      <td>1</td>\n",
       "      <td>0</td>\n",
       "      <td>7.2500</td>\n",
       "      <td>S</td>\n",
       "      <td>NaN</td>\n",
       "    </tr>\n",
       "    <tr>\n",
       "      <th>1</th>\n",
       "      <td>1</td>\n",
       "      <td>1</td>\n",
       "      <td>female</td>\n",
       "      <td>30.0</td>\n",
       "      <td>1</td>\n",
       "      <td>0</td>\n",
       "      <td>71.2833</td>\n",
       "      <td>C</td>\n",
       "      <td>C</td>\n",
       "    </tr>\n",
       "    <tr>\n",
       "      <th>2</th>\n",
       "      <td>1</td>\n",
       "      <td>3</td>\n",
       "      <td>female</td>\n",
       "      <td>26.0</td>\n",
       "      <td>0</td>\n",
       "      <td>0</td>\n",
       "      <td>7.9250</td>\n",
       "      <td>S</td>\n",
       "      <td>NaN</td>\n",
       "    </tr>\n",
       "    <tr>\n",
       "      <th>3</th>\n",
       "      <td>1</td>\n",
       "      <td>1</td>\n",
       "      <td>female</td>\n",
       "      <td>35.0</td>\n",
       "      <td>1</td>\n",
       "      <td>0</td>\n",
       "      <td>53.1000</td>\n",
       "      <td>S</td>\n",
       "      <td>C</td>\n",
       "    </tr>\n",
       "    <tr>\n",
       "      <th>4</th>\n",
       "      <td>0</td>\n",
       "      <td>3</td>\n",
       "      <td>male</td>\n",
       "      <td>35.0</td>\n",
       "      <td>0</td>\n",
       "      <td>0</td>\n",
       "      <td>8.0500</td>\n",
       "      <td>S</td>\n",
       "      <td>NaN</td>\n",
       "    </tr>\n",
       "  </tbody>\n",
       "</table>\n",
       "</div>"
      ],
      "text/plain": [
       "   survived  pclass     sex   age  sibsp  parch     fare embarked deck\n",
       "0         0       3    male  22.0      1      0   7.2500        S  NaN\n",
       "1         1       1  female  30.0      1      0  71.2833        C    C\n",
       "2         1       3  female  26.0      0      0   7.9250        S  NaN\n",
       "3         1       1  female  35.0      1      0  53.1000        S    C\n",
       "4         0       3    male  35.0      0      0   8.0500        S  NaN"
      ]
     },
     "metadata": {},
     "output_type": "display_data"
    }
   ],
   "source": [
    "# So we also have overridden the value here in our original data frame. !!!!!!!!!\n",
    "# ******************************************************************************************\n",
    "# So what we actually did, we actually sliced our data frame for the age column and then we changed a value in our age column.\n",
    "# But we have also changed this value in our original data frame.\n",
    "# ******************************************************************************************\n",
    "# So we have to be careful when we use the bracket notation for assignment in Pandas series or data frames.\n",
    "# pandas sent us a warning here that we have actually changed the original data frame.\n",
    "# ******************************************************************************************\n",
    "titanic.head()"
   ]
  },
  {
   "cell_type": "markdown",
   "metadata": {},
   "source": [
    "##### First Steps with Pandas Index Objects"
   ]
  },
  {
   "cell_type": "code",
   "execution_count": null,
   "metadata": {},
   "outputs": [
    {
     "data": {
      "text/html": [
       "<div>\n",
       "<style scoped>\n",
       "    .dataframe tbody tr th:only-of-type {\n",
       "        vertical-align: middle;\n",
       "    }\n",
       "\n",
       "    .dataframe tbody tr th {\n",
       "        vertical-align: top;\n",
       "    }\n",
       "\n",
       "    .dataframe thead th {\n",
       "        text-align: right;\n",
       "    }\n",
       "</style>\n",
       "<table border=\"1\" class=\"dataframe\">\n",
       "  <thead>\n",
       "    <tr style=\"text-align: right;\">\n",
       "      <th></th>\n",
       "      <th>Year</th>\n",
       "      <th>City</th>\n",
       "      <th>Sport</th>\n",
       "      <th>Discipline</th>\n",
       "      <th>Athlete</th>\n",
       "      <th>Country</th>\n",
       "      <th>Gender</th>\n",
       "      <th>Event</th>\n",
       "      <th>Medal</th>\n",
       "    </tr>\n",
       "  </thead>\n",
       "  <tbody>\n",
       "    <tr>\n",
       "      <th>0</th>\n",
       "      <td>1896</td>\n",
       "      <td>Athens</td>\n",
       "      <td>Aquatics</td>\n",
       "      <td>Swimming</td>\n",
       "      <td>HAJOS, Alfred</td>\n",
       "      <td>HUN</td>\n",
       "      <td>Men</td>\n",
       "      <td>100M Freestyle</td>\n",
       "      <td>Gold</td>\n",
       "    </tr>\n",
       "    <tr>\n",
       "      <th>1</th>\n",
       "      <td>1896</td>\n",
       "      <td>Athens</td>\n",
       "      <td>Aquatics</td>\n",
       "      <td>Swimming</td>\n",
       "      <td>HERSCHMANN, Otto</td>\n",
       "      <td>AUT</td>\n",
       "      <td>Men</td>\n",
       "      <td>100M Freestyle</td>\n",
       "      <td>Silver</td>\n",
       "    </tr>\n",
       "    <tr>\n",
       "      <th>2</th>\n",
       "      <td>1896</td>\n",
       "      <td>Athens</td>\n",
       "      <td>Aquatics</td>\n",
       "      <td>Swimming</td>\n",
       "      <td>DRIVAS, Dimitrios</td>\n",
       "      <td>GRE</td>\n",
       "      <td>Men</td>\n",
       "      <td>100M Freestyle For Sailors</td>\n",
       "      <td>Bronze</td>\n",
       "    </tr>\n",
       "    <tr>\n",
       "      <th>3</th>\n",
       "      <td>1896</td>\n",
       "      <td>Athens</td>\n",
       "      <td>Aquatics</td>\n",
       "      <td>Swimming</td>\n",
       "      <td>MALOKINIS, Ioannis</td>\n",
       "      <td>GRE</td>\n",
       "      <td>Men</td>\n",
       "      <td>100M Freestyle For Sailors</td>\n",
       "      <td>Gold</td>\n",
       "    </tr>\n",
       "    <tr>\n",
       "      <th>4</th>\n",
       "      <td>1896</td>\n",
       "      <td>Athens</td>\n",
       "      <td>Aquatics</td>\n",
       "      <td>Swimming</td>\n",
       "      <td>CHASAPIS, Spiridon</td>\n",
       "      <td>GRE</td>\n",
       "      <td>Men</td>\n",
       "      <td>100M Freestyle For Sailors</td>\n",
       "      <td>Silver</td>\n",
       "    </tr>\n",
       "  </tbody>\n",
       "</table>\n",
       "</div>"
      ],
      "text/plain": [
       "   Year    City     Sport Discipline             Athlete Country Gender  \\\n",
       "0  1896  Athens  Aquatics   Swimming       HAJOS, Alfred     HUN    Men   \n",
       "1  1896  Athens  Aquatics   Swimming    HERSCHMANN, Otto     AUT    Men   \n",
       "2  1896  Athens  Aquatics   Swimming   DRIVAS, Dimitrios     GRE    Men   \n",
       "3  1896  Athens  Aquatics   Swimming  MALOKINIS, Ioannis     GRE    Men   \n",
       "4  1896  Athens  Aquatics   Swimming  CHASAPIS, Spiridon     GRE    Men   \n",
       "\n",
       "                        Event   Medal  \n",
       "0              100M Freestyle    Gold  \n",
       "1              100M Freestyle  Silver  \n",
       "2  100M Freestyle For Sailors  Bronze  \n",
       "3  100M Freestyle For Sailors    Gold  \n",
       "4  100M Freestyle For Sailors  Silver  "
      ]
     },
     "metadata": {},
     "output_type": "display_data"
    }
   ],
   "source": [
    "import pandas as pd\n",
    "summer = pd.read_csv(r\"C:\\Users\\aitor\\OneDrive\\Desktop\\FRED\\course_env\\Pandas_2025\\onthego_materials\\Course_Materials_Part1\\Video_Lecture_NBs\\summer.csv\")\n",
    "summer.head()"
   ]
  },
  {
   "cell_type": "code",
   "execution_count": null,
   "metadata": {},
   "outputs": [
    {
     "data": {
      "text/plain": [
       "(RangeIndex(start=0, stop=31165, step=1), pandas.core.indexes.range.RangeIndex)"
      ]
     },
     "metadata": {},
     "output_type": "display_data"
    }
   ],
   "source": [
    "# index object\n",
    "summer.index, type(summer.index)"
   ]
  },
  {
   "cell_type": "code",
   "execution_count": null,
   "metadata": {},
   "outputs": [
    {
     "data": {
      "text/plain": [
       "(Index(['Year', 'City', 'Sport', 'Discipline', 'Athlete', 'Country', 'Gender',\n",
       "        'Event', 'Medal'],\n",
       "       dtype='object'),\n",
       " pandas.core.indexes.base.Index)"
      ]
     },
     "metadata": {},
     "output_type": "display_data"
    }
   ],
   "source": [
    "# And it's a index object here. And actually here it looks a bit like an list or an array.\n",
    "# However, compared to a list or an array, the index object or index data type has a special methods \n",
    "# and attributes specifically designed for large datasets.\n",
    "# ******************************************************************************************\n",
    "# And actually the index object is a very powerful and versatile object in Pandas.\n",
    "# So with index objects, you can do much more than, for example, with a list.\n",
    "# And that's why developers of Pandas created the index object to allow special index operations.\n",
    "# ******************************************************************************************\n",
    "summer.columns, type(summer.columns)"
   ]
  },
  {
   "cell_type": "code",
   "execution_count": null,
   "metadata": {},
   "outputs": [
    {
     "data": {
      "text/plain": [
       "[RangeIndex(start=0, stop=31165, step=1),\n",
       " Index(['Year', 'City', 'Sport', 'Discipline', 'Athlete', 'Country', 'Gender',\n",
       "        'Event', 'Medal'],\n",
       "       dtype='object')]"
      ]
     },
     "metadata": {},
     "output_type": "display_data"
    }
   ],
   "source": [
    "# .axes attribute - returns a list of the row and column axis labels\n",
    "# ******************************************************************************************\n",
    "summer.axes"
   ]
  },
  {
   "cell_type": "code",
   "execution_count": null,
   "metadata": {},
   "outputs": [
    {
     "data": {
      "text/html": [
       "<div>\n",
       "<style scoped>\n",
       "    .dataframe tbody tr th:only-of-type {\n",
       "        vertical-align: middle;\n",
       "    }\n",
       "\n",
       "    .dataframe tbody tr th {\n",
       "        vertical-align: top;\n",
       "    }\n",
       "\n",
       "    .dataframe thead th {\n",
       "        text-align: right;\n",
       "    }\n",
       "</style>\n",
       "<table border=\"1\" class=\"dataframe\">\n",
       "  <thead>\n",
       "    <tr style=\"text-align: right;\">\n",
       "      <th></th>\n",
       "      <th>Year</th>\n",
       "      <th>City</th>\n",
       "      <th>Sport</th>\n",
       "      <th>Discipline</th>\n",
       "      <th>Country</th>\n",
       "      <th>Gender</th>\n",
       "      <th>Event</th>\n",
       "      <th>Medal</th>\n",
       "    </tr>\n",
       "    <tr>\n",
       "      <th>Athlete</th>\n",
       "      <th></th>\n",
       "      <th></th>\n",
       "      <th></th>\n",
       "      <th></th>\n",
       "      <th></th>\n",
       "      <th></th>\n",
       "      <th></th>\n",
       "      <th></th>\n",
       "    </tr>\n",
       "  </thead>\n",
       "  <tbody>\n",
       "    <tr>\n",
       "      <th>HAJOS, Alfred</th>\n",
       "      <td>1896</td>\n",
       "      <td>Athens</td>\n",
       "      <td>Aquatics</td>\n",
       "      <td>Swimming</td>\n",
       "      <td>HUN</td>\n",
       "      <td>Men</td>\n",
       "      <td>100M Freestyle</td>\n",
       "      <td>Gold</td>\n",
       "    </tr>\n",
       "    <tr>\n",
       "      <th>HERSCHMANN, Otto</th>\n",
       "      <td>1896</td>\n",
       "      <td>Athens</td>\n",
       "      <td>Aquatics</td>\n",
       "      <td>Swimming</td>\n",
       "      <td>AUT</td>\n",
       "      <td>Men</td>\n",
       "      <td>100M Freestyle</td>\n",
       "      <td>Silver</td>\n",
       "    </tr>\n",
       "    <tr>\n",
       "      <th>DRIVAS, Dimitrios</th>\n",
       "      <td>1896</td>\n",
       "      <td>Athens</td>\n",
       "      <td>Aquatics</td>\n",
       "      <td>Swimming</td>\n",
       "      <td>GRE</td>\n",
       "      <td>Men</td>\n",
       "      <td>100M Freestyle For Sailors</td>\n",
       "      <td>Bronze</td>\n",
       "    </tr>\n",
       "    <tr>\n",
       "      <th>MALOKINIS, Ioannis</th>\n",
       "      <td>1896</td>\n",
       "      <td>Athens</td>\n",
       "      <td>Aquatics</td>\n",
       "      <td>Swimming</td>\n",
       "      <td>GRE</td>\n",
       "      <td>Men</td>\n",
       "      <td>100M Freestyle For Sailors</td>\n",
       "      <td>Gold</td>\n",
       "    </tr>\n",
       "    <tr>\n",
       "      <th>CHASAPIS, Spiridon</th>\n",
       "      <td>1896</td>\n",
       "      <td>Athens</td>\n",
       "      <td>Aquatics</td>\n",
       "      <td>Swimming</td>\n",
       "      <td>GRE</td>\n",
       "      <td>Men</td>\n",
       "      <td>100M Freestyle For Sailors</td>\n",
       "      <td>Silver</td>\n",
       "    </tr>\n",
       "  </tbody>\n",
       "</table>\n",
       "</div>"
      ],
      "text/plain": [
       "                    Year    City     Sport Discipline Country Gender  \\\n",
       "Athlete                                                                \n",
       "HAJOS, Alfred       1896  Athens  Aquatics   Swimming     HUN    Men   \n",
       "HERSCHMANN, Otto    1896  Athens  Aquatics   Swimming     AUT    Men   \n",
       "DRIVAS, Dimitrios   1896  Athens  Aquatics   Swimming     GRE    Men   \n",
       "MALOKINIS, Ioannis  1896  Athens  Aquatics   Swimming     GRE    Men   \n",
       "CHASAPIS, Spiridon  1896  Athens  Aquatics   Swimming     GRE    Men   \n",
       "\n",
       "                                         Event   Medal  \n",
       "Athlete                                                 \n",
       "HAJOS, Alfred                   100M Freestyle    Gold  \n",
       "HERSCHMANN, Otto                100M Freestyle  Silver  \n",
       "DRIVAS, Dimitrios   100M Freestyle For Sailors  Bronze  \n",
       "MALOKINIS, Ioannis  100M Freestyle For Sailors    Gold  \n",
       "CHASAPIS, Spiridon  100M Freestyle For Sailors  Silver  "
      ]
     },
     "metadata": {},
     "output_type": "display_data"
    }
   ],
   "source": [
    "# we have already learned how we can specify the index column when we read in a CSV file.\n",
    "# ******************************************************************************************\n",
    "summer = pd.read_csv(r\"C:\\Users\\aitor\\OneDrive\\Desktop\\FRED\\course_env\\Pandas_2025\\onthego_materials\\Course_Materials_Part1\\Video_Lecture_NBs\\summer.csv\", index_col=\"Athlete\")\n",
    "summer.head()"
   ]
  },
  {
   "cell_type": "code",
   "execution_count": null,
   "metadata": {},
   "outputs": [
    {
     "name": "stdout",
     "output_type": "stream",
     "text": [
      "<class 'pandas.core.frame.DataFrame'>\n",
      "Index: 31165 entries, HAJOS, Alfred to LIDBERG, Jimmy\n",
      "Data columns (total 8 columns):\n",
      " #   Column      Non-Null Count  Dtype \n",
      "---  ------      --------------  ----- \n",
      " 0   Year        31165 non-null  int64 \n",
      " 1   City        31165 non-null  object\n",
      " 2   Sport       31165 non-null  object\n",
      " 3   Discipline  31165 non-null  object\n",
      " 4   Country     31161 non-null  object\n",
      " 5   Gender      31165 non-null  object\n",
      " 6   Event       31165 non-null  object\n",
      " 7   Medal       31165 non-null  object\n",
      "dtypes: int64(1), object(7)\n",
      "memory usage: 2.1+ MB\n"
     ]
    }
   ],
   "source": [
    "summer.info()"
   ]
  },
  {
   "cell_type": "code",
   "execution_count": null,
   "metadata": {},
   "outputs": [
    {
     "data": {
      "text/plain": [
       "Index(['HAJOS, Alfred', 'HERSCHMANN, Otto', 'DRIVAS, Dimitrios',\n",
       "       'MALOKINIS, Ioannis', 'CHASAPIS, Spiridon', 'CHOROPHAS, Efstathios',\n",
       "       'HAJOS, Alfred', 'ANDREOU, Joannis', 'CHOROPHAS, Efstathios',\n",
       "       'NEUMANN, Paul',\n",
       "       ...\n",
       "       'AHMADOV, Emin', 'KAZAKEVIC, Aleksandr', 'KHUGAEV, Alan',\n",
       "       'EBRAHIM, Karam Mohamed Gaber', 'GAJIYEV, Danyal', 'JANIKOWSKI, Damian',\n",
       "       'REZAEI, Ghasem Gholamreza', 'TOTROV, Rustam', 'ALEKSANYAN, Artur',\n",
       "       'LIDBERG, Jimmy'],\n",
       "      dtype='object', name='Athlete', length=31165)"
      ]
     },
     "metadata": {},
     "output_type": "display_data"
    }
   ],
   "source": [
    "summer.index"
   ]
  },
  {
   "cell_type": "code",
   "execution_count": null,
   "metadata": {},
   "outputs": [
    {
     "data": {
      "text/plain": [
       "Index(['HAJOS, Alfred', 'HERSCHMANN, Otto', 'DRIVAS, Dimitrios'], dtype='object', name='Athlete')"
      ]
     },
     "metadata": {},
     "output_type": "display_data"
    }
   ],
   "source": [
    "# And also with index objects, we can select and slice single and multiple elements of the index object.\n",
    "# ******************************************************************************************\n",
    "# So we can use the bracket notation to select single elements or multiple elements of the index object.\n",
    "# ******************************************************************************************\n",
    "# So this is position based indexing with all the rules of zero based indexing.\n",
    "# ******************************************************************************************\n",
    "summer.index[:3]"
   ]
  },
  {
   "cell_type": "code",
   "execution_count": null,
   "metadata": {},
   "outputs": [
    {
     "data": {
      "text/plain": [
       "'LIDBERG, Jimmy'"
      ]
     },
     "metadata": {},
     "output_type": "display_data"
    }
   ],
   "source": [
    "summer.index[-1]"
   ]
  },
  {
   "cell_type": "code",
   "execution_count": null,
   "metadata": {},
   "outputs": [
    {
     "data": {
      "text/plain": [
       "['Year', 'City', 'Sport', 'Discipline', 'Country', 'Gender', 'Event', 'Medal']"
      ]
     },
     "metadata": {},
     "output_type": "display_data"
    }
   ],
   "source": [
    "# transform the index object into a list\n",
    "# ******************************************************************************************\n",
    "summer.columns.tolist()\n"
   ]
  },
  {
   "cell_type": "code",
   "execution_count": null,
   "metadata": {},
   "outputs": [
    {
     "data": {
      "text/plain": [
       "False"
      ]
     },
     "metadata": {},
     "output_type": "display_data"
    }
   ],
   "source": [
    "# atrribute is_unique - returns True if the index has unique values\n",
    "# ******************************************************************************************\n",
    "# really important to know if the index has unique values or not because many Pandas methods and attributes depend on unique index values.\n",
    "# ******************************************************************************************\n",
    "summer.index.is_unique"
   ]
  },
  {
   "cell_type": "code",
   "execution_count": null,
   "metadata": {},
   "outputs": [
    {
     "data": {
      "text/plain": [
       "Athlete\n",
       "PHELPS, Michael             22\n",
       "LATYNINA, Larisa            18\n",
       "ANDRIANOV, Nikolay          15\n",
       "ONO, Takashi                13\n",
       "MANGIAROTTI, Edoardo        13\n",
       "                            ..\n",
       "UNDA, Maider                 1\n",
       "BURROUGHS, Jordan Ernest     1\n",
       "GOUDARZI, Sadegh Saeed       1\n",
       "HATOS, Gabor                 1\n",
       "TSARGUSH, Denis              1\n",
       "Name: count, Length: 22762, dtype: int64"
      ]
     },
     "metadata": {},
     "output_type": "display_data"
    }
   ],
   "source": [
    "# value_counts() - returns the frequency of each unique value in the index\n",
    "# ******************************************************************************************\n",
    "summer.index.value_counts()"
   ]
  },
  {
   "cell_type": "code",
   "execution_count": null,
   "metadata": {},
   "outputs": [
    {
     "data": {
      "text/plain": [
       "1"
      ]
     },
     "metadata": {},
     "output_type": "display_data"
    }
   ],
   "source": [
    "# attribute nlevels - returns the number of levels in the index\n",
    "# ******************************************************************************************\n",
    "# actually, we have only one level in our index object.\n",
    "# ******************************************************************************************\n",
    "summer.index.nlevels"
   ]
  },
  {
   "cell_type": "code",
   "execution_count": null,
   "metadata": {},
   "outputs": [
    {
     "data": {
      "text/plain": [
       "(array([False, False, False, ..., False, False, False]), 2)"
      ]
     },
     "metadata": {},
     "output_type": "display_data"
    }
   ],
   "source": [
    "# get_loc() method - returns the position of the index label\n",
    "# ******************************************************************************************\n",
    "# we can see the difference between a duplicate index label and a non-duplicate index label.\n",
    "# ******************************************************************************************\n",
    "summer.index.get_loc(\"PHELPS, Michael\"), summer.index.get_loc(\"DRIVAS, Dimitrios\")"
   ]
  },
  {
   "cell_type": "markdown",
   "metadata": {},
   "source": [
    "##### Creating Index Objects from Scratch"
   ]
  },
  {
   "cell_type": "code",
   "execution_count": null,
   "metadata": {},
   "outputs": [],
   "source": [
    "import pandas as pd\n",
    "list_1 = [1,2,3]\n",
    "list_2 = [\"a\",\"b\",\"c\"]"
   ]
  },
  {
   "cell_type": "code",
   "execution_count": null,
   "metadata": {},
   "outputs": [
    {
     "data": {
      "text/plain": [
       "(Index([1, 2, 3], dtype='int64'), Index(['a', 'b', 'c'], dtype='object'))"
      ]
     },
     "metadata": {},
     "output_type": "display_data"
    }
   ],
   "source": [
    "pd.Index(list_1), pd.Index(list_2)"
   ]
  },
  {
   "cell_type": "code",
   "execution_count": null,
   "metadata": {},
   "outputs": [
    {
     "data": {
      "text/plain": [
       "RangeIndex(start=1, stop=6, step=1)"
      ]
     },
     "metadata": {},
     "output_type": "display_data"
    }
   ],
   "source": [
    "index_1 = pd.Index(range(1,6))\n",
    "index_1"
   ]
  },
  {
   "cell_type": "code",
   "execution_count": null,
   "metadata": {},
   "outputs": [
    {
     "data": {
      "text/plain": [
       "Index(['Mon', 'Tue', 'Wed', 'Thu', 'Fri'], dtype='object', name='days')"
      ]
     },
     "metadata": {},
     "output_type": "display_data"
    }
   ],
   "source": [
    "index_2 = pd.Index([\"Mon\", \"Tue\", \"Wed\", \"Thu\", \"Fri\"], name=\"days\")\n",
    "index_2"
   ]
  },
  {
   "cell_type": "code",
   "execution_count": null,
   "metadata": {},
   "outputs": [
    {
     "data": {
      "text/plain": [
       "days\n",
       "Mon    10\n",
       "Tue    25\n",
       "Wed     6\n",
       "Thu    36\n",
       "Fri     2\n",
       "dtype: int64"
      ]
     },
     "metadata": {},
     "output_type": "display_data"
    }
   ],
   "source": [
    "# we can pass the index object to the index parameter when creating a series\n",
    "# ******************************************************************************************\n",
    "pd.Series([10,25,6,36,2], index=index_2)"
   ]
  },
  {
   "cell_type": "code",
   "execution_count": null,
   "metadata": {},
   "outputs": [
    {
     "data": {
      "text/plain": [
       "1    10\n",
       "2    25\n",
       "3     6\n",
       "4    36\n",
       "5     2\n",
       "dtype: int64"
      ]
     },
     "metadata": {},
     "output_type": "display_data"
    }
   ],
   "source": [
    "# if the number of index labels does not match the number of data elements, we get a ValueError\n",
    "# ******************************************************************************************\n",
    "pd.Series([10,25,6,36,2], index=index_1)"
   ]
  },
  {
   "cell_type": "markdown",
   "metadata": {},
   "source": [
    "##### Changing Row Index with set_index() and reset_index()"
   ]
  },
  {
   "cell_type": "code",
   "execution_count": null,
   "metadata": {},
   "outputs": [
    {
     "data": {
      "text/plain": [
       "Index(['HAJOS, Alfred', 'HERSCHMANN, Otto', 'DRIVAS, Dimitrios',\n",
       "       'MALOKINIS, Ioannis', 'CHASAPIS, Spiridon', 'CHOROPHAS, Efstathios',\n",
       "       'HAJOS, Alfred', 'ANDREOU, Joannis', 'CHOROPHAS, Efstathios',\n",
       "       'NEUMANN, Paul',\n",
       "       ...\n",
       "       'AHMADOV, Emin', 'KAZAKEVIC, Aleksandr', 'KHUGAEV, Alan',\n",
       "       'EBRAHIM, Karam Mohamed Gaber', 'GAJIYEV, Danyal', 'JANIKOWSKI, Damian',\n",
       "       'REZAEI, Ghasem Gholamreza', 'TOTROV, Rustam', 'ALEKSANYAN, Artur',\n",
       "       'LIDBERG, Jimmy'],\n",
       "      dtype='object', name='Athlete', length=31165)"
      ]
     },
     "metadata": {},
     "output_type": "display_data"
    }
   ],
   "source": [
    "import pandas as pd\n",
    "summer = pd.read_csv(r\"C:\\Users\\aitor\\OneDrive\\Desktop\\FRED\\course_env\\Pandas_2025\\onthego_materials\\Course_Materials_Part1\\Video_Lecture_NBs\\summer.csv\", index_col=\"Athlete\")\n",
    "summer.index\n"
   ]
  },
  {
   "cell_type": "code",
   "execution_count": null,
   "metadata": {},
   "outputs": [],
   "source": [
    "# change our index back to a range index\n",
    "# ******************************************************************************************\n",
    "# drop = True - to drop the current index and create a new range index\n",
    "# ******************************************************************************************\n",
    "# inplace = True - to modify the original data frame (by default it is set to False and the method returns a new data frame)\n",
    "# ******************************************************************************************\n",
    "summer.reset_index(drop=False, inplace=True)"
   ]
  },
  {
   "cell_type": "code",
   "execution_count": null,
   "metadata": {},
   "outputs": [
    {
     "data": {
      "text/html": [
       "<div>\n",
       "<style scoped>\n",
       "    .dataframe tbody tr th:only-of-type {\n",
       "        vertical-align: middle;\n",
       "    }\n",
       "\n",
       "    .dataframe tbody tr th {\n",
       "        vertical-align: top;\n",
       "    }\n",
       "\n",
       "    .dataframe thead th {\n",
       "        text-align: right;\n",
       "    }\n",
       "</style>\n",
       "<table border=\"1\" class=\"dataframe\">\n",
       "  <thead>\n",
       "    <tr style=\"text-align: right;\">\n",
       "      <th></th>\n",
       "      <th>Athlete</th>\n",
       "      <th>Year</th>\n",
       "      <th>City</th>\n",
       "      <th>Sport</th>\n",
       "      <th>Discipline</th>\n",
       "      <th>Country</th>\n",
       "      <th>Gender</th>\n",
       "      <th>Event</th>\n",
       "      <th>Medal</th>\n",
       "    </tr>\n",
       "  </thead>\n",
       "  <tbody>\n",
       "    <tr>\n",
       "      <th>0</th>\n",
       "      <td>HAJOS, Alfred</td>\n",
       "      <td>1896</td>\n",
       "      <td>Athens</td>\n",
       "      <td>Aquatics</td>\n",
       "      <td>Swimming</td>\n",
       "      <td>HUN</td>\n",
       "      <td>Men</td>\n",
       "      <td>100M Freestyle</td>\n",
       "      <td>Gold</td>\n",
       "    </tr>\n",
       "    <tr>\n",
       "      <th>1</th>\n",
       "      <td>HERSCHMANN, Otto</td>\n",
       "      <td>1896</td>\n",
       "      <td>Athens</td>\n",
       "      <td>Aquatics</td>\n",
       "      <td>Swimming</td>\n",
       "      <td>AUT</td>\n",
       "      <td>Men</td>\n",
       "      <td>100M Freestyle</td>\n",
       "      <td>Silver</td>\n",
       "    </tr>\n",
       "    <tr>\n",
       "      <th>2</th>\n",
       "      <td>DRIVAS, Dimitrios</td>\n",
       "      <td>1896</td>\n",
       "      <td>Athens</td>\n",
       "      <td>Aquatics</td>\n",
       "      <td>Swimming</td>\n",
       "      <td>GRE</td>\n",
       "      <td>Men</td>\n",
       "      <td>100M Freestyle For Sailors</td>\n",
       "      <td>Bronze</td>\n",
       "    </tr>\n",
       "    <tr>\n",
       "      <th>3</th>\n",
       "      <td>MALOKINIS, Ioannis</td>\n",
       "      <td>1896</td>\n",
       "      <td>Athens</td>\n",
       "      <td>Aquatics</td>\n",
       "      <td>Swimming</td>\n",
       "      <td>GRE</td>\n",
       "      <td>Men</td>\n",
       "      <td>100M Freestyle For Sailors</td>\n",
       "      <td>Gold</td>\n",
       "    </tr>\n",
       "    <tr>\n",
       "      <th>4</th>\n",
       "      <td>CHASAPIS, Spiridon</td>\n",
       "      <td>1896</td>\n",
       "      <td>Athens</td>\n",
       "      <td>Aquatics</td>\n",
       "      <td>Swimming</td>\n",
       "      <td>GRE</td>\n",
       "      <td>Men</td>\n",
       "      <td>100M Freestyle For Sailors</td>\n",
       "      <td>Silver</td>\n",
       "    </tr>\n",
       "  </tbody>\n",
       "</table>\n",
       "</div>"
      ],
      "text/plain": [
       "              Athlete  Year    City     Sport Discipline Country Gender  \\\n",
       "0       HAJOS, Alfred  1896  Athens  Aquatics   Swimming     HUN    Men   \n",
       "1    HERSCHMANN, Otto  1896  Athens  Aquatics   Swimming     AUT    Men   \n",
       "2   DRIVAS, Dimitrios  1896  Athens  Aquatics   Swimming     GRE    Men   \n",
       "3  MALOKINIS, Ioannis  1896  Athens  Aquatics   Swimming     GRE    Men   \n",
       "4  CHASAPIS, Spiridon  1896  Athens  Aquatics   Swimming     GRE    Men   \n",
       "\n",
       "                        Event   Medal  \n",
       "0              100M Freestyle    Gold  \n",
       "1              100M Freestyle  Silver  \n",
       "2  100M Freestyle For Sailors  Bronze  \n",
       "3  100M Freestyle For Sailors    Gold  \n",
       "4  100M Freestyle For Sailors  Silver  "
      ]
     },
     "metadata": {},
     "output_type": "display_data"
    }
   ],
   "source": [
    "summer.head()"
   ]
  },
  {
   "cell_type": "code",
   "execution_count": null,
   "metadata": {},
   "outputs": [],
   "source": [
    "# get the year column as the index\n",
    "# ******************************************************************************************\n",
    "# set_index() method - to set a column as the index\n",
    "# ******************************************************************************************\n",
    "# drop = True - to drop the current column and create a new index (default is set to True)\n",
    "# drop = False - to keep the current column and create a new index (we have now two columns - the original column and the index)\n",
    "# ******************************************************************************************\n",
    "summer.set_index(\"Year\", drop=True, inplace=True)"
   ]
  },
  {
   "cell_type": "code",
   "execution_count": null,
   "metadata": {},
   "outputs": [
    {
     "data": {
      "text/html": [
       "<div>\n",
       "<style scoped>\n",
       "    .dataframe tbody tr th:only-of-type {\n",
       "        vertical-align: middle;\n",
       "    }\n",
       "\n",
       "    .dataframe tbody tr th {\n",
       "        vertical-align: top;\n",
       "    }\n",
       "\n",
       "    .dataframe thead th {\n",
       "        text-align: right;\n",
       "    }\n",
       "</style>\n",
       "<table border=\"1\" class=\"dataframe\">\n",
       "  <thead>\n",
       "    <tr style=\"text-align: right;\">\n",
       "      <th></th>\n",
       "      <th>Athlete</th>\n",
       "      <th>City</th>\n",
       "      <th>Sport</th>\n",
       "      <th>Discipline</th>\n",
       "      <th>Country</th>\n",
       "      <th>Gender</th>\n",
       "      <th>Event</th>\n",
       "      <th>Medal</th>\n",
       "    </tr>\n",
       "    <tr>\n",
       "      <th>Year</th>\n",
       "      <th></th>\n",
       "      <th></th>\n",
       "      <th></th>\n",
       "      <th></th>\n",
       "      <th></th>\n",
       "      <th></th>\n",
       "      <th></th>\n",
       "      <th></th>\n",
       "    </tr>\n",
       "  </thead>\n",
       "  <tbody>\n",
       "    <tr>\n",
       "      <th>1896</th>\n",
       "      <td>HAJOS, Alfred</td>\n",
       "      <td>Athens</td>\n",
       "      <td>Aquatics</td>\n",
       "      <td>Swimming</td>\n",
       "      <td>HUN</td>\n",
       "      <td>Men</td>\n",
       "      <td>100M Freestyle</td>\n",
       "      <td>Gold</td>\n",
       "    </tr>\n",
       "    <tr>\n",
       "      <th>1896</th>\n",
       "      <td>HERSCHMANN, Otto</td>\n",
       "      <td>Athens</td>\n",
       "      <td>Aquatics</td>\n",
       "      <td>Swimming</td>\n",
       "      <td>AUT</td>\n",
       "      <td>Men</td>\n",
       "      <td>100M Freestyle</td>\n",
       "      <td>Silver</td>\n",
       "    </tr>\n",
       "    <tr>\n",
       "      <th>1896</th>\n",
       "      <td>DRIVAS, Dimitrios</td>\n",
       "      <td>Athens</td>\n",
       "      <td>Aquatics</td>\n",
       "      <td>Swimming</td>\n",
       "      <td>GRE</td>\n",
       "      <td>Men</td>\n",
       "      <td>100M Freestyle For Sailors</td>\n",
       "      <td>Bronze</td>\n",
       "    </tr>\n",
       "    <tr>\n",
       "      <th>1896</th>\n",
       "      <td>MALOKINIS, Ioannis</td>\n",
       "      <td>Athens</td>\n",
       "      <td>Aquatics</td>\n",
       "      <td>Swimming</td>\n",
       "      <td>GRE</td>\n",
       "      <td>Men</td>\n",
       "      <td>100M Freestyle For Sailors</td>\n",
       "      <td>Gold</td>\n",
       "    </tr>\n",
       "    <tr>\n",
       "      <th>1896</th>\n",
       "      <td>CHASAPIS, Spiridon</td>\n",
       "      <td>Athens</td>\n",
       "      <td>Aquatics</td>\n",
       "      <td>Swimming</td>\n",
       "      <td>GRE</td>\n",
       "      <td>Men</td>\n",
       "      <td>100M Freestyle For Sailors</td>\n",
       "      <td>Silver</td>\n",
       "    </tr>\n",
       "  </tbody>\n",
       "</table>\n",
       "</div>"
      ],
      "text/plain": [
       "                 Athlete    City     Sport Discipline Country Gender  \\\n",
       "Year                                                                   \n",
       "1896       HAJOS, Alfred  Athens  Aquatics   Swimming     HUN    Men   \n",
       "1896    HERSCHMANN, Otto  Athens  Aquatics   Swimming     AUT    Men   \n",
       "1896   DRIVAS, Dimitrios  Athens  Aquatics   Swimming     GRE    Men   \n",
       "1896  MALOKINIS, Ioannis  Athens  Aquatics   Swimming     GRE    Men   \n",
       "1896  CHASAPIS, Spiridon  Athens  Aquatics   Swimming     GRE    Men   \n",
       "\n",
       "                           Event   Medal  \n",
       "Year                                      \n",
       "1896              100M Freestyle    Gold  \n",
       "1896              100M Freestyle  Silver  \n",
       "1896  100M Freestyle For Sailors  Bronze  \n",
       "1896  100M Freestyle For Sailors    Gold  \n",
       "1896  100M Freestyle For Sailors  Silver  "
      ]
     },
     "metadata": {},
     "output_type": "display_data"
    }
   ],
   "source": [
    "summer.head()"
   ]
  },
  {
   "cell_type": "code",
   "execution_count": null,
   "metadata": {},
   "outputs": [
    {
     "data": {
      "text/plain": [
       "False"
      ]
     },
     "metadata": {},
     "output_type": "display_data"
    }
   ],
   "source": [
    "# as we have duplicated index labels, the parameter return as the False value\n",
    "# ******************************************************************************************\n",
    "summer.index.is_unique"
   ]
  },
  {
   "cell_type": "code",
   "execution_count": null,
   "metadata": {},
   "outputs": [
    {
     "data": {
      "text/plain": [
       "np.int64(1896)"
      ]
     },
     "metadata": {},
     "output_type": "display_data"
    }
   ],
   "source": [
    "# change one element of the index\n",
    "# ******************************************************************************************\n",
    "# we cannot change the index label because it is immutable - we have to reset the index and set it again\n",
    "# ******************************************************************************************\n",
    "summer.index[0]"
   ]
  },
  {
   "cell_type": "code",
   "execution_count": null,
   "metadata": {},
   "outputs": [
    {
     "data": {
      "text/plain": [
       "['Medall_No_1',\n",
       " 'Medall_No_2',\n",
       " 'Medall_No_3',\n",
       " 'Medall_No_4',\n",
       " 'Medall_No_5',\n",
       " 'Medall_No_6',\n",
       " 'Medall_No_7',\n",
       " 'Medall_No_8',\n",
       " 'Medall_No_9',\n",
       " 'Medall_No_10',\n",
       " 'Medall_No_11',\n",
       " 'Medall_No_12',\n",
       " 'Medall_No_13',\n",
       " 'Medall_No_14',\n",
       " 'Medall_No_15',\n",
       " 'Medall_No_16',\n",
       " 'Medall_No_17',\n",
       " 'Medall_No_18',\n",
       " 'Medall_No_19',\n",
       " 'Medall_No_20',\n",
       " 'Medall_No_21',\n",
       " 'Medall_No_22',\n",
       " 'Medall_No_23',\n",
       " 'Medall_No_24',\n",
       " 'Medall_No_25',\n",
       " 'Medall_No_26',\n",
       " 'Medall_No_27',\n",
       " 'Medall_No_28',\n",
       " 'Medall_No_29',\n",
       " 'Medall_No_30',\n",
       " 'Medall_No_31',\n",
       " 'Medall_No_32',\n",
       " 'Medall_No_33',\n",
       " 'Medall_No_34',\n",
       " 'Medall_No_35',\n",
       " 'Medall_No_36',\n",
       " 'Medall_No_37',\n",
       " 'Medall_No_38',\n",
       " 'Medall_No_39',\n",
       " 'Medall_No_40',\n",
       " 'Medall_No_41',\n",
       " 'Medall_No_42',\n",
       " 'Medall_No_43',\n",
       " 'Medall_No_44',\n",
       " 'Medall_No_45',\n",
       " 'Medall_No_46',\n",
       " 'Medall_No_47',\n",
       " 'Medall_No_48',\n",
       " 'Medall_No_49',\n",
       " 'Medall_No_50',\n",
       " 'Medall_No_51',\n",
       " 'Medall_No_52',\n",
       " 'Medall_No_53',\n",
       " 'Medall_No_54',\n",
       " 'Medall_No_55',\n",
       " 'Medall_No_56',\n",
       " 'Medall_No_57',\n",
       " 'Medall_No_58',\n",
       " 'Medall_No_59',\n",
       " 'Medall_No_60',\n",
       " 'Medall_No_61',\n",
       " 'Medall_No_62',\n",
       " 'Medall_No_63',\n",
       " 'Medall_No_64',\n",
       " 'Medall_No_65',\n",
       " 'Medall_No_66',\n",
       " 'Medall_No_67',\n",
       " 'Medall_No_68',\n",
       " 'Medall_No_69',\n",
       " 'Medall_No_70',\n",
       " 'Medall_No_71',\n",
       " 'Medall_No_72',\n",
       " 'Medall_No_73',\n",
       " 'Medall_No_74',\n",
       " 'Medall_No_75',\n",
       " 'Medall_No_76',\n",
       " 'Medall_No_77',\n",
       " 'Medall_No_78',\n",
       " 'Medall_No_79',\n",
       " 'Medall_No_80',\n",
       " 'Medall_No_81',\n",
       " 'Medall_No_82',\n",
       " 'Medall_No_83',\n",
       " 'Medall_No_84',\n",
       " 'Medall_No_85',\n",
       " 'Medall_No_86',\n",
       " 'Medall_No_87',\n",
       " 'Medall_No_88',\n",
       " 'Medall_No_89',\n",
       " 'Medall_No_90',\n",
       " 'Medall_No_91',\n",
       " 'Medall_No_92',\n",
       " 'Medall_No_93',\n",
       " 'Medall_No_94',\n",
       " 'Medall_No_95',\n",
       " 'Medall_No_96',\n",
       " 'Medall_No_97',\n",
       " 'Medall_No_98',\n",
       " 'Medall_No_99',\n",
       " 'Medall_No_100',\n",
       " 'Medall_No_101',\n",
       " 'Medall_No_102',\n",
       " 'Medall_No_103',\n",
       " 'Medall_No_104',\n",
       " 'Medall_No_105',\n",
       " 'Medall_No_106',\n",
       " 'Medall_No_107',\n",
       " 'Medall_No_108',\n",
       " 'Medall_No_109',\n",
       " 'Medall_No_110',\n",
       " 'Medall_No_111',\n",
       " 'Medall_No_112',\n",
       " 'Medall_No_113',\n",
       " 'Medall_No_114',\n",
       " 'Medall_No_115',\n",
       " 'Medall_No_116',\n",
       " 'Medall_No_117',\n",
       " 'Medall_No_118',\n",
       " 'Medall_No_119',\n",
       " 'Medall_No_120',\n",
       " 'Medall_No_121',\n",
       " 'Medall_No_122',\n",
       " 'Medall_No_123',\n",
       " 'Medall_No_124',\n",
       " 'Medall_No_125',\n",
       " 'Medall_No_126',\n",
       " 'Medall_No_127',\n",
       " 'Medall_No_128',\n",
       " 'Medall_No_129',\n",
       " 'Medall_No_130',\n",
       " 'Medall_No_131',\n",
       " 'Medall_No_132',\n",
       " 'Medall_No_133',\n",
       " 'Medall_No_134',\n",
       " 'Medall_No_135',\n",
       " 'Medall_No_136',\n",
       " 'Medall_No_137',\n",
       " 'Medall_No_138',\n",
       " 'Medall_No_139',\n",
       " 'Medall_No_140',\n",
       " 'Medall_No_141',\n",
       " 'Medall_No_142',\n",
       " 'Medall_No_143',\n",
       " 'Medall_No_144',\n",
       " 'Medall_No_145',\n",
       " 'Medall_No_146',\n",
       " 'Medall_No_147',\n",
       " 'Medall_No_148',\n",
       " 'Medall_No_149',\n",
       " 'Medall_No_150',\n",
       " 'Medall_No_151',\n",
       " 'Medall_No_152',\n",
       " 'Medall_No_153',\n",
       " 'Medall_No_154',\n",
       " 'Medall_No_155',\n",
       " 'Medall_No_156',\n",
       " 'Medall_No_157',\n",
       " 'Medall_No_158',\n",
       " 'Medall_No_159',\n",
       " 'Medall_No_160',\n",
       " 'Medall_No_161',\n",
       " 'Medall_No_162',\n",
       " 'Medall_No_163',\n",
       " 'Medall_No_164',\n",
       " 'Medall_No_165',\n",
       " 'Medall_No_166',\n",
       " 'Medall_No_167',\n",
       " 'Medall_No_168',\n",
       " 'Medall_No_169',\n",
       " 'Medall_No_170',\n",
       " 'Medall_No_171',\n",
       " 'Medall_No_172',\n",
       " 'Medall_No_173',\n",
       " 'Medall_No_174',\n",
       " 'Medall_No_175',\n",
       " 'Medall_No_176',\n",
       " 'Medall_No_177',\n",
       " 'Medall_No_178',\n",
       " 'Medall_No_179',\n",
       " 'Medall_No_180',\n",
       " 'Medall_No_181',\n",
       " 'Medall_No_182',\n",
       " 'Medall_No_183',\n",
       " 'Medall_No_184',\n",
       " 'Medall_No_185',\n",
       " 'Medall_No_186',\n",
       " 'Medall_No_187',\n",
       " 'Medall_No_188',\n",
       " 'Medall_No_189',\n",
       " 'Medall_No_190',\n",
       " 'Medall_No_191',\n",
       " 'Medall_No_192',\n",
       " 'Medall_No_193',\n",
       " 'Medall_No_194',\n",
       " 'Medall_No_195',\n",
       " 'Medall_No_196',\n",
       " 'Medall_No_197',\n",
       " 'Medall_No_198',\n",
       " 'Medall_No_199',\n",
       " 'Medall_No_200',\n",
       " 'Medall_No_201',\n",
       " 'Medall_No_202',\n",
       " 'Medall_No_203',\n",
       " 'Medall_No_204',\n",
       " 'Medall_No_205',\n",
       " 'Medall_No_206',\n",
       " 'Medall_No_207',\n",
       " 'Medall_No_208',\n",
       " 'Medall_No_209',\n",
       " 'Medall_No_210',\n",
       " 'Medall_No_211',\n",
       " 'Medall_No_212',\n",
       " 'Medall_No_213',\n",
       " 'Medall_No_214',\n",
       " 'Medall_No_215',\n",
       " 'Medall_No_216',\n",
       " 'Medall_No_217',\n",
       " 'Medall_No_218',\n",
       " 'Medall_No_219',\n",
       " 'Medall_No_220',\n",
       " 'Medall_No_221',\n",
       " 'Medall_No_222',\n",
       " 'Medall_No_223',\n",
       " 'Medall_No_224',\n",
       " 'Medall_No_225',\n",
       " 'Medall_No_226',\n",
       " 'Medall_No_227',\n",
       " 'Medall_No_228',\n",
       " 'Medall_No_229',\n",
       " 'Medall_No_230',\n",
       " 'Medall_No_231',\n",
       " 'Medall_No_232',\n",
       " 'Medall_No_233',\n",
       " 'Medall_No_234',\n",
       " 'Medall_No_235',\n",
       " 'Medall_No_236',\n",
       " 'Medall_No_237',\n",
       " 'Medall_No_238',\n",
       " 'Medall_No_239',\n",
       " 'Medall_No_240',\n",
       " 'Medall_No_241',\n",
       " 'Medall_No_242',\n",
       " 'Medall_No_243',\n",
       " 'Medall_No_244',\n",
       " 'Medall_No_245',\n",
       " 'Medall_No_246',\n",
       " 'Medall_No_247',\n",
       " 'Medall_No_248',\n",
       " 'Medall_No_249',\n",
       " 'Medall_No_250',\n",
       " 'Medall_No_251',\n",
       " 'Medall_No_252',\n",
       " 'Medall_No_253',\n",
       " 'Medall_No_254',\n",
       " 'Medall_No_255',\n",
       " 'Medall_No_256',\n",
       " 'Medall_No_257',\n",
       " 'Medall_No_258',\n",
       " 'Medall_No_259',\n",
       " 'Medall_No_260',\n",
       " 'Medall_No_261',\n",
       " 'Medall_No_262',\n",
       " 'Medall_No_263',\n",
       " 'Medall_No_264',\n",
       " 'Medall_No_265',\n",
       " 'Medall_No_266',\n",
       " 'Medall_No_267',\n",
       " 'Medall_No_268',\n",
       " 'Medall_No_269',\n",
       " 'Medall_No_270',\n",
       " 'Medall_No_271',\n",
       " 'Medall_No_272',\n",
       " 'Medall_No_273',\n",
       " 'Medall_No_274',\n",
       " 'Medall_No_275',\n",
       " 'Medall_No_276',\n",
       " 'Medall_No_277',\n",
       " 'Medall_No_278',\n",
       " 'Medall_No_279',\n",
       " 'Medall_No_280',\n",
       " 'Medall_No_281',\n",
       " 'Medall_No_282',\n",
       " 'Medall_No_283',\n",
       " 'Medall_No_284',\n",
       " 'Medall_No_285',\n",
       " 'Medall_No_286',\n",
       " 'Medall_No_287',\n",
       " 'Medall_No_288',\n",
       " 'Medall_No_289',\n",
       " 'Medall_No_290',\n",
       " 'Medall_No_291',\n",
       " 'Medall_No_292',\n",
       " 'Medall_No_293',\n",
       " 'Medall_No_294',\n",
       " 'Medall_No_295',\n",
       " 'Medall_No_296',\n",
       " 'Medall_No_297',\n",
       " 'Medall_No_298',\n",
       " 'Medall_No_299',\n",
       " 'Medall_No_300',\n",
       " 'Medall_No_301',\n",
       " 'Medall_No_302',\n",
       " 'Medall_No_303',\n",
       " 'Medall_No_304',\n",
       " 'Medall_No_305',\n",
       " 'Medall_No_306',\n",
       " 'Medall_No_307',\n",
       " 'Medall_No_308',\n",
       " 'Medall_No_309',\n",
       " 'Medall_No_310',\n",
       " 'Medall_No_311',\n",
       " 'Medall_No_312',\n",
       " 'Medall_No_313',\n",
       " 'Medall_No_314',\n",
       " 'Medall_No_315',\n",
       " 'Medall_No_316',\n",
       " 'Medall_No_317',\n",
       " 'Medall_No_318',\n",
       " 'Medall_No_319',\n",
       " 'Medall_No_320',\n",
       " 'Medall_No_321',\n",
       " 'Medall_No_322',\n",
       " 'Medall_No_323',\n",
       " 'Medall_No_324',\n",
       " 'Medall_No_325',\n",
       " 'Medall_No_326',\n",
       " 'Medall_No_327',\n",
       " 'Medall_No_328',\n",
       " 'Medall_No_329',\n",
       " 'Medall_No_330',\n",
       " 'Medall_No_331',\n",
       " 'Medall_No_332',\n",
       " 'Medall_No_333',\n",
       " 'Medall_No_334',\n",
       " 'Medall_No_335',\n",
       " 'Medall_No_336',\n",
       " 'Medall_No_337',\n",
       " 'Medall_No_338',\n",
       " 'Medall_No_339',\n",
       " 'Medall_No_340',\n",
       " 'Medall_No_341',\n",
       " 'Medall_No_342',\n",
       " 'Medall_No_343',\n",
       " 'Medall_No_344',\n",
       " 'Medall_No_345',\n",
       " 'Medall_No_346',\n",
       " 'Medall_No_347',\n",
       " 'Medall_No_348',\n",
       " 'Medall_No_349',\n",
       " 'Medall_No_350',\n",
       " 'Medall_No_351',\n",
       " 'Medall_No_352',\n",
       " 'Medall_No_353',\n",
       " 'Medall_No_354',\n",
       " 'Medall_No_355',\n",
       " 'Medall_No_356',\n",
       " 'Medall_No_357',\n",
       " 'Medall_No_358',\n",
       " 'Medall_No_359',\n",
       " 'Medall_No_360',\n",
       " 'Medall_No_361',\n",
       " 'Medall_No_362',\n",
       " 'Medall_No_363',\n",
       " 'Medall_No_364',\n",
       " 'Medall_No_365',\n",
       " 'Medall_No_366',\n",
       " 'Medall_No_367',\n",
       " 'Medall_No_368',\n",
       " 'Medall_No_369',\n",
       " 'Medall_No_370',\n",
       " 'Medall_No_371',\n",
       " 'Medall_No_372',\n",
       " 'Medall_No_373',\n",
       " 'Medall_No_374',\n",
       " 'Medall_No_375',\n",
       " 'Medall_No_376',\n",
       " 'Medall_No_377',\n",
       " 'Medall_No_378',\n",
       " 'Medall_No_379',\n",
       " 'Medall_No_380',\n",
       " 'Medall_No_381',\n",
       " 'Medall_No_382',\n",
       " 'Medall_No_383',\n",
       " 'Medall_No_384',\n",
       " 'Medall_No_385',\n",
       " 'Medall_No_386',\n",
       " 'Medall_No_387',\n",
       " 'Medall_No_388',\n",
       " 'Medall_No_389',\n",
       " 'Medall_No_390',\n",
       " 'Medall_No_391',\n",
       " 'Medall_No_392',\n",
       " 'Medall_No_393',\n",
       " 'Medall_No_394',\n",
       " 'Medall_No_395',\n",
       " 'Medall_No_396',\n",
       " 'Medall_No_397',\n",
       " 'Medall_No_398',\n",
       " 'Medall_No_399',\n",
       " 'Medall_No_400',\n",
       " 'Medall_No_401',\n",
       " 'Medall_No_402',\n",
       " 'Medall_No_403',\n",
       " 'Medall_No_404',\n",
       " 'Medall_No_405',\n",
       " 'Medall_No_406',\n",
       " 'Medall_No_407',\n",
       " 'Medall_No_408',\n",
       " 'Medall_No_409',\n",
       " 'Medall_No_410',\n",
       " 'Medall_No_411',\n",
       " 'Medall_No_412',\n",
       " 'Medall_No_413',\n",
       " 'Medall_No_414',\n",
       " 'Medall_No_415',\n",
       " 'Medall_No_416',\n",
       " 'Medall_No_417',\n",
       " 'Medall_No_418',\n",
       " 'Medall_No_419',\n",
       " 'Medall_No_420',\n",
       " 'Medall_No_421',\n",
       " 'Medall_No_422',\n",
       " 'Medall_No_423',\n",
       " 'Medall_No_424',\n",
       " 'Medall_No_425',\n",
       " 'Medall_No_426',\n",
       " 'Medall_No_427',\n",
       " 'Medall_No_428',\n",
       " 'Medall_No_429',\n",
       " 'Medall_No_430',\n",
       " 'Medall_No_431',\n",
       " 'Medall_No_432',\n",
       " 'Medall_No_433',\n",
       " 'Medall_No_434',\n",
       " 'Medall_No_435',\n",
       " 'Medall_No_436',\n",
       " 'Medall_No_437',\n",
       " 'Medall_No_438',\n",
       " 'Medall_No_439',\n",
       " 'Medall_No_440',\n",
       " 'Medall_No_441',\n",
       " 'Medall_No_442',\n",
       " 'Medall_No_443',\n",
       " 'Medall_No_444',\n",
       " 'Medall_No_445',\n",
       " 'Medall_No_446',\n",
       " 'Medall_No_447',\n",
       " 'Medall_No_448',\n",
       " 'Medall_No_449',\n",
       " 'Medall_No_450',\n",
       " 'Medall_No_451',\n",
       " 'Medall_No_452',\n",
       " 'Medall_No_453',\n",
       " 'Medall_No_454',\n",
       " 'Medall_No_455',\n",
       " 'Medall_No_456',\n",
       " 'Medall_No_457',\n",
       " 'Medall_No_458',\n",
       " 'Medall_No_459',\n",
       " 'Medall_No_460',\n",
       " 'Medall_No_461',\n",
       " 'Medall_No_462',\n",
       " 'Medall_No_463',\n",
       " 'Medall_No_464',\n",
       " 'Medall_No_465',\n",
       " 'Medall_No_466',\n",
       " 'Medall_No_467',\n",
       " 'Medall_No_468',\n",
       " 'Medall_No_469',\n",
       " 'Medall_No_470',\n",
       " 'Medall_No_471',\n",
       " 'Medall_No_472',\n",
       " 'Medall_No_473',\n",
       " 'Medall_No_474',\n",
       " 'Medall_No_475',\n",
       " 'Medall_No_476',\n",
       " 'Medall_No_477',\n",
       " 'Medall_No_478',\n",
       " 'Medall_No_479',\n",
       " 'Medall_No_480',\n",
       " 'Medall_No_481',\n",
       " 'Medall_No_482',\n",
       " 'Medall_No_483',\n",
       " 'Medall_No_484',\n",
       " 'Medall_No_485',\n",
       " 'Medall_No_486',\n",
       " 'Medall_No_487',\n",
       " 'Medall_No_488',\n",
       " 'Medall_No_489',\n",
       " 'Medall_No_490',\n",
       " 'Medall_No_491',\n",
       " 'Medall_No_492',\n",
       " 'Medall_No_493',\n",
       " 'Medall_No_494',\n",
       " 'Medall_No_495',\n",
       " 'Medall_No_496',\n",
       " 'Medall_No_497',\n",
       " 'Medall_No_498',\n",
       " 'Medall_No_499',\n",
       " 'Medall_No_500',\n",
       " 'Medall_No_501',\n",
       " 'Medall_No_502',\n",
       " 'Medall_No_503',\n",
       " 'Medall_No_504',\n",
       " 'Medall_No_505',\n",
       " 'Medall_No_506',\n",
       " 'Medall_No_507',\n",
       " 'Medall_No_508',\n",
       " 'Medall_No_509',\n",
       " 'Medall_No_510',\n",
       " 'Medall_No_511',\n",
       " 'Medall_No_512',\n",
       " 'Medall_No_513',\n",
       " 'Medall_No_514',\n",
       " 'Medall_No_515',\n",
       " 'Medall_No_516',\n",
       " 'Medall_No_517',\n",
       " 'Medall_No_518',\n",
       " 'Medall_No_519',\n",
       " 'Medall_No_520',\n",
       " 'Medall_No_521',\n",
       " 'Medall_No_522',\n",
       " 'Medall_No_523',\n",
       " 'Medall_No_524',\n",
       " 'Medall_No_525',\n",
       " 'Medall_No_526',\n",
       " 'Medall_No_527',\n",
       " 'Medall_No_528',\n",
       " 'Medall_No_529',\n",
       " 'Medall_No_530',\n",
       " 'Medall_No_531',\n",
       " 'Medall_No_532',\n",
       " 'Medall_No_533',\n",
       " 'Medall_No_534',\n",
       " 'Medall_No_535',\n",
       " 'Medall_No_536',\n",
       " 'Medall_No_537',\n",
       " 'Medall_No_538',\n",
       " 'Medall_No_539',\n",
       " 'Medall_No_540',\n",
       " 'Medall_No_541',\n",
       " 'Medall_No_542',\n",
       " 'Medall_No_543',\n",
       " 'Medall_No_544',\n",
       " 'Medall_No_545',\n",
       " 'Medall_No_546',\n",
       " 'Medall_No_547',\n",
       " 'Medall_No_548',\n",
       " 'Medall_No_549',\n",
       " 'Medall_No_550',\n",
       " 'Medall_No_551',\n",
       " 'Medall_No_552',\n",
       " 'Medall_No_553',\n",
       " 'Medall_No_554',\n",
       " 'Medall_No_555',\n",
       " 'Medall_No_556',\n",
       " 'Medall_No_557',\n",
       " 'Medall_No_558',\n",
       " 'Medall_No_559',\n",
       " 'Medall_No_560',\n",
       " 'Medall_No_561',\n",
       " 'Medall_No_562',\n",
       " 'Medall_No_563',\n",
       " 'Medall_No_564',\n",
       " 'Medall_No_565',\n",
       " 'Medall_No_566',\n",
       " 'Medall_No_567',\n",
       " 'Medall_No_568',\n",
       " 'Medall_No_569',\n",
       " 'Medall_No_570',\n",
       " 'Medall_No_571',\n",
       " 'Medall_No_572',\n",
       " 'Medall_No_573',\n",
       " 'Medall_No_574',\n",
       " 'Medall_No_575',\n",
       " 'Medall_No_576',\n",
       " 'Medall_No_577',\n",
       " 'Medall_No_578',\n",
       " 'Medall_No_579',\n",
       " 'Medall_No_580',\n",
       " 'Medall_No_581',\n",
       " 'Medall_No_582',\n",
       " 'Medall_No_583',\n",
       " 'Medall_No_584',\n",
       " 'Medall_No_585',\n",
       " 'Medall_No_586',\n",
       " 'Medall_No_587',\n",
       " 'Medall_No_588',\n",
       " 'Medall_No_589',\n",
       " 'Medall_No_590',\n",
       " 'Medall_No_591',\n",
       " 'Medall_No_592',\n",
       " 'Medall_No_593',\n",
       " 'Medall_No_594',\n",
       " 'Medall_No_595',\n",
       " 'Medall_No_596',\n",
       " 'Medall_No_597',\n",
       " 'Medall_No_598',\n",
       " 'Medall_No_599',\n",
       " 'Medall_No_600',\n",
       " 'Medall_No_601',\n",
       " 'Medall_No_602',\n",
       " 'Medall_No_603',\n",
       " 'Medall_No_604',\n",
       " 'Medall_No_605',\n",
       " 'Medall_No_606',\n",
       " 'Medall_No_607',\n",
       " 'Medall_No_608',\n",
       " 'Medall_No_609',\n",
       " 'Medall_No_610',\n",
       " 'Medall_No_611',\n",
       " 'Medall_No_612',\n",
       " 'Medall_No_613',\n",
       " 'Medall_No_614',\n",
       " 'Medall_No_615',\n",
       " 'Medall_No_616',\n",
       " 'Medall_No_617',\n",
       " 'Medall_No_618',\n",
       " 'Medall_No_619',\n",
       " 'Medall_No_620',\n",
       " 'Medall_No_621',\n",
       " 'Medall_No_622',\n",
       " 'Medall_No_623',\n",
       " 'Medall_No_624',\n",
       " 'Medall_No_625',\n",
       " 'Medall_No_626',\n",
       " 'Medall_No_627',\n",
       " 'Medall_No_628',\n",
       " 'Medall_No_629',\n",
       " 'Medall_No_630',\n",
       " 'Medall_No_631',\n",
       " 'Medall_No_632',\n",
       " 'Medall_No_633',\n",
       " 'Medall_No_634',\n",
       " 'Medall_No_635',\n",
       " 'Medall_No_636',\n",
       " 'Medall_No_637',\n",
       " 'Medall_No_638',\n",
       " 'Medall_No_639',\n",
       " 'Medall_No_640',\n",
       " 'Medall_No_641',\n",
       " 'Medall_No_642',\n",
       " 'Medall_No_643',\n",
       " 'Medall_No_644',\n",
       " 'Medall_No_645',\n",
       " 'Medall_No_646',\n",
       " 'Medall_No_647',\n",
       " 'Medall_No_648',\n",
       " 'Medall_No_649',\n",
       " 'Medall_No_650',\n",
       " 'Medall_No_651',\n",
       " 'Medall_No_652',\n",
       " 'Medall_No_653',\n",
       " 'Medall_No_654',\n",
       " 'Medall_No_655',\n",
       " 'Medall_No_656',\n",
       " 'Medall_No_657',\n",
       " 'Medall_No_658',\n",
       " 'Medall_No_659',\n",
       " 'Medall_No_660',\n",
       " 'Medall_No_661',\n",
       " 'Medall_No_662',\n",
       " 'Medall_No_663',\n",
       " 'Medall_No_664',\n",
       " 'Medall_No_665',\n",
       " 'Medall_No_666',\n",
       " 'Medall_No_667',\n",
       " 'Medall_No_668',\n",
       " 'Medall_No_669',\n",
       " 'Medall_No_670',\n",
       " 'Medall_No_671',\n",
       " 'Medall_No_672',\n",
       " 'Medall_No_673',\n",
       " 'Medall_No_674',\n",
       " 'Medall_No_675',\n",
       " 'Medall_No_676',\n",
       " 'Medall_No_677',\n",
       " 'Medall_No_678',\n",
       " 'Medall_No_679',\n",
       " 'Medall_No_680',\n",
       " 'Medall_No_681',\n",
       " 'Medall_No_682',\n",
       " 'Medall_No_683',\n",
       " 'Medall_No_684',\n",
       " 'Medall_No_685',\n",
       " 'Medall_No_686',\n",
       " 'Medall_No_687',\n",
       " 'Medall_No_688',\n",
       " 'Medall_No_689',\n",
       " 'Medall_No_690',\n",
       " 'Medall_No_691',\n",
       " 'Medall_No_692',\n",
       " 'Medall_No_693',\n",
       " 'Medall_No_694',\n",
       " 'Medall_No_695',\n",
       " 'Medall_No_696',\n",
       " 'Medall_No_697',\n",
       " 'Medall_No_698',\n",
       " 'Medall_No_699',\n",
       " 'Medall_No_700',\n",
       " 'Medall_No_701',\n",
       " 'Medall_No_702',\n",
       " 'Medall_No_703',\n",
       " 'Medall_No_704',\n",
       " 'Medall_No_705',\n",
       " 'Medall_No_706',\n",
       " 'Medall_No_707',\n",
       " 'Medall_No_708',\n",
       " 'Medall_No_709',\n",
       " 'Medall_No_710',\n",
       " 'Medall_No_711',\n",
       " 'Medall_No_712',\n",
       " 'Medall_No_713',\n",
       " 'Medall_No_714',\n",
       " 'Medall_No_715',\n",
       " 'Medall_No_716',\n",
       " 'Medall_No_717',\n",
       " 'Medall_No_718',\n",
       " 'Medall_No_719',\n",
       " 'Medall_No_720',\n",
       " 'Medall_No_721',\n",
       " 'Medall_No_722',\n",
       " 'Medall_No_723',\n",
       " 'Medall_No_724',\n",
       " 'Medall_No_725',\n",
       " 'Medall_No_726',\n",
       " 'Medall_No_727',\n",
       " 'Medall_No_728',\n",
       " 'Medall_No_729',\n",
       " 'Medall_No_730',\n",
       " 'Medall_No_731',\n",
       " 'Medall_No_732',\n",
       " 'Medall_No_733',\n",
       " 'Medall_No_734',\n",
       " 'Medall_No_735',\n",
       " 'Medall_No_736',\n",
       " 'Medall_No_737',\n",
       " 'Medall_No_738',\n",
       " 'Medall_No_739',\n",
       " 'Medall_No_740',\n",
       " 'Medall_No_741',\n",
       " 'Medall_No_742',\n",
       " 'Medall_No_743',\n",
       " 'Medall_No_744',\n",
       " 'Medall_No_745',\n",
       " 'Medall_No_746',\n",
       " 'Medall_No_747',\n",
       " 'Medall_No_748',\n",
       " 'Medall_No_749',\n",
       " 'Medall_No_750',\n",
       " 'Medall_No_751',\n",
       " 'Medall_No_752',\n",
       " 'Medall_No_753',\n",
       " 'Medall_No_754',\n",
       " 'Medall_No_755',\n",
       " 'Medall_No_756',\n",
       " 'Medall_No_757',\n",
       " 'Medall_No_758',\n",
       " 'Medall_No_759',\n",
       " 'Medall_No_760',\n",
       " 'Medall_No_761',\n",
       " 'Medall_No_762',\n",
       " 'Medall_No_763',\n",
       " 'Medall_No_764',\n",
       " 'Medall_No_765',\n",
       " 'Medall_No_766',\n",
       " 'Medall_No_767',\n",
       " 'Medall_No_768',\n",
       " 'Medall_No_769',\n",
       " 'Medall_No_770',\n",
       " 'Medall_No_771',\n",
       " 'Medall_No_772',\n",
       " 'Medall_No_773',\n",
       " 'Medall_No_774',\n",
       " 'Medall_No_775',\n",
       " 'Medall_No_776',\n",
       " 'Medall_No_777',\n",
       " 'Medall_No_778',\n",
       " 'Medall_No_779',\n",
       " 'Medall_No_780',\n",
       " 'Medall_No_781',\n",
       " 'Medall_No_782',\n",
       " 'Medall_No_783',\n",
       " 'Medall_No_784',\n",
       " 'Medall_No_785',\n",
       " 'Medall_No_786',\n",
       " 'Medall_No_787',\n",
       " 'Medall_No_788',\n",
       " 'Medall_No_789',\n",
       " 'Medall_No_790',\n",
       " 'Medall_No_791',\n",
       " 'Medall_No_792',\n",
       " 'Medall_No_793',\n",
       " 'Medall_No_794',\n",
       " 'Medall_No_795',\n",
       " 'Medall_No_796',\n",
       " 'Medall_No_797',\n",
       " 'Medall_No_798',\n",
       " 'Medall_No_799',\n",
       " 'Medall_No_800',\n",
       " 'Medall_No_801',\n",
       " 'Medall_No_802',\n",
       " 'Medall_No_803',\n",
       " 'Medall_No_804',\n",
       " 'Medall_No_805',\n",
       " 'Medall_No_806',\n",
       " 'Medall_No_807',\n",
       " 'Medall_No_808',\n",
       " 'Medall_No_809',\n",
       " 'Medall_No_810',\n",
       " 'Medall_No_811',\n",
       " 'Medall_No_812',\n",
       " 'Medall_No_813',\n",
       " 'Medall_No_814',\n",
       " 'Medall_No_815',\n",
       " 'Medall_No_816',\n",
       " 'Medall_No_817',\n",
       " 'Medall_No_818',\n",
       " 'Medall_No_819',\n",
       " 'Medall_No_820',\n",
       " 'Medall_No_821',\n",
       " 'Medall_No_822',\n",
       " 'Medall_No_823',\n",
       " 'Medall_No_824',\n",
       " 'Medall_No_825',\n",
       " 'Medall_No_826',\n",
       " 'Medall_No_827',\n",
       " 'Medall_No_828',\n",
       " 'Medall_No_829',\n",
       " 'Medall_No_830',\n",
       " 'Medall_No_831',\n",
       " 'Medall_No_832',\n",
       " 'Medall_No_833',\n",
       " 'Medall_No_834',\n",
       " 'Medall_No_835',\n",
       " 'Medall_No_836',\n",
       " 'Medall_No_837',\n",
       " 'Medall_No_838',\n",
       " 'Medall_No_839',\n",
       " 'Medall_No_840',\n",
       " 'Medall_No_841',\n",
       " 'Medall_No_842',\n",
       " 'Medall_No_843',\n",
       " 'Medall_No_844',\n",
       " 'Medall_No_845',\n",
       " 'Medall_No_846',\n",
       " 'Medall_No_847',\n",
       " 'Medall_No_848',\n",
       " 'Medall_No_849',\n",
       " 'Medall_No_850',\n",
       " 'Medall_No_851',\n",
       " 'Medall_No_852',\n",
       " 'Medall_No_853',\n",
       " 'Medall_No_854',\n",
       " 'Medall_No_855',\n",
       " 'Medall_No_856',\n",
       " 'Medall_No_857',\n",
       " 'Medall_No_858',\n",
       " 'Medall_No_859',\n",
       " 'Medall_No_860',\n",
       " 'Medall_No_861',\n",
       " 'Medall_No_862',\n",
       " 'Medall_No_863',\n",
       " 'Medall_No_864',\n",
       " 'Medall_No_865',\n",
       " 'Medall_No_866',\n",
       " 'Medall_No_867',\n",
       " 'Medall_No_868',\n",
       " 'Medall_No_869',\n",
       " 'Medall_No_870',\n",
       " 'Medall_No_871',\n",
       " 'Medall_No_872',\n",
       " 'Medall_No_873',\n",
       " 'Medall_No_874',\n",
       " 'Medall_No_875',\n",
       " 'Medall_No_876',\n",
       " 'Medall_No_877',\n",
       " 'Medall_No_878',\n",
       " 'Medall_No_879',\n",
       " 'Medall_No_880',\n",
       " 'Medall_No_881',\n",
       " 'Medall_No_882',\n",
       " 'Medall_No_883',\n",
       " 'Medall_No_884',\n",
       " 'Medall_No_885',\n",
       " 'Medall_No_886',\n",
       " 'Medall_No_887',\n",
       " 'Medall_No_888',\n",
       " 'Medall_No_889',\n",
       " 'Medall_No_890',\n",
       " 'Medall_No_891',\n",
       " 'Medall_No_892',\n",
       " 'Medall_No_893',\n",
       " 'Medall_No_894',\n",
       " 'Medall_No_895',\n",
       " 'Medall_No_896',\n",
       " 'Medall_No_897',\n",
       " 'Medall_No_898',\n",
       " 'Medall_No_899',\n",
       " 'Medall_No_900',\n",
       " 'Medall_No_901',\n",
       " 'Medall_No_902',\n",
       " 'Medall_No_903',\n",
       " 'Medall_No_904',\n",
       " 'Medall_No_905',\n",
       " 'Medall_No_906',\n",
       " 'Medall_No_907',\n",
       " 'Medall_No_908',\n",
       " 'Medall_No_909',\n",
       " 'Medall_No_910',\n",
       " 'Medall_No_911',\n",
       " 'Medall_No_912',\n",
       " 'Medall_No_913',\n",
       " 'Medall_No_914',\n",
       " 'Medall_No_915',\n",
       " 'Medall_No_916',\n",
       " 'Medall_No_917',\n",
       " 'Medall_No_918',\n",
       " 'Medall_No_919',\n",
       " 'Medall_No_920',\n",
       " 'Medall_No_921',\n",
       " 'Medall_No_922',\n",
       " 'Medall_No_923',\n",
       " 'Medall_No_924',\n",
       " 'Medall_No_925',\n",
       " 'Medall_No_926',\n",
       " 'Medall_No_927',\n",
       " 'Medall_No_928',\n",
       " 'Medall_No_929',\n",
       " 'Medall_No_930',\n",
       " 'Medall_No_931',\n",
       " 'Medall_No_932',\n",
       " 'Medall_No_933',\n",
       " 'Medall_No_934',\n",
       " 'Medall_No_935',\n",
       " 'Medall_No_936',\n",
       " 'Medall_No_937',\n",
       " 'Medall_No_938',\n",
       " 'Medall_No_939',\n",
       " 'Medall_No_940',\n",
       " 'Medall_No_941',\n",
       " 'Medall_No_942',\n",
       " 'Medall_No_943',\n",
       " 'Medall_No_944',\n",
       " 'Medall_No_945',\n",
       " 'Medall_No_946',\n",
       " 'Medall_No_947',\n",
       " 'Medall_No_948',\n",
       " 'Medall_No_949',\n",
       " 'Medall_No_950',\n",
       " 'Medall_No_951',\n",
       " 'Medall_No_952',\n",
       " 'Medall_No_953',\n",
       " 'Medall_No_954',\n",
       " 'Medall_No_955',\n",
       " 'Medall_No_956',\n",
       " 'Medall_No_957',\n",
       " 'Medall_No_958',\n",
       " 'Medall_No_959',\n",
       " 'Medall_No_960',\n",
       " 'Medall_No_961',\n",
       " 'Medall_No_962',\n",
       " 'Medall_No_963',\n",
       " 'Medall_No_964',\n",
       " 'Medall_No_965',\n",
       " 'Medall_No_966',\n",
       " 'Medall_No_967',\n",
       " 'Medall_No_968',\n",
       " 'Medall_No_969',\n",
       " 'Medall_No_970',\n",
       " 'Medall_No_971',\n",
       " 'Medall_No_972',\n",
       " 'Medall_No_973',\n",
       " 'Medall_No_974',\n",
       " 'Medall_No_975',\n",
       " 'Medall_No_976',\n",
       " 'Medall_No_977',\n",
       " 'Medall_No_978',\n",
       " 'Medall_No_979',\n",
       " 'Medall_No_980',\n",
       " 'Medall_No_981',\n",
       " 'Medall_No_982',\n",
       " 'Medall_No_983',\n",
       " 'Medall_No_984',\n",
       " 'Medall_No_985',\n",
       " 'Medall_No_986',\n",
       " 'Medall_No_987',\n",
       " 'Medall_No_988',\n",
       " 'Medall_No_989',\n",
       " 'Medall_No_990',\n",
       " 'Medall_No_991',\n",
       " 'Medall_No_992',\n",
       " 'Medall_No_993',\n",
       " 'Medall_No_994',\n",
       " 'Medall_No_995',\n",
       " 'Medall_No_996',\n",
       " 'Medall_No_997',\n",
       " 'Medall_No_998',\n",
       " 'Medall_No_999',\n",
       " 'Medall_No_1000',\n",
       " ...]"
      ]
     },
     "metadata": {},
     "output_type": "display_data"
    }
   ],
   "source": [
    "# But what we can do, we can pass a complete list or sequence that has exactly the same amount of elements as our index as the new index.\n",
    "# summer.index.size - 31165\n",
    "# so if we pass here a list with 31,165 elements, we can actually change the index label.\n",
    "# ******************************************************************************************\n",
    "new_index = [\"Medall_No_{}\".format(i) for i in range(1, summer.index.size + 1)]\n",
    "new_index"
   ]
  },
  {
   "cell_type": "code",
   "execution_count": null,
   "metadata": {},
   "outputs": [
    {
     "data": {
      "text/html": [
       "<div>\n",
       "<style scoped>\n",
       "    .dataframe tbody tr th:only-of-type {\n",
       "        vertical-align: middle;\n",
       "    }\n",
       "\n",
       "    .dataframe tbody tr th {\n",
       "        vertical-align: top;\n",
       "    }\n",
       "\n",
       "    .dataframe thead th {\n",
       "        text-align: right;\n",
       "    }\n",
       "</style>\n",
       "<table border=\"1\" class=\"dataframe\">\n",
       "  <thead>\n",
       "    <tr style=\"text-align: right;\">\n",
       "      <th></th>\n",
       "      <th>Athlete</th>\n",
       "      <th>City</th>\n",
       "      <th>Sport</th>\n",
       "      <th>Discipline</th>\n",
       "      <th>Country</th>\n",
       "      <th>Gender</th>\n",
       "      <th>Event</th>\n",
       "      <th>Medal</th>\n",
       "    </tr>\n",
       "  </thead>\n",
       "  <tbody>\n",
       "    <tr>\n",
       "      <th>Medall_No_1</th>\n",
       "      <td>HAJOS, Alfred</td>\n",
       "      <td>Athens</td>\n",
       "      <td>Aquatics</td>\n",
       "      <td>Swimming</td>\n",
       "      <td>HUN</td>\n",
       "      <td>Men</td>\n",
       "      <td>100M Freestyle</td>\n",
       "      <td>Gold</td>\n",
       "    </tr>\n",
       "    <tr>\n",
       "      <th>Medall_No_2</th>\n",
       "      <td>HERSCHMANN, Otto</td>\n",
       "      <td>Athens</td>\n",
       "      <td>Aquatics</td>\n",
       "      <td>Swimming</td>\n",
       "      <td>AUT</td>\n",
       "      <td>Men</td>\n",
       "      <td>100M Freestyle</td>\n",
       "      <td>Silver</td>\n",
       "    </tr>\n",
       "    <tr>\n",
       "      <th>Medall_No_3</th>\n",
       "      <td>DRIVAS, Dimitrios</td>\n",
       "      <td>Athens</td>\n",
       "      <td>Aquatics</td>\n",
       "      <td>Swimming</td>\n",
       "      <td>GRE</td>\n",
       "      <td>Men</td>\n",
       "      <td>100M Freestyle For Sailors</td>\n",
       "      <td>Bronze</td>\n",
       "    </tr>\n",
       "    <tr>\n",
       "      <th>Medall_No_4</th>\n",
       "      <td>MALOKINIS, Ioannis</td>\n",
       "      <td>Athens</td>\n",
       "      <td>Aquatics</td>\n",
       "      <td>Swimming</td>\n",
       "      <td>GRE</td>\n",
       "      <td>Men</td>\n",
       "      <td>100M Freestyle For Sailors</td>\n",
       "      <td>Gold</td>\n",
       "    </tr>\n",
       "    <tr>\n",
       "      <th>Medall_No_5</th>\n",
       "      <td>CHASAPIS, Spiridon</td>\n",
       "      <td>Athens</td>\n",
       "      <td>Aquatics</td>\n",
       "      <td>Swimming</td>\n",
       "      <td>GRE</td>\n",
       "      <td>Men</td>\n",
       "      <td>100M Freestyle For Sailors</td>\n",
       "      <td>Silver</td>\n",
       "    </tr>\n",
       "  </tbody>\n",
       "</table>\n",
       "</div>"
      ],
      "text/plain": [
       "                        Athlete    City     Sport Discipline Country Gender  \\\n",
       "Medall_No_1       HAJOS, Alfred  Athens  Aquatics   Swimming     HUN    Men   \n",
       "Medall_No_2    HERSCHMANN, Otto  Athens  Aquatics   Swimming     AUT    Men   \n",
       "Medall_No_3   DRIVAS, Dimitrios  Athens  Aquatics   Swimming     GRE    Men   \n",
       "Medall_No_4  MALOKINIS, Ioannis  Athens  Aquatics   Swimming     GRE    Men   \n",
       "Medall_No_5  CHASAPIS, Spiridon  Athens  Aquatics   Swimming     GRE    Men   \n",
       "\n",
       "                                  Event   Medal  \n",
       "Medall_No_1              100M Freestyle    Gold  \n",
       "Medall_No_2              100M Freestyle  Silver  \n",
       "Medall_No_3  100M Freestyle For Sailors  Bronze  \n",
       "Medall_No_4  100M Freestyle For Sailors    Gold  \n",
       "Medall_No_5  100M Freestyle For Sailors  Silver  "
      ]
     },
     "metadata": {},
     "output_type": "display_data"
    }
   ],
   "source": [
    "# we have set the new index labels\n",
    "# ******************************************************************************************\n",
    "summer.index = new_index\n",
    "summer.head()"
   ]
  },
  {
   "cell_type": "code",
   "execution_count": null,
   "metadata": {},
   "outputs": [
    {
     "data": {
      "text/html": [
       "<div>\n",
       "<style scoped>\n",
       "    .dataframe tbody tr th:only-of-type {\n",
       "        vertical-align: middle;\n",
       "    }\n",
       "\n",
       "    .dataframe tbody tr th {\n",
       "        vertical-align: top;\n",
       "    }\n",
       "\n",
       "    .dataframe thead th {\n",
       "        text-align: right;\n",
       "    }\n",
       "</style>\n",
       "<table border=\"1\" class=\"dataframe\">\n",
       "  <thead>\n",
       "    <tr style=\"text-align: right;\">\n",
       "      <th></th>\n",
       "      <th>Athlete</th>\n",
       "      <th>City</th>\n",
       "      <th>Sport</th>\n",
       "      <th>Discipline</th>\n",
       "      <th>Country</th>\n",
       "      <th>Gender</th>\n",
       "      <th>Event</th>\n",
       "      <th>Medal</th>\n",
       "    </tr>\n",
       "  </thead>\n",
       "  <tbody>\n",
       "    <tr>\n",
       "      <th>Medall_No_31161</th>\n",
       "      <td>JANIKOWSKI, Damian</td>\n",
       "      <td>London</td>\n",
       "      <td>Wrestling</td>\n",
       "      <td>Wrestling Freestyle</td>\n",
       "      <td>POL</td>\n",
       "      <td>Men</td>\n",
       "      <td>Wg 84 KG</td>\n",
       "      <td>Bronze</td>\n",
       "    </tr>\n",
       "    <tr>\n",
       "      <th>Medall_No_31162</th>\n",
       "      <td>REZAEI, Ghasem Gholamreza</td>\n",
       "      <td>London</td>\n",
       "      <td>Wrestling</td>\n",
       "      <td>Wrestling Freestyle</td>\n",
       "      <td>IRI</td>\n",
       "      <td>Men</td>\n",
       "      <td>Wg 96 KG</td>\n",
       "      <td>Gold</td>\n",
       "    </tr>\n",
       "    <tr>\n",
       "      <th>Medall_No_31163</th>\n",
       "      <td>TOTROV, Rustam</td>\n",
       "      <td>London</td>\n",
       "      <td>Wrestling</td>\n",
       "      <td>Wrestling Freestyle</td>\n",
       "      <td>RUS</td>\n",
       "      <td>Men</td>\n",
       "      <td>Wg 96 KG</td>\n",
       "      <td>Silver</td>\n",
       "    </tr>\n",
       "    <tr>\n",
       "      <th>Medall_No_31164</th>\n",
       "      <td>ALEKSANYAN, Artur</td>\n",
       "      <td>London</td>\n",
       "      <td>Wrestling</td>\n",
       "      <td>Wrestling Freestyle</td>\n",
       "      <td>ARM</td>\n",
       "      <td>Men</td>\n",
       "      <td>Wg 96 KG</td>\n",
       "      <td>Bronze</td>\n",
       "    </tr>\n",
       "    <tr>\n",
       "      <th>Medall_No_31165</th>\n",
       "      <td>LIDBERG, Jimmy</td>\n",
       "      <td>London</td>\n",
       "      <td>Wrestling</td>\n",
       "      <td>Wrestling Freestyle</td>\n",
       "      <td>SWE</td>\n",
       "      <td>Men</td>\n",
       "      <td>Wg 96 KG</td>\n",
       "      <td>Bronze</td>\n",
       "    </tr>\n",
       "  </tbody>\n",
       "</table>\n",
       "</div>"
      ],
      "text/plain": [
       "                                   Athlete    City      Sport  \\\n",
       "Medall_No_31161         JANIKOWSKI, Damian  London  Wrestling   \n",
       "Medall_No_31162  REZAEI, Ghasem Gholamreza  London  Wrestling   \n",
       "Medall_No_31163             TOTROV, Rustam  London  Wrestling   \n",
       "Medall_No_31164          ALEKSANYAN, Artur  London  Wrestling   \n",
       "Medall_No_31165             LIDBERG, Jimmy  London  Wrestling   \n",
       "\n",
       "                          Discipline Country Gender     Event   Medal  \n",
       "Medall_No_31161  Wrestling Freestyle     POL    Men  Wg 84 KG  Bronze  \n",
       "Medall_No_31162  Wrestling Freestyle     IRI    Men  Wg 96 KG    Gold  \n",
       "Medall_No_31163  Wrestling Freestyle     RUS    Men  Wg 96 KG  Silver  \n",
       "Medall_No_31164  Wrestling Freestyle     ARM    Men  Wg 96 KG  Bronze  \n",
       "Medall_No_31165  Wrestling Freestyle     SWE    Men  Wg 96 KG  Bronze  "
      ]
     },
     "metadata": {},
     "output_type": "display_data"
    }
   ],
   "source": [
    "summer.tail()"
   ]
  },
  {
   "cell_type": "code",
   "execution_count": null,
   "metadata": {},
   "outputs": [
    {
     "data": {
      "text/plain": [
       "True"
      ]
     },
     "metadata": {},
     "output_type": "display_data"
    }
   ],
   "source": [
    "summer.index.is_unique"
   ]
  },
  {
   "cell_type": "code",
   "execution_count": null,
   "metadata": {},
   "outputs": [
    {
     "data": {
      "text/html": [
       "<div>\n",
       "<style scoped>\n",
       "    .dataframe tbody tr th:only-of-type {\n",
       "        vertical-align: middle;\n",
       "    }\n",
       "\n",
       "    .dataframe tbody tr th {\n",
       "        vertical-align: top;\n",
       "    }\n",
       "\n",
       "    .dataframe thead th {\n",
       "        text-align: right;\n",
       "    }\n",
       "</style>\n",
       "<table border=\"1\" class=\"dataframe\">\n",
       "  <thead>\n",
       "    <tr style=\"text-align: right;\">\n",
       "      <th></th>\n",
       "      <th>Athlete</th>\n",
       "      <th>City</th>\n",
       "      <th>Sport</th>\n",
       "      <th>Discipline</th>\n",
       "      <th>Country</th>\n",
       "      <th>Gender</th>\n",
       "      <th>Event</th>\n",
       "      <th>Medal</th>\n",
       "    </tr>\n",
       "    <tr>\n",
       "      <th>Medal_No</th>\n",
       "      <th></th>\n",
       "      <th></th>\n",
       "      <th></th>\n",
       "      <th></th>\n",
       "      <th></th>\n",
       "      <th></th>\n",
       "      <th></th>\n",
       "      <th></th>\n",
       "    </tr>\n",
       "  </thead>\n",
       "  <tbody>\n",
       "    <tr>\n",
       "      <th>Medall_No_1</th>\n",
       "      <td>HAJOS, Alfred</td>\n",
       "      <td>Athens</td>\n",
       "      <td>Aquatics</td>\n",
       "      <td>Swimming</td>\n",
       "      <td>HUN</td>\n",
       "      <td>Men</td>\n",
       "      <td>100M Freestyle</td>\n",
       "      <td>Gold</td>\n",
       "    </tr>\n",
       "    <tr>\n",
       "      <th>Medall_No_2</th>\n",
       "      <td>HERSCHMANN, Otto</td>\n",
       "      <td>Athens</td>\n",
       "      <td>Aquatics</td>\n",
       "      <td>Swimming</td>\n",
       "      <td>AUT</td>\n",
       "      <td>Men</td>\n",
       "      <td>100M Freestyle</td>\n",
       "      <td>Silver</td>\n",
       "    </tr>\n",
       "    <tr>\n",
       "      <th>Medall_No_3</th>\n",
       "      <td>DRIVAS, Dimitrios</td>\n",
       "      <td>Athens</td>\n",
       "      <td>Aquatics</td>\n",
       "      <td>Swimming</td>\n",
       "      <td>GRE</td>\n",
       "      <td>Men</td>\n",
       "      <td>100M Freestyle For Sailors</td>\n",
       "      <td>Bronze</td>\n",
       "    </tr>\n",
       "    <tr>\n",
       "      <th>Medall_No_4</th>\n",
       "      <td>MALOKINIS, Ioannis</td>\n",
       "      <td>Athens</td>\n",
       "      <td>Aquatics</td>\n",
       "      <td>Swimming</td>\n",
       "      <td>GRE</td>\n",
       "      <td>Men</td>\n",
       "      <td>100M Freestyle For Sailors</td>\n",
       "      <td>Gold</td>\n",
       "    </tr>\n",
       "    <tr>\n",
       "      <th>Medall_No_5</th>\n",
       "      <td>CHASAPIS, Spiridon</td>\n",
       "      <td>Athens</td>\n",
       "      <td>Aquatics</td>\n",
       "      <td>Swimming</td>\n",
       "      <td>GRE</td>\n",
       "      <td>Men</td>\n",
       "      <td>100M Freestyle For Sailors</td>\n",
       "      <td>Silver</td>\n",
       "    </tr>\n",
       "  </tbody>\n",
       "</table>\n",
       "</div>"
      ],
      "text/plain": [
       "                        Athlete    City     Sport Discipline Country Gender  \\\n",
       "Medal_No                                                                      \n",
       "Medall_No_1       HAJOS, Alfred  Athens  Aquatics   Swimming     HUN    Men   \n",
       "Medall_No_2    HERSCHMANN, Otto  Athens  Aquatics   Swimming     AUT    Men   \n",
       "Medall_No_3   DRIVAS, Dimitrios  Athens  Aquatics   Swimming     GRE    Men   \n",
       "Medall_No_4  MALOKINIS, Ioannis  Athens  Aquatics   Swimming     GRE    Men   \n",
       "Medall_No_5  CHASAPIS, Spiridon  Athens  Aquatics   Swimming     GRE    Men   \n",
       "\n",
       "                                  Event   Medal  \n",
       "Medal_No                                         \n",
       "Medall_No_1              100M Freestyle    Gold  \n",
       "Medall_No_2              100M Freestyle  Silver  \n",
       "Medall_No_3  100M Freestyle For Sailors  Bronze  \n",
       "Medall_No_4  100M Freestyle For Sailors    Gold  \n",
       "Medall_No_5  100M Freestyle For Sailors  Silver  "
      ]
     },
     "metadata": {},
     "output_type": "display_data"
    }
   ],
   "source": [
    "# give a name to the index\n",
    "# ******************************************************************************************\n",
    "summer.index.name = \"Medal_No\"\n",
    "summer.head()"
   ]
  },
  {
   "cell_type": "code",
   "execution_count": null,
   "metadata": {},
   "outputs": [
    {
     "data": {
      "text/html": [
       "<div>\n",
       "<style scoped>\n",
       "    .dataframe tbody tr th:only-of-type {\n",
       "        vertical-align: middle;\n",
       "    }\n",
       "\n",
       "    .dataframe tbody tr th {\n",
       "        vertical-align: top;\n",
       "    }\n",
       "\n",
       "    .dataframe thead th {\n",
       "        text-align: right;\n",
       "    }\n",
       "</style>\n",
       "<table border=\"1\" class=\"dataframe\">\n",
       "  <thead>\n",
       "    <tr style=\"text-align: right;\">\n",
       "      <th></th>\n",
       "      <th>Medal_No</th>\n",
       "      <th>Athlete</th>\n",
       "      <th>City</th>\n",
       "      <th>Sport</th>\n",
       "      <th>Discipline</th>\n",
       "      <th>Country</th>\n",
       "      <th>Gender</th>\n",
       "      <th>Event</th>\n",
       "      <th>Medal</th>\n",
       "    </tr>\n",
       "  </thead>\n",
       "  <tbody>\n",
       "    <tr>\n",
       "      <th>0</th>\n",
       "      <td>Medall_No_1</td>\n",
       "      <td>HAJOS, Alfred</td>\n",
       "      <td>Athens</td>\n",
       "      <td>Aquatics</td>\n",
       "      <td>Swimming</td>\n",
       "      <td>HUN</td>\n",
       "      <td>Men</td>\n",
       "      <td>100M Freestyle</td>\n",
       "      <td>Gold</td>\n",
       "    </tr>\n",
       "    <tr>\n",
       "      <th>1</th>\n",
       "      <td>Medall_No_2</td>\n",
       "      <td>HERSCHMANN, Otto</td>\n",
       "      <td>Athens</td>\n",
       "      <td>Aquatics</td>\n",
       "      <td>Swimming</td>\n",
       "      <td>AUT</td>\n",
       "      <td>Men</td>\n",
       "      <td>100M Freestyle</td>\n",
       "      <td>Silver</td>\n",
       "    </tr>\n",
       "    <tr>\n",
       "      <th>2</th>\n",
       "      <td>Medall_No_3</td>\n",
       "      <td>DRIVAS, Dimitrios</td>\n",
       "      <td>Athens</td>\n",
       "      <td>Aquatics</td>\n",
       "      <td>Swimming</td>\n",
       "      <td>GRE</td>\n",
       "      <td>Men</td>\n",
       "      <td>100M Freestyle For Sailors</td>\n",
       "      <td>Bronze</td>\n",
       "    </tr>\n",
       "    <tr>\n",
       "      <th>3</th>\n",
       "      <td>Medall_No_4</td>\n",
       "      <td>MALOKINIS, Ioannis</td>\n",
       "      <td>Athens</td>\n",
       "      <td>Aquatics</td>\n",
       "      <td>Swimming</td>\n",
       "      <td>GRE</td>\n",
       "      <td>Men</td>\n",
       "      <td>100M Freestyle For Sailors</td>\n",
       "      <td>Gold</td>\n",
       "    </tr>\n",
       "    <tr>\n",
       "      <th>4</th>\n",
       "      <td>Medall_No_5</td>\n",
       "      <td>CHASAPIS, Spiridon</td>\n",
       "      <td>Athens</td>\n",
       "      <td>Aquatics</td>\n",
       "      <td>Swimming</td>\n",
       "      <td>GRE</td>\n",
       "      <td>Men</td>\n",
       "      <td>100M Freestyle For Sailors</td>\n",
       "      <td>Silver</td>\n",
       "    </tr>\n",
       "    <tr>\n",
       "      <th>...</th>\n",
       "      <td>...</td>\n",
       "      <td>...</td>\n",
       "      <td>...</td>\n",
       "      <td>...</td>\n",
       "      <td>...</td>\n",
       "      <td>...</td>\n",
       "      <td>...</td>\n",
       "      <td>...</td>\n",
       "      <td>...</td>\n",
       "    </tr>\n",
       "    <tr>\n",
       "      <th>31160</th>\n",
       "      <td>Medall_No_31161</td>\n",
       "      <td>JANIKOWSKI, Damian</td>\n",
       "      <td>London</td>\n",
       "      <td>Wrestling</td>\n",
       "      <td>Wrestling Freestyle</td>\n",
       "      <td>POL</td>\n",
       "      <td>Men</td>\n",
       "      <td>Wg 84 KG</td>\n",
       "      <td>Bronze</td>\n",
       "    </tr>\n",
       "    <tr>\n",
       "      <th>31161</th>\n",
       "      <td>Medall_No_31162</td>\n",
       "      <td>REZAEI, Ghasem Gholamreza</td>\n",
       "      <td>London</td>\n",
       "      <td>Wrestling</td>\n",
       "      <td>Wrestling Freestyle</td>\n",
       "      <td>IRI</td>\n",
       "      <td>Men</td>\n",
       "      <td>Wg 96 KG</td>\n",
       "      <td>Gold</td>\n",
       "    </tr>\n",
       "    <tr>\n",
       "      <th>31162</th>\n",
       "      <td>Medall_No_31163</td>\n",
       "      <td>TOTROV, Rustam</td>\n",
       "      <td>London</td>\n",
       "      <td>Wrestling</td>\n",
       "      <td>Wrestling Freestyle</td>\n",
       "      <td>RUS</td>\n",
       "      <td>Men</td>\n",
       "      <td>Wg 96 KG</td>\n",
       "      <td>Silver</td>\n",
       "    </tr>\n",
       "    <tr>\n",
       "      <th>31163</th>\n",
       "      <td>Medall_No_31164</td>\n",
       "      <td>ALEKSANYAN, Artur</td>\n",
       "      <td>London</td>\n",
       "      <td>Wrestling</td>\n",
       "      <td>Wrestling Freestyle</td>\n",
       "      <td>ARM</td>\n",
       "      <td>Men</td>\n",
       "      <td>Wg 96 KG</td>\n",
       "      <td>Bronze</td>\n",
       "    </tr>\n",
       "    <tr>\n",
       "      <th>31164</th>\n",
       "      <td>Medall_No_31165</td>\n",
       "      <td>LIDBERG, Jimmy</td>\n",
       "      <td>London</td>\n",
       "      <td>Wrestling</td>\n",
       "      <td>Wrestling Freestyle</td>\n",
       "      <td>SWE</td>\n",
       "      <td>Men</td>\n",
       "      <td>Wg 96 KG</td>\n",
       "      <td>Bronze</td>\n",
       "    </tr>\n",
       "  </tbody>\n",
       "</table>\n",
       "<p>31165 rows × 9 columns</p>\n",
       "</div>"
      ],
      "text/plain": [
       "              Medal_No                    Athlete    City      Sport  \\\n",
       "0          Medall_No_1              HAJOS, Alfred  Athens   Aquatics   \n",
       "1          Medall_No_2           HERSCHMANN, Otto  Athens   Aquatics   \n",
       "2          Medall_No_3          DRIVAS, Dimitrios  Athens   Aquatics   \n",
       "3          Medall_No_4         MALOKINIS, Ioannis  Athens   Aquatics   \n",
       "4          Medall_No_5         CHASAPIS, Spiridon  Athens   Aquatics   \n",
       "...                ...                        ...     ...        ...   \n",
       "31160  Medall_No_31161         JANIKOWSKI, Damian  London  Wrestling   \n",
       "31161  Medall_No_31162  REZAEI, Ghasem Gholamreza  London  Wrestling   \n",
       "31162  Medall_No_31163             TOTROV, Rustam  London  Wrestling   \n",
       "31163  Medall_No_31164          ALEKSANYAN, Artur  London  Wrestling   \n",
       "31164  Medall_No_31165             LIDBERG, Jimmy  London  Wrestling   \n",
       "\n",
       "                Discipline Country Gender                       Event   Medal  \n",
       "0                 Swimming     HUN    Men              100M Freestyle    Gold  \n",
       "1                 Swimming     AUT    Men              100M Freestyle  Silver  \n",
       "2                 Swimming     GRE    Men  100M Freestyle For Sailors  Bronze  \n",
       "3                 Swimming     GRE    Men  100M Freestyle For Sailors    Gold  \n",
       "4                 Swimming     GRE    Men  100M Freestyle For Sailors  Silver  \n",
       "...                    ...     ...    ...                         ...     ...  \n",
       "31160  Wrestling Freestyle     POL    Men                    Wg 84 KG  Bronze  \n",
       "31161  Wrestling Freestyle     IRI    Men                    Wg 96 KG    Gold  \n",
       "31162  Wrestling Freestyle     RUS    Men                    Wg 96 KG  Silver  \n",
       "31163  Wrestling Freestyle     ARM    Men                    Wg 96 KG  Bronze  \n",
       "31164  Wrestling Freestyle     SWE    Men                    Wg 96 KG  Bronze  \n",
       "\n",
       "[31165 rows x 9 columns]"
      ]
     },
     "metadata": {},
     "output_type": "display_data"
    }
   ],
   "source": [
    "# reset our index to a range index\n",
    "# ******************************************************************************************\n",
    "# the index we have before is now a column\n",
    "# ******************************************************************************************\n",
    "summer.reset_index()"
   ]
  },
  {
   "cell_type": "markdown",
   "metadata": {},
   "source": [
    "##### Changing Column Labels"
   ]
  },
  {
   "cell_type": "code",
   "execution_count": null,
   "metadata": {},
   "outputs": [
    {
     "data": {
      "text/html": [
       "<div>\n",
       "<style scoped>\n",
       "    .dataframe tbody tr th:only-of-type {\n",
       "        vertical-align: middle;\n",
       "    }\n",
       "\n",
       "    .dataframe tbody tr th {\n",
       "        vertical-align: top;\n",
       "    }\n",
       "\n",
       "    .dataframe thead th {\n",
       "        text-align: right;\n",
       "    }\n",
       "</style>\n",
       "<table border=\"1\" class=\"dataframe\">\n",
       "  <thead>\n",
       "    <tr style=\"text-align: right;\">\n",
       "      <th></th>\n",
       "      <th>survived</th>\n",
       "      <th>pclass</th>\n",
       "      <th>sex</th>\n",
       "      <th>age</th>\n",
       "      <th>sibsp</th>\n",
       "      <th>parch</th>\n",
       "      <th>fare</th>\n",
       "      <th>embarked</th>\n",
       "      <th>deck</th>\n",
       "    </tr>\n",
       "  </thead>\n",
       "  <tbody>\n",
       "    <tr>\n",
       "      <th>0</th>\n",
       "      <td>0</td>\n",
       "      <td>3</td>\n",
       "      <td>male</td>\n",
       "      <td>22.0</td>\n",
       "      <td>1</td>\n",
       "      <td>0</td>\n",
       "      <td>7.2500</td>\n",
       "      <td>S</td>\n",
       "      <td>NaN</td>\n",
       "    </tr>\n",
       "    <tr>\n",
       "      <th>1</th>\n",
       "      <td>1</td>\n",
       "      <td>1</td>\n",
       "      <td>female</td>\n",
       "      <td>38.0</td>\n",
       "      <td>1</td>\n",
       "      <td>0</td>\n",
       "      <td>71.2833</td>\n",
       "      <td>C</td>\n",
       "      <td>C</td>\n",
       "    </tr>\n",
       "    <tr>\n",
       "      <th>2</th>\n",
       "      <td>1</td>\n",
       "      <td>3</td>\n",
       "      <td>female</td>\n",
       "      <td>26.0</td>\n",
       "      <td>0</td>\n",
       "      <td>0</td>\n",
       "      <td>7.9250</td>\n",
       "      <td>S</td>\n",
       "      <td>NaN</td>\n",
       "    </tr>\n",
       "    <tr>\n",
       "      <th>3</th>\n",
       "      <td>1</td>\n",
       "      <td>1</td>\n",
       "      <td>female</td>\n",
       "      <td>35.0</td>\n",
       "      <td>1</td>\n",
       "      <td>0</td>\n",
       "      <td>53.1000</td>\n",
       "      <td>S</td>\n",
       "      <td>C</td>\n",
       "    </tr>\n",
       "    <tr>\n",
       "      <th>4</th>\n",
       "      <td>0</td>\n",
       "      <td>3</td>\n",
       "      <td>male</td>\n",
       "      <td>35.0</td>\n",
       "      <td>0</td>\n",
       "      <td>0</td>\n",
       "      <td>8.0500</td>\n",
       "      <td>S</td>\n",
       "      <td>NaN</td>\n",
       "    </tr>\n",
       "  </tbody>\n",
       "</table>\n",
       "</div>"
      ],
      "text/plain": [
       "   survived  pclass     sex   age  sibsp  parch     fare embarked deck\n",
       "0         0       3    male  22.0      1      0   7.2500        S  NaN\n",
       "1         1       1  female  38.0      1      0  71.2833        C    C\n",
       "2         1       3  female  26.0      0      0   7.9250        S  NaN\n",
       "3         1       1  female  35.0      1      0  53.1000        S    C\n",
       "4         0       3    male  35.0      0      0   8.0500        S  NaN"
      ]
     },
     "metadata": {},
     "output_type": "display_data"
    }
   ],
   "source": [
    "import pandas as pd\n",
    "titanic = pd.read_csv(r\"C:\\Users\\aitor\\OneDrive\\Desktop\\FRED\\course_env\\Pandas_2025\\onthego_materials\\Course_Materials_Part1\\Video_Lecture_NBs\\titanic.csv\")\n",
    "titanic.head()"
   ]
  },
  {
   "cell_type": "code",
   "execution_count": null,
   "metadata": {},
   "outputs": [
    {
     "data": {
      "text/plain": [
       "('survived',\n",
       " Index(['survived', 'pclass', 'sex', 'age', 'sibsp', 'parch', 'fare',\n",
       "        'embarked', 'deck'],\n",
       "       dtype='object'))"
      ]
     },
     "metadata": {},
     "output_type": "display_data"
    }
   ],
   "source": [
    "titanic.columns[0], titanic.columns"
   ]
  },
  {
   "cell_type": "code",
   "execution_count": null,
   "metadata": {},
   "outputs": [
    {
     "data": {
      "text/html": [
       "<div>\n",
       "<style scoped>\n",
       "    .dataframe tbody tr th:only-of-type {\n",
       "        vertical-align: middle;\n",
       "    }\n",
       "\n",
       "    .dataframe tbody tr th {\n",
       "        vertical-align: top;\n",
       "    }\n",
       "\n",
       "    .dataframe thead th {\n",
       "        text-align: right;\n",
       "    }\n",
       "</style>\n",
       "<table border=\"1\" class=\"dataframe\">\n",
       "  <thead>\n",
       "    <tr style=\"text-align: right;\">\n",
       "      <th></th>\n",
       "      <th>Alive</th>\n",
       "      <th>Class</th>\n",
       "      <th>Sex</th>\n",
       "      <th>Age</th>\n",
       "      <th>SipSp</th>\n",
       "      <th>ParCh</th>\n",
       "      <th>Fare</th>\n",
       "      <th>Emb</th>\n",
       "      <th>Deck</th>\n",
       "    </tr>\n",
       "  </thead>\n",
       "  <tbody>\n",
       "    <tr>\n",
       "      <th>0</th>\n",
       "      <td>0</td>\n",
       "      <td>3</td>\n",
       "      <td>male</td>\n",
       "      <td>22.0</td>\n",
       "      <td>1</td>\n",
       "      <td>0</td>\n",
       "      <td>7.2500</td>\n",
       "      <td>S</td>\n",
       "      <td>NaN</td>\n",
       "    </tr>\n",
       "    <tr>\n",
       "      <th>1</th>\n",
       "      <td>1</td>\n",
       "      <td>1</td>\n",
       "      <td>female</td>\n",
       "      <td>38.0</td>\n",
       "      <td>1</td>\n",
       "      <td>0</td>\n",
       "      <td>71.2833</td>\n",
       "      <td>C</td>\n",
       "      <td>C</td>\n",
       "    </tr>\n",
       "    <tr>\n",
       "      <th>2</th>\n",
       "      <td>1</td>\n",
       "      <td>3</td>\n",
       "      <td>female</td>\n",
       "      <td>26.0</td>\n",
       "      <td>0</td>\n",
       "      <td>0</td>\n",
       "      <td>7.9250</td>\n",
       "      <td>S</td>\n",
       "      <td>NaN</td>\n",
       "    </tr>\n",
       "    <tr>\n",
       "      <th>3</th>\n",
       "      <td>1</td>\n",
       "      <td>1</td>\n",
       "      <td>female</td>\n",
       "      <td>35.0</td>\n",
       "      <td>1</td>\n",
       "      <td>0</td>\n",
       "      <td>53.1000</td>\n",
       "      <td>S</td>\n",
       "      <td>C</td>\n",
       "    </tr>\n",
       "    <tr>\n",
       "      <th>4</th>\n",
       "      <td>0</td>\n",
       "      <td>3</td>\n",
       "      <td>male</td>\n",
       "      <td>35.0</td>\n",
       "      <td>0</td>\n",
       "      <td>0</td>\n",
       "      <td>8.0500</td>\n",
       "      <td>S</td>\n",
       "      <td>NaN</td>\n",
       "    </tr>\n",
       "  </tbody>\n",
       "</table>\n",
       "</div>"
      ],
      "text/plain": [
       "   Alive  Class     Sex   Age  SipSp  ParCh     Fare Emb Deck\n",
       "0      0      3    male  22.0      1      0   7.2500   S  NaN\n",
       "1      1      1  female  38.0      1      0  71.2833   C    C\n",
       "2      1      3  female  26.0      0      0   7.9250   S  NaN\n",
       "3      1      1  female  35.0      1      0  53.1000   S    C\n",
       "4      0      3    male  35.0      0      0   8.0500   S  NaN"
      ]
     },
     "metadata": {},
     "output_type": "display_data"
    }
   ],
   "source": [
    "# Also, column index objects are immutable, so we can only change them the whole index by passing a\n",
    "# list or a sequence with new values that has actually the same amount of elements than our index.\n",
    "# ******************************************************************************************\n",
    "# titanic.columns[0] =\"Alive\" - TypeError: Index does not support mutable operations\n",
    "# ******************************************************************************************\n",
    "titanic.columns = [\"Alive\", \"Class\",\"Sex\",\"Age\",\"SipSp\",\"ParCh\",\"Fare\",\"Emb\",\"Deck\"]\n",
    "titanic.head()"
   ]
  },
  {
   "cell_type": "code",
   "execution_count": null,
   "metadata": {},
   "outputs": [],
   "source": [
    "titanic.columns.name"
   ]
  },
  {
   "cell_type": "code",
   "execution_count": null,
   "metadata": {},
   "outputs": [
    {
     "data": {
      "text/html": [
       "<div>\n",
       "<style scoped>\n",
       "    .dataframe tbody tr th:only-of-type {\n",
       "        vertical-align: middle;\n",
       "    }\n",
       "\n",
       "    .dataframe tbody tr th {\n",
       "        vertical-align: top;\n",
       "    }\n",
       "\n",
       "    .dataframe thead th {\n",
       "        text-align: right;\n",
       "    }\n",
       "</style>\n",
       "<table border=\"1\" class=\"dataframe\">\n",
       "  <thead>\n",
       "    <tr style=\"text-align: right;\">\n",
       "      <th>Pass_Charact</th>\n",
       "      <th>Alive</th>\n",
       "      <th>Class</th>\n",
       "      <th>Sex</th>\n",
       "      <th>Age</th>\n",
       "      <th>SipSp</th>\n",
       "      <th>ParCh</th>\n",
       "      <th>Fare</th>\n",
       "      <th>Emb</th>\n",
       "      <th>Deck</th>\n",
       "    </tr>\n",
       "  </thead>\n",
       "  <tbody>\n",
       "    <tr>\n",
       "      <th>0</th>\n",
       "      <td>0</td>\n",
       "      <td>3</td>\n",
       "      <td>male</td>\n",
       "      <td>22.0</td>\n",
       "      <td>1</td>\n",
       "      <td>0</td>\n",
       "      <td>7.2500</td>\n",
       "      <td>S</td>\n",
       "      <td>NaN</td>\n",
       "    </tr>\n",
       "    <tr>\n",
       "      <th>1</th>\n",
       "      <td>1</td>\n",
       "      <td>1</td>\n",
       "      <td>female</td>\n",
       "      <td>38.0</td>\n",
       "      <td>1</td>\n",
       "      <td>0</td>\n",
       "      <td>71.2833</td>\n",
       "      <td>C</td>\n",
       "      <td>C</td>\n",
       "    </tr>\n",
       "    <tr>\n",
       "      <th>2</th>\n",
       "      <td>1</td>\n",
       "      <td>3</td>\n",
       "      <td>female</td>\n",
       "      <td>26.0</td>\n",
       "      <td>0</td>\n",
       "      <td>0</td>\n",
       "      <td>7.9250</td>\n",
       "      <td>S</td>\n",
       "      <td>NaN</td>\n",
       "    </tr>\n",
       "    <tr>\n",
       "      <th>3</th>\n",
       "      <td>1</td>\n",
       "      <td>1</td>\n",
       "      <td>female</td>\n",
       "      <td>35.0</td>\n",
       "      <td>1</td>\n",
       "      <td>0</td>\n",
       "      <td>53.1000</td>\n",
       "      <td>S</td>\n",
       "      <td>C</td>\n",
       "    </tr>\n",
       "    <tr>\n",
       "      <th>4</th>\n",
       "      <td>0</td>\n",
       "      <td>3</td>\n",
       "      <td>male</td>\n",
       "      <td>35.0</td>\n",
       "      <td>0</td>\n",
       "      <td>0</td>\n",
       "      <td>8.0500</td>\n",
       "      <td>S</td>\n",
       "      <td>NaN</td>\n",
       "    </tr>\n",
       "  </tbody>\n",
       "</table>\n",
       "</div>"
      ],
      "text/plain": [
       "Pass_Charact  Alive  Class     Sex   Age  SipSp  ParCh     Fare Emb Deck\n",
       "0                 0      3    male  22.0      1      0   7.2500   S  NaN\n",
       "1                 1      1  female  38.0      1      0  71.2833   C    C\n",
       "2                 1      3  female  26.0      0      0   7.9250   S  NaN\n",
       "3                 1      1  female  35.0      1      0  53.1000   S    C\n",
       "4                 0      3    male  35.0      0      0   8.0500   S  NaN"
      ]
     },
     "metadata": {},
     "output_type": "display_data"
    }
   ],
   "source": [
    "# And we can also set a name for our column index object. So there's the attribute name.\n",
    "# ******************************************************************************************\n",
    "titanic.columns.name = \"Pass_Charact\"\n",
    "titanic.head()"
   ]
  },
  {
   "cell_type": "code",
   "execution_count": null,
   "metadata": {},
   "outputs": [
    {
     "data": {
      "text/html": [
       "<div>\n",
       "<style scoped>\n",
       "    .dataframe tbody tr th:only-of-type {\n",
       "        vertical-align: middle;\n",
       "    }\n",
       "\n",
       "    .dataframe tbody tr th {\n",
       "        vertical-align: top;\n",
       "    }\n",
       "\n",
       "    .dataframe thead th {\n",
       "        text-align: right;\n",
       "    }\n",
       "</style>\n",
       "<table border=\"1\" class=\"dataframe\">\n",
       "  <thead>\n",
       "    <tr style=\"text-align: right;\">\n",
       "      <th>Pass_Charact</th>\n",
       "      <th>Alive</th>\n",
       "      <th>Class</th>\n",
       "      <th>Sex</th>\n",
       "      <th>Age</th>\n",
       "      <th>SipSp</th>\n",
       "      <th>ParCh</th>\n",
       "      <th>Fare</th>\n",
       "      <th>Emb</th>\n",
       "      <th>Deck</th>\n",
       "    </tr>\n",
       "    <tr>\n",
       "      <th>Passenger_No</th>\n",
       "      <th></th>\n",
       "      <th></th>\n",
       "      <th></th>\n",
       "      <th></th>\n",
       "      <th></th>\n",
       "      <th></th>\n",
       "      <th></th>\n",
       "      <th></th>\n",
       "      <th></th>\n",
       "    </tr>\n",
       "  </thead>\n",
       "  <tbody>\n",
       "    <tr>\n",
       "      <th>0</th>\n",
       "      <td>0</td>\n",
       "      <td>3</td>\n",
       "      <td>male</td>\n",
       "      <td>22.0</td>\n",
       "      <td>1</td>\n",
       "      <td>0</td>\n",
       "      <td>7.2500</td>\n",
       "      <td>S</td>\n",
       "      <td>NaN</td>\n",
       "    </tr>\n",
       "    <tr>\n",
       "      <th>1</th>\n",
       "      <td>1</td>\n",
       "      <td>1</td>\n",
       "      <td>female</td>\n",
       "      <td>38.0</td>\n",
       "      <td>1</td>\n",
       "      <td>0</td>\n",
       "      <td>71.2833</td>\n",
       "      <td>C</td>\n",
       "      <td>C</td>\n",
       "    </tr>\n",
       "    <tr>\n",
       "      <th>2</th>\n",
       "      <td>1</td>\n",
       "      <td>3</td>\n",
       "      <td>female</td>\n",
       "      <td>26.0</td>\n",
       "      <td>0</td>\n",
       "      <td>0</td>\n",
       "      <td>7.9250</td>\n",
       "      <td>S</td>\n",
       "      <td>NaN</td>\n",
       "    </tr>\n",
       "    <tr>\n",
       "      <th>3</th>\n",
       "      <td>1</td>\n",
       "      <td>1</td>\n",
       "      <td>female</td>\n",
       "      <td>35.0</td>\n",
       "      <td>1</td>\n",
       "      <td>0</td>\n",
       "      <td>53.1000</td>\n",
       "      <td>S</td>\n",
       "      <td>C</td>\n",
       "    </tr>\n",
       "    <tr>\n",
       "      <th>4</th>\n",
       "      <td>0</td>\n",
       "      <td>3</td>\n",
       "      <td>male</td>\n",
       "      <td>35.0</td>\n",
       "      <td>0</td>\n",
       "      <td>0</td>\n",
       "      <td>8.0500</td>\n",
       "      <td>S</td>\n",
       "      <td>NaN</td>\n",
       "    </tr>\n",
       "  </tbody>\n",
       "</table>\n",
       "</div>"
      ],
      "text/plain": [
       "Pass_Charact  Alive  Class     Sex   Age  SipSp  ParCh     Fare Emb Deck\n",
       "Passenger_No                                                            \n",
       "0                 0      3    male  22.0      1      0   7.2500   S  NaN\n",
       "1                 1      1  female  38.0      1      0  71.2833   C    C\n",
       "2                 1      3  female  26.0      0      0   7.9250   S  NaN\n",
       "3                 1      1  female  35.0      1      0  53.1000   S    C\n",
       "4                 0      3    male  35.0      0      0   8.0500   S  NaN"
      ]
     },
     "metadata": {},
     "output_type": "display_data"
    }
   ],
   "source": [
    "titanic.index.name = \"Passenger_No\"\n",
    "titanic.head()\n",
    "# ******************************************************************************************\n",
    "# So now we have here a name for our column labels.\n",
    "# So passenger characteristics. And we have a name for our row index passenger number.\n",
    "# ******************************************************************************************"
   ]
  },
  {
   "cell_type": "markdown",
   "metadata": {},
   "source": [
    "##### Renaming Index & Column Labels with rename()"
   ]
  },
  {
   "cell_type": "code",
   "execution_count": null,
   "metadata": {},
   "outputs": [
    {
     "data": {
      "text/html": [
       "<div>\n",
       "<style scoped>\n",
       "    .dataframe tbody tr th:only-of-type {\n",
       "        vertical-align: middle;\n",
       "    }\n",
       "\n",
       "    .dataframe tbody tr th {\n",
       "        vertical-align: top;\n",
       "    }\n",
       "\n",
       "    .dataframe thead th {\n",
       "        text-align: right;\n",
       "    }\n",
       "</style>\n",
       "<table border=\"1\" class=\"dataframe\">\n",
       "  <thead>\n",
       "    <tr style=\"text-align: right;\">\n",
       "      <th></th>\n",
       "      <th>Year</th>\n",
       "      <th>City</th>\n",
       "      <th>Sport</th>\n",
       "      <th>Discipline</th>\n",
       "      <th>Country</th>\n",
       "      <th>Gender</th>\n",
       "      <th>Event</th>\n",
       "      <th>Medal</th>\n",
       "    </tr>\n",
       "    <tr>\n",
       "      <th>Athlete</th>\n",
       "      <th></th>\n",
       "      <th></th>\n",
       "      <th></th>\n",
       "      <th></th>\n",
       "      <th></th>\n",
       "      <th></th>\n",
       "      <th></th>\n",
       "      <th></th>\n",
       "    </tr>\n",
       "  </thead>\n",
       "  <tbody>\n",
       "    <tr>\n",
       "      <th>HAJOS, Alfred</th>\n",
       "      <td>1896</td>\n",
       "      <td>Athens</td>\n",
       "      <td>Aquatics</td>\n",
       "      <td>Swimming</td>\n",
       "      <td>HUN</td>\n",
       "      <td>Men</td>\n",
       "      <td>100M Freestyle</td>\n",
       "      <td>Gold</td>\n",
       "    </tr>\n",
       "    <tr>\n",
       "      <th>HERSCHMANN, Otto</th>\n",
       "      <td>1896</td>\n",
       "      <td>Athens</td>\n",
       "      <td>Aquatics</td>\n",
       "      <td>Swimming</td>\n",
       "      <td>AUT</td>\n",
       "      <td>Men</td>\n",
       "      <td>100M Freestyle</td>\n",
       "      <td>Silver</td>\n",
       "    </tr>\n",
       "    <tr>\n",
       "      <th>DRIVAS, Dimitrios</th>\n",
       "      <td>1896</td>\n",
       "      <td>Athens</td>\n",
       "      <td>Aquatics</td>\n",
       "      <td>Swimming</td>\n",
       "      <td>GRE</td>\n",
       "      <td>Men</td>\n",
       "      <td>100M Freestyle For Sailors</td>\n",
       "      <td>Bronze</td>\n",
       "    </tr>\n",
       "    <tr>\n",
       "      <th>MALOKINIS, Ioannis</th>\n",
       "      <td>1896</td>\n",
       "      <td>Athens</td>\n",
       "      <td>Aquatics</td>\n",
       "      <td>Swimming</td>\n",
       "      <td>GRE</td>\n",
       "      <td>Men</td>\n",
       "      <td>100M Freestyle For Sailors</td>\n",
       "      <td>Gold</td>\n",
       "    </tr>\n",
       "    <tr>\n",
       "      <th>CHASAPIS, Spiridon</th>\n",
       "      <td>1896</td>\n",
       "      <td>Athens</td>\n",
       "      <td>Aquatics</td>\n",
       "      <td>Swimming</td>\n",
       "      <td>GRE</td>\n",
       "      <td>Men</td>\n",
       "      <td>100M Freestyle For Sailors</td>\n",
       "      <td>Silver</td>\n",
       "    </tr>\n",
       "    <tr>\n",
       "      <th>...</th>\n",
       "      <td>...</td>\n",
       "      <td>...</td>\n",
       "      <td>...</td>\n",
       "      <td>...</td>\n",
       "      <td>...</td>\n",
       "      <td>...</td>\n",
       "      <td>...</td>\n",
       "      <td>...</td>\n",
       "    </tr>\n",
       "    <tr>\n",
       "      <th>JANIKOWSKI, Damian</th>\n",
       "      <td>2012</td>\n",
       "      <td>London</td>\n",
       "      <td>Wrestling</td>\n",
       "      <td>Wrestling Freestyle</td>\n",
       "      <td>POL</td>\n",
       "      <td>Men</td>\n",
       "      <td>Wg 84 KG</td>\n",
       "      <td>Bronze</td>\n",
       "    </tr>\n",
       "    <tr>\n",
       "      <th>REZAEI, Ghasem Gholamreza</th>\n",
       "      <td>2012</td>\n",
       "      <td>London</td>\n",
       "      <td>Wrestling</td>\n",
       "      <td>Wrestling Freestyle</td>\n",
       "      <td>IRI</td>\n",
       "      <td>Men</td>\n",
       "      <td>Wg 96 KG</td>\n",
       "      <td>Gold</td>\n",
       "    </tr>\n",
       "    <tr>\n",
       "      <th>TOTROV, Rustam</th>\n",
       "      <td>2012</td>\n",
       "      <td>London</td>\n",
       "      <td>Wrestling</td>\n",
       "      <td>Wrestling Freestyle</td>\n",
       "      <td>RUS</td>\n",
       "      <td>Men</td>\n",
       "      <td>Wg 96 KG</td>\n",
       "      <td>Silver</td>\n",
       "    </tr>\n",
       "    <tr>\n",
       "      <th>ALEKSANYAN, Artur</th>\n",
       "      <td>2012</td>\n",
       "      <td>London</td>\n",
       "      <td>Wrestling</td>\n",
       "      <td>Wrestling Freestyle</td>\n",
       "      <td>ARM</td>\n",
       "      <td>Men</td>\n",
       "      <td>Wg 96 KG</td>\n",
       "      <td>Bronze</td>\n",
       "    </tr>\n",
       "    <tr>\n",
       "      <th>LIDBERG, Jimmy</th>\n",
       "      <td>2012</td>\n",
       "      <td>London</td>\n",
       "      <td>Wrestling</td>\n",
       "      <td>Wrestling Freestyle</td>\n",
       "      <td>SWE</td>\n",
       "      <td>Men</td>\n",
       "      <td>Wg 96 KG</td>\n",
       "      <td>Bronze</td>\n",
       "    </tr>\n",
       "  </tbody>\n",
       "</table>\n",
       "<p>31165 rows × 8 columns</p>\n",
       "</div>"
      ],
      "text/plain": [
       "                           Year    City      Sport           Discipline  \\\n",
       "Athlete                                                                   \n",
       "HAJOS, Alfred              1896  Athens   Aquatics             Swimming   \n",
       "HERSCHMANN, Otto           1896  Athens   Aquatics             Swimming   \n",
       "DRIVAS, Dimitrios          1896  Athens   Aquatics             Swimming   \n",
       "MALOKINIS, Ioannis         1896  Athens   Aquatics             Swimming   \n",
       "CHASAPIS, Spiridon         1896  Athens   Aquatics             Swimming   \n",
       "...                         ...     ...        ...                  ...   \n",
       "JANIKOWSKI, Damian         2012  London  Wrestling  Wrestling Freestyle   \n",
       "REZAEI, Ghasem Gholamreza  2012  London  Wrestling  Wrestling Freestyle   \n",
       "TOTROV, Rustam             2012  London  Wrestling  Wrestling Freestyle   \n",
       "ALEKSANYAN, Artur          2012  London  Wrestling  Wrestling Freestyle   \n",
       "LIDBERG, Jimmy             2012  London  Wrestling  Wrestling Freestyle   \n",
       "\n",
       "                          Country Gender                       Event   Medal  \n",
       "Athlete                                                                       \n",
       "HAJOS, Alfred                 HUN    Men              100M Freestyle    Gold  \n",
       "HERSCHMANN, Otto              AUT    Men              100M Freestyle  Silver  \n",
       "DRIVAS, Dimitrios             GRE    Men  100M Freestyle For Sailors  Bronze  \n",
       "MALOKINIS, Ioannis            GRE    Men  100M Freestyle For Sailors    Gold  \n",
       "CHASAPIS, Spiridon            GRE    Men  100M Freestyle For Sailors  Silver  \n",
       "...                           ...    ...                         ...     ...  \n",
       "JANIKOWSKI, Damian            POL    Men                    Wg 84 KG  Bronze  \n",
       "REZAEI, Ghasem Gholamreza     IRI    Men                    Wg 96 KG    Gold  \n",
       "TOTROV, Rustam                RUS    Men                    Wg 96 KG  Silver  \n",
       "ALEKSANYAN, Artur             ARM    Men                    Wg 96 KG  Bronze  \n",
       "LIDBERG, Jimmy                SWE    Men                    Wg 96 KG  Bronze  \n",
       "\n",
       "[31165 rows x 8 columns]"
      ]
     },
     "metadata": {},
     "output_type": "display_data"
    }
   ],
   "source": [
    "summer = pd.read_csv(r\"C:\\Users\\aitor\\OneDrive\\Desktop\\FRED\\course_env\\Pandas_2025\\onthego_materials\\Course_Materials_Part1\\Video_Lecture_NBs\\summer.csv\", index_col=\"Athlete\")\n",
    "summer"
   ]
  },
  {
   "cell_type": "code",
   "execution_count": null,
   "metadata": {},
   "outputs": [],
   "source": [
    "# let's assume that HAJOS, Alfred should be HAYOS, Alfred\n",
    "# ******************************************************************************************\n",
    "# pandas index objects are immutable, so we cannot change a single index label\n",
    "# summer.index[0] = \"HAYOS, Alfred\" - TypeError: Index does not support mutable operations\n",
    "# ******************************************************************************************\n",
    "# 2 ways of using rename method\n",
    "# ******************************************************************************************"
   ]
  },
  {
   "cell_type": "code",
   "execution_count": null,
   "metadata": {},
   "outputs": [
    {
     "data": {
      "text/html": [
       "<div>\n",
       "<style scoped>\n",
       "    .dataframe tbody tr th:only-of-type {\n",
       "        vertical-align: middle;\n",
       "    }\n",
       "\n",
       "    .dataframe tbody tr th {\n",
       "        vertical-align: top;\n",
       "    }\n",
       "\n",
       "    .dataframe thead th {\n",
       "        text-align: right;\n",
       "    }\n",
       "</style>\n",
       "<table border=\"1\" class=\"dataframe\">\n",
       "  <thead>\n",
       "    <tr style=\"text-align: right;\">\n",
       "      <th></th>\n",
       "      <th>Year</th>\n",
       "      <th>City</th>\n",
       "      <th>Sport</th>\n",
       "      <th>Discipline</th>\n",
       "      <th>Country</th>\n",
       "      <th>Gender</th>\n",
       "      <th>Event</th>\n",
       "      <th>Medal</th>\n",
       "    </tr>\n",
       "    <tr>\n",
       "      <th>Athlete</th>\n",
       "      <th></th>\n",
       "      <th></th>\n",
       "      <th></th>\n",
       "      <th></th>\n",
       "      <th></th>\n",
       "      <th></th>\n",
       "      <th></th>\n",
       "      <th></th>\n",
       "    </tr>\n",
       "  </thead>\n",
       "  <tbody>\n",
       "    <tr>\n",
       "      <th>HAYOS, Alfred</th>\n",
       "      <td>1896</td>\n",
       "      <td>Athens</td>\n",
       "      <td>Aquatics</td>\n",
       "      <td>Swimming</td>\n",
       "      <td>HUN</td>\n",
       "      <td>Men</td>\n",
       "      <td>100M Freestyle</td>\n",
       "      <td>Gold</td>\n",
       "    </tr>\n",
       "    <tr>\n",
       "      <th>HERSCHMANN, Otto</th>\n",
       "      <td>1896</td>\n",
       "      <td>Athens</td>\n",
       "      <td>Aquatics</td>\n",
       "      <td>Swimming</td>\n",
       "      <td>AUT</td>\n",
       "      <td>Men</td>\n",
       "      <td>100M Freestyle</td>\n",
       "      <td>Silver</td>\n",
       "    </tr>\n",
       "    <tr>\n",
       "      <th>DRIVAS, Dimitrios</th>\n",
       "      <td>1896</td>\n",
       "      <td>Athens</td>\n",
       "      <td>Aquatics</td>\n",
       "      <td>Swimming</td>\n",
       "      <td>GRE</td>\n",
       "      <td>Men</td>\n",
       "      <td>100M Freestyle For Sailors</td>\n",
       "      <td>Bronze</td>\n",
       "    </tr>\n",
       "    <tr>\n",
       "      <th>MALOKINIS, Ioannis</th>\n",
       "      <td>1896</td>\n",
       "      <td>Athens</td>\n",
       "      <td>Aquatics</td>\n",
       "      <td>Swimming</td>\n",
       "      <td>GRE</td>\n",
       "      <td>Men</td>\n",
       "      <td>100M Freestyle For Sailors</td>\n",
       "      <td>Gold</td>\n",
       "    </tr>\n",
       "    <tr>\n",
       "      <th>CHASAPIS, Spiridon</th>\n",
       "      <td>1896</td>\n",
       "      <td>Athens</td>\n",
       "      <td>Aquatics</td>\n",
       "      <td>Swimming</td>\n",
       "      <td>GRE</td>\n",
       "      <td>Men</td>\n",
       "      <td>100M Freestyle For Sailors</td>\n",
       "      <td>Silver</td>\n",
       "    </tr>\n",
       "    <tr>\n",
       "      <th>...</th>\n",
       "      <td>...</td>\n",
       "      <td>...</td>\n",
       "      <td>...</td>\n",
       "      <td>...</td>\n",
       "      <td>...</td>\n",
       "      <td>...</td>\n",
       "      <td>...</td>\n",
       "      <td>...</td>\n",
       "    </tr>\n",
       "    <tr>\n",
       "      <th>JANIKOWSKI, Damian</th>\n",
       "      <td>2012</td>\n",
       "      <td>London</td>\n",
       "      <td>Wrestling</td>\n",
       "      <td>Wrestling Freestyle</td>\n",
       "      <td>POL</td>\n",
       "      <td>Men</td>\n",
       "      <td>Wg 84 KG</td>\n",
       "      <td>Bronze</td>\n",
       "    </tr>\n",
       "    <tr>\n",
       "      <th>REZAEI, Ghasem Gholamreza</th>\n",
       "      <td>2012</td>\n",
       "      <td>London</td>\n",
       "      <td>Wrestling</td>\n",
       "      <td>Wrestling Freestyle</td>\n",
       "      <td>IRI</td>\n",
       "      <td>Men</td>\n",
       "      <td>Wg 96 KG</td>\n",
       "      <td>Gold</td>\n",
       "    </tr>\n",
       "    <tr>\n",
       "      <th>TOTROV, Rustam</th>\n",
       "      <td>2012</td>\n",
       "      <td>London</td>\n",
       "      <td>Wrestling</td>\n",
       "      <td>Wrestling Freestyle</td>\n",
       "      <td>RUS</td>\n",
       "      <td>Men</td>\n",
       "      <td>Wg 96 KG</td>\n",
       "      <td>Silver</td>\n",
       "    </tr>\n",
       "    <tr>\n",
       "      <th>ALEKSANYAN, Artur</th>\n",
       "      <td>2012</td>\n",
       "      <td>London</td>\n",
       "      <td>Wrestling</td>\n",
       "      <td>Wrestling Freestyle</td>\n",
       "      <td>ARM</td>\n",
       "      <td>Men</td>\n",
       "      <td>Wg 96 KG</td>\n",
       "      <td>Bronze</td>\n",
       "    </tr>\n",
       "    <tr>\n",
       "      <th>LIDBERG, Jimmy</th>\n",
       "      <td>2012</td>\n",
       "      <td>London</td>\n",
       "      <td>Wrestling</td>\n",
       "      <td>Wrestling Freestyle</td>\n",
       "      <td>SWE</td>\n",
       "      <td>Men</td>\n",
       "      <td>Wg 96 KG</td>\n",
       "      <td>Bronze</td>\n",
       "    </tr>\n",
       "  </tbody>\n",
       "</table>\n",
       "<p>31165 rows × 8 columns</p>\n",
       "</div>"
      ],
      "text/plain": [
       "                           Year    City      Sport           Discipline  \\\n",
       "Athlete                                                                   \n",
       "HAYOS, Alfred              1896  Athens   Aquatics             Swimming   \n",
       "HERSCHMANN, Otto           1896  Athens   Aquatics             Swimming   \n",
       "DRIVAS, Dimitrios          1896  Athens   Aquatics             Swimming   \n",
       "MALOKINIS, Ioannis         1896  Athens   Aquatics             Swimming   \n",
       "CHASAPIS, Spiridon         1896  Athens   Aquatics             Swimming   \n",
       "...                         ...     ...        ...                  ...   \n",
       "JANIKOWSKI, Damian         2012  London  Wrestling  Wrestling Freestyle   \n",
       "REZAEI, Ghasem Gholamreza  2012  London  Wrestling  Wrestling Freestyle   \n",
       "TOTROV, Rustam             2012  London  Wrestling  Wrestling Freestyle   \n",
       "ALEKSANYAN, Artur          2012  London  Wrestling  Wrestling Freestyle   \n",
       "LIDBERG, Jimmy             2012  London  Wrestling  Wrestling Freestyle   \n",
       "\n",
       "                          Country Gender                       Event   Medal  \n",
       "Athlete                                                                       \n",
       "HAYOS, Alfred                 HUN    Men              100M Freestyle    Gold  \n",
       "HERSCHMANN, Otto              AUT    Men              100M Freestyle  Silver  \n",
       "DRIVAS, Dimitrios             GRE    Men  100M Freestyle For Sailors  Bronze  \n",
       "MALOKINIS, Ioannis            GRE    Men  100M Freestyle For Sailors    Gold  \n",
       "CHASAPIS, Spiridon            GRE    Men  100M Freestyle For Sailors  Silver  \n",
       "...                           ...    ...                         ...     ...  \n",
       "JANIKOWSKI, Damian            POL    Men                    Wg 84 KG  Bronze  \n",
       "REZAEI, Ghasem Gholamreza     IRI    Men                    Wg 96 KG    Gold  \n",
       "TOTROV, Rustam                RUS    Men                    Wg 96 KG  Silver  \n",
       "ALEKSANYAN, Artur             ARM    Men                    Wg 96 KG  Bronze  \n",
       "LIDBERG, Jimmy                SWE    Men                    Wg 96 KG  Bronze  \n",
       "\n",
       "[31165 rows x 8 columns]"
      ]
     },
     "metadata": {},
     "output_type": "display_data"
    }
   ],
   "source": [
    "# ******************************************************************************************\n",
    "# mapper parameter - to change a single index label - pass a dictionary with the old and new index labels\n",
    "# ******************************************************************************************\n",
    "summer.rename(mapper={\"HAJOS, Alfred\":\"HAYOS, Alfred\"}, axis=\"index\")"
   ]
  },
  {
   "cell_type": "code",
   "execution_count": null,
   "metadata": {},
   "outputs": [
    {
     "data": {
      "text/html": [
       "<div>\n",
       "<style scoped>\n",
       "    .dataframe tbody tr th:only-of-type {\n",
       "        vertical-align: middle;\n",
       "    }\n",
       "\n",
       "    .dataframe tbody tr th {\n",
       "        vertical-align: top;\n",
       "    }\n",
       "\n",
       "    .dataframe thead th {\n",
       "        text-align: right;\n",
       "    }\n",
       "</style>\n",
       "<table border=\"1\" class=\"dataframe\">\n",
       "  <thead>\n",
       "    <tr style=\"text-align: right;\">\n",
       "      <th></th>\n",
       "      <th>Year</th>\n",
       "      <th>City</th>\n",
       "      <th>Sport</th>\n",
       "      <th>Discipline</th>\n",
       "      <th>Country</th>\n",
       "      <th>Gender</th>\n",
       "      <th>Event</th>\n",
       "      <th>Medal</th>\n",
       "    </tr>\n",
       "    <tr>\n",
       "      <th>Athlete</th>\n",
       "      <th></th>\n",
       "      <th></th>\n",
       "      <th></th>\n",
       "      <th></th>\n",
       "      <th></th>\n",
       "      <th></th>\n",
       "      <th></th>\n",
       "      <th></th>\n",
       "    </tr>\n",
       "  </thead>\n",
       "  <tbody>\n",
       "    <tr>\n",
       "      <th>HAYOS, Alfred</th>\n",
       "      <td>1896</td>\n",
       "      <td>Athens</td>\n",
       "      <td>Aquatics</td>\n",
       "      <td>Swimming</td>\n",
       "      <td>HUN</td>\n",
       "      <td>Men</td>\n",
       "      <td>100M Freestyle</td>\n",
       "      <td>Gold</td>\n",
       "    </tr>\n",
       "    <tr>\n",
       "      <th>HERSCHMANN, Otto</th>\n",
       "      <td>1896</td>\n",
       "      <td>Athens</td>\n",
       "      <td>Aquatics</td>\n",
       "      <td>Swimming</td>\n",
       "      <td>AUT</td>\n",
       "      <td>Men</td>\n",
       "      <td>100M Freestyle</td>\n",
       "      <td>Silver</td>\n",
       "    </tr>\n",
       "    <tr>\n",
       "      <th>DRIVAS, Dimitrios</th>\n",
       "      <td>1896</td>\n",
       "      <td>Athens</td>\n",
       "      <td>Aquatics</td>\n",
       "      <td>Swimming</td>\n",
       "      <td>GRE</td>\n",
       "      <td>Men</td>\n",
       "      <td>100M Freestyle For Sailors</td>\n",
       "      <td>Bronze</td>\n",
       "    </tr>\n",
       "    <tr>\n",
       "      <th>MALOKINIS, Ioannis</th>\n",
       "      <td>1896</td>\n",
       "      <td>Athens</td>\n",
       "      <td>Aquatics</td>\n",
       "      <td>Swimming</td>\n",
       "      <td>GRE</td>\n",
       "      <td>Men</td>\n",
       "      <td>100M Freestyle For Sailors</td>\n",
       "      <td>Gold</td>\n",
       "    </tr>\n",
       "    <tr>\n",
       "      <th>CHASAPIS, Spiridon</th>\n",
       "      <td>1896</td>\n",
       "      <td>Athens</td>\n",
       "      <td>Aquatics</td>\n",
       "      <td>Swimming</td>\n",
       "      <td>GRE</td>\n",
       "      <td>Men</td>\n",
       "      <td>100M Freestyle For Sailors</td>\n",
       "      <td>Silver</td>\n",
       "    </tr>\n",
       "    <tr>\n",
       "      <th>...</th>\n",
       "      <td>...</td>\n",
       "      <td>...</td>\n",
       "      <td>...</td>\n",
       "      <td>...</td>\n",
       "      <td>...</td>\n",
       "      <td>...</td>\n",
       "      <td>...</td>\n",
       "      <td>...</td>\n",
       "    </tr>\n",
       "    <tr>\n",
       "      <th>JANIKOWSKI, Damian</th>\n",
       "      <td>2012</td>\n",
       "      <td>London</td>\n",
       "      <td>Wrestling</td>\n",
       "      <td>Wrestling Freestyle</td>\n",
       "      <td>POL</td>\n",
       "      <td>Men</td>\n",
       "      <td>Wg 84 KG</td>\n",
       "      <td>Bronze</td>\n",
       "    </tr>\n",
       "    <tr>\n",
       "      <th>REZAEI, Ghasem Gholamreza</th>\n",
       "      <td>2012</td>\n",
       "      <td>London</td>\n",
       "      <td>Wrestling</td>\n",
       "      <td>Wrestling Freestyle</td>\n",
       "      <td>IRI</td>\n",
       "      <td>Men</td>\n",
       "      <td>Wg 96 KG</td>\n",
       "      <td>Gold</td>\n",
       "    </tr>\n",
       "    <tr>\n",
       "      <th>TOTROV, Rustam</th>\n",
       "      <td>2012</td>\n",
       "      <td>London</td>\n",
       "      <td>Wrestling</td>\n",
       "      <td>Wrestling Freestyle</td>\n",
       "      <td>RUS</td>\n",
       "      <td>Men</td>\n",
       "      <td>Wg 96 KG</td>\n",
       "      <td>Silver</td>\n",
       "    </tr>\n",
       "    <tr>\n",
       "      <th>ALEKSANYAN, Artur</th>\n",
       "      <td>2012</td>\n",
       "      <td>London</td>\n",
       "      <td>Wrestling</td>\n",
       "      <td>Wrestling Freestyle</td>\n",
       "      <td>ARM</td>\n",
       "      <td>Men</td>\n",
       "      <td>Wg 96 KG</td>\n",
       "      <td>Bronze</td>\n",
       "    </tr>\n",
       "    <tr>\n",
       "      <th>LIDBERG, Jimmy</th>\n",
       "      <td>2012</td>\n",
       "      <td>London</td>\n",
       "      <td>Wrestling</td>\n",
       "      <td>Wrestling Freestyle</td>\n",
       "      <td>SWE</td>\n",
       "      <td>Men</td>\n",
       "      <td>Wg 96 KG</td>\n",
       "      <td>Bronze</td>\n",
       "    </tr>\n",
       "  </tbody>\n",
       "</table>\n",
       "<p>31165 rows × 8 columns</p>\n",
       "</div>"
      ],
      "text/plain": [
       "                           Year    City      Sport           Discipline  \\\n",
       "Athlete                                                                   \n",
       "HAYOS, Alfred              1896  Athens   Aquatics             Swimming   \n",
       "HERSCHMANN, Otto           1896  Athens   Aquatics             Swimming   \n",
       "DRIVAS, Dimitrios          1896  Athens   Aquatics             Swimming   \n",
       "MALOKINIS, Ioannis         1896  Athens   Aquatics             Swimming   \n",
       "CHASAPIS, Spiridon         1896  Athens   Aquatics             Swimming   \n",
       "...                         ...     ...        ...                  ...   \n",
       "JANIKOWSKI, Damian         2012  London  Wrestling  Wrestling Freestyle   \n",
       "REZAEI, Ghasem Gholamreza  2012  London  Wrestling  Wrestling Freestyle   \n",
       "TOTROV, Rustam             2012  London  Wrestling  Wrestling Freestyle   \n",
       "ALEKSANYAN, Artur          2012  London  Wrestling  Wrestling Freestyle   \n",
       "LIDBERG, Jimmy             2012  London  Wrestling  Wrestling Freestyle   \n",
       "\n",
       "                          Country Gender                       Event   Medal  \n",
       "Athlete                                                                       \n",
       "HAYOS, Alfred                 HUN    Men              100M Freestyle    Gold  \n",
       "HERSCHMANN, Otto              AUT    Men              100M Freestyle  Silver  \n",
       "DRIVAS, Dimitrios             GRE    Men  100M Freestyle For Sailors  Bronze  \n",
       "MALOKINIS, Ioannis            GRE    Men  100M Freestyle For Sailors    Gold  \n",
       "CHASAPIS, Spiridon            GRE    Men  100M Freestyle For Sailors  Silver  \n",
       "...                           ...    ...                         ...     ...  \n",
       "JANIKOWSKI, Damian            POL    Men                    Wg 84 KG  Bronze  \n",
       "REZAEI, Ghasem Gholamreza     IRI    Men                    Wg 96 KG    Gold  \n",
       "TOTROV, Rustam                RUS    Men                    Wg 96 KG  Silver  \n",
       "ALEKSANYAN, Artur             ARM    Men                    Wg 96 KG  Bronze  \n",
       "LIDBERG, Jimmy                SWE    Men                    Wg 96 KG  Bronze  \n",
       "\n",
       "[31165 rows x 8 columns]"
      ]
     },
     "metadata": {},
     "output_type": "display_data"
    }
   ],
   "source": [
    "# ******************************************************************************************\n",
    "# index parameter - pass a dictionary with the old and new index labels\n",
    "# ******************************************************************************************\n",
    "# choose the inplace parameter if you wish to modify the original data frame\n",
    "# ******************************************************************************************\n",
    "summer.rename(index={\"HAJOS, Alfred\":\"HAYOS, Alfred\"})"
   ]
  },
  {
   "cell_type": "code",
   "execution_count": null,
   "metadata": {},
   "outputs": [
    {
     "data": {
      "text/html": [
       "<div>\n",
       "<style scoped>\n",
       "    .dataframe tbody tr th:only-of-type {\n",
       "        vertical-align: middle;\n",
       "    }\n",
       "\n",
       "    .dataframe tbody tr th {\n",
       "        vertical-align: top;\n",
       "    }\n",
       "\n",
       "    .dataframe thead th {\n",
       "        text-align: right;\n",
       "    }\n",
       "</style>\n",
       "<table border=\"1\" class=\"dataframe\">\n",
       "  <thead>\n",
       "    <tr style=\"text-align: right;\">\n",
       "      <th></th>\n",
       "      <th>Year</th>\n",
       "      <th>Host_City</th>\n",
       "      <th>Sport</th>\n",
       "      <th>Discipline</th>\n",
       "      <th>Country</th>\n",
       "      <th>Gender</th>\n",
       "      <th>Event</th>\n",
       "      <th>Medal</th>\n",
       "    </tr>\n",
       "    <tr>\n",
       "      <th>Athlete</th>\n",
       "      <th></th>\n",
       "      <th></th>\n",
       "      <th></th>\n",
       "      <th></th>\n",
       "      <th></th>\n",
       "      <th></th>\n",
       "      <th></th>\n",
       "      <th></th>\n",
       "    </tr>\n",
       "  </thead>\n",
       "  <tbody>\n",
       "    <tr>\n",
       "      <th>HAJOS, Alfred</th>\n",
       "      <td>1896</td>\n",
       "      <td>Athens</td>\n",
       "      <td>Aquatics</td>\n",
       "      <td>Swimming</td>\n",
       "      <td>HUN</td>\n",
       "      <td>Men</td>\n",
       "      <td>100M Freestyle</td>\n",
       "      <td>Gold</td>\n",
       "    </tr>\n",
       "    <tr>\n",
       "      <th>HERSCHMANN, Otto</th>\n",
       "      <td>1896</td>\n",
       "      <td>Athens</td>\n",
       "      <td>Aquatics</td>\n",
       "      <td>Swimming</td>\n",
       "      <td>AUT</td>\n",
       "      <td>Men</td>\n",
       "      <td>100M Freestyle</td>\n",
       "      <td>Silver</td>\n",
       "    </tr>\n",
       "    <tr>\n",
       "      <th>DRIVAS, Dimitrios</th>\n",
       "      <td>1896</td>\n",
       "      <td>Athens</td>\n",
       "      <td>Aquatics</td>\n",
       "      <td>Swimming</td>\n",
       "      <td>GRE</td>\n",
       "      <td>Men</td>\n",
       "      <td>100M Freestyle For Sailors</td>\n",
       "      <td>Bronze</td>\n",
       "    </tr>\n",
       "    <tr>\n",
       "      <th>MALOKINIS, Ioannis</th>\n",
       "      <td>1896</td>\n",
       "      <td>Athens</td>\n",
       "      <td>Aquatics</td>\n",
       "      <td>Swimming</td>\n",
       "      <td>GRE</td>\n",
       "      <td>Men</td>\n",
       "      <td>100M Freestyle For Sailors</td>\n",
       "      <td>Gold</td>\n",
       "    </tr>\n",
       "    <tr>\n",
       "      <th>CHASAPIS, Spiridon</th>\n",
       "      <td>1896</td>\n",
       "      <td>Athens</td>\n",
       "      <td>Aquatics</td>\n",
       "      <td>Swimming</td>\n",
       "      <td>GRE</td>\n",
       "      <td>Men</td>\n",
       "      <td>100M Freestyle For Sailors</td>\n",
       "      <td>Silver</td>\n",
       "    </tr>\n",
       "    <tr>\n",
       "      <th>...</th>\n",
       "      <td>...</td>\n",
       "      <td>...</td>\n",
       "      <td>...</td>\n",
       "      <td>...</td>\n",
       "      <td>...</td>\n",
       "      <td>...</td>\n",
       "      <td>...</td>\n",
       "      <td>...</td>\n",
       "    </tr>\n",
       "    <tr>\n",
       "      <th>JANIKOWSKI, Damian</th>\n",
       "      <td>2012</td>\n",
       "      <td>London</td>\n",
       "      <td>Wrestling</td>\n",
       "      <td>Wrestling Freestyle</td>\n",
       "      <td>POL</td>\n",
       "      <td>Men</td>\n",
       "      <td>Wg 84 KG</td>\n",
       "      <td>Bronze</td>\n",
       "    </tr>\n",
       "    <tr>\n",
       "      <th>REZAEI, Ghasem Gholamreza</th>\n",
       "      <td>2012</td>\n",
       "      <td>London</td>\n",
       "      <td>Wrestling</td>\n",
       "      <td>Wrestling Freestyle</td>\n",
       "      <td>IRI</td>\n",
       "      <td>Men</td>\n",
       "      <td>Wg 96 KG</td>\n",
       "      <td>Gold</td>\n",
       "    </tr>\n",
       "    <tr>\n",
       "      <th>TOTROV, Rustam</th>\n",
       "      <td>2012</td>\n",
       "      <td>London</td>\n",
       "      <td>Wrestling</td>\n",
       "      <td>Wrestling Freestyle</td>\n",
       "      <td>RUS</td>\n",
       "      <td>Men</td>\n",
       "      <td>Wg 96 KG</td>\n",
       "      <td>Silver</td>\n",
       "    </tr>\n",
       "    <tr>\n",
       "      <th>ALEKSANYAN, Artur</th>\n",
       "      <td>2012</td>\n",
       "      <td>London</td>\n",
       "      <td>Wrestling</td>\n",
       "      <td>Wrestling Freestyle</td>\n",
       "      <td>ARM</td>\n",
       "      <td>Men</td>\n",
       "      <td>Wg 96 KG</td>\n",
       "      <td>Bronze</td>\n",
       "    </tr>\n",
       "    <tr>\n",
       "      <th>LIDBERG, Jimmy</th>\n",
       "      <td>2012</td>\n",
       "      <td>London</td>\n",
       "      <td>Wrestling</td>\n",
       "      <td>Wrestling Freestyle</td>\n",
       "      <td>SWE</td>\n",
       "      <td>Men</td>\n",
       "      <td>Wg 96 KG</td>\n",
       "      <td>Bronze</td>\n",
       "    </tr>\n",
       "  </tbody>\n",
       "</table>\n",
       "<p>31165 rows × 8 columns</p>\n",
       "</div>"
      ],
      "text/plain": [
       "                           Year Host_City      Sport           Discipline  \\\n",
       "Athlete                                                                     \n",
       "HAJOS, Alfred              1896    Athens   Aquatics             Swimming   \n",
       "HERSCHMANN, Otto           1896    Athens   Aquatics             Swimming   \n",
       "DRIVAS, Dimitrios          1896    Athens   Aquatics             Swimming   \n",
       "MALOKINIS, Ioannis         1896    Athens   Aquatics             Swimming   \n",
       "CHASAPIS, Spiridon         1896    Athens   Aquatics             Swimming   \n",
       "...                         ...       ...        ...                  ...   \n",
       "JANIKOWSKI, Damian         2012    London  Wrestling  Wrestling Freestyle   \n",
       "REZAEI, Ghasem Gholamreza  2012    London  Wrestling  Wrestling Freestyle   \n",
       "TOTROV, Rustam             2012    London  Wrestling  Wrestling Freestyle   \n",
       "ALEKSANYAN, Artur          2012    London  Wrestling  Wrestling Freestyle   \n",
       "LIDBERG, Jimmy             2012    London  Wrestling  Wrestling Freestyle   \n",
       "\n",
       "                          Country Gender                       Event   Medal  \n",
       "Athlete                                                                       \n",
       "HAJOS, Alfred                 HUN    Men              100M Freestyle    Gold  \n",
       "HERSCHMANN, Otto              AUT    Men              100M Freestyle  Silver  \n",
       "DRIVAS, Dimitrios             GRE    Men  100M Freestyle For Sailors  Bronze  \n",
       "MALOKINIS, Ioannis            GRE    Men  100M Freestyle For Sailors    Gold  \n",
       "CHASAPIS, Spiridon            GRE    Men  100M Freestyle For Sailors  Silver  \n",
       "...                           ...    ...                         ...     ...  \n",
       "JANIKOWSKI, Damian            POL    Men                    Wg 84 KG  Bronze  \n",
       "REZAEI, Ghasem Gholamreza     IRI    Men                    Wg 96 KG    Gold  \n",
       "TOTROV, Rustam                RUS    Men                    Wg 96 KG  Silver  \n",
       "ALEKSANYAN, Artur             ARM    Men                    Wg 96 KG  Bronze  \n",
       "LIDBERG, Jimmy                SWE    Men                    Wg 96 KG  Bronze  \n",
       "\n",
       "[31165 rows x 8 columns]"
      ]
     },
     "metadata": {},
     "output_type": "display_data"
    }
   ],
   "source": [
    "# change the column labels\n",
    "# ******************************************************************************************\n",
    "# 2 ways of using rename method - (mapper parameter and columns parameter)\n",
    "# ******************************************************************************************\n",
    "summer.rename(mapper={\"Sex\":\"Gender\", \"City\": \"Host_City\"}, axis=\"columns\")"
   ]
  },
  {
   "cell_type": "code",
   "execution_count": null,
   "metadata": {},
   "outputs": [
    {
     "data": {
      "text/html": [
       "<div>\n",
       "<style scoped>\n",
       "    .dataframe tbody tr th:only-of-type {\n",
       "        vertical-align: middle;\n",
       "    }\n",
       "\n",
       "    .dataframe tbody tr th {\n",
       "        vertical-align: top;\n",
       "    }\n",
       "\n",
       "    .dataframe thead th {\n",
       "        text-align: right;\n",
       "    }\n",
       "</style>\n",
       "<table border=\"1\" class=\"dataframe\">\n",
       "  <thead>\n",
       "    <tr style=\"text-align: right;\">\n",
       "      <th></th>\n",
       "      <th>Year</th>\n",
       "      <th>Host_City</th>\n",
       "      <th>Sport</th>\n",
       "      <th>Discipline</th>\n",
       "      <th>Country</th>\n",
       "      <th>Gender</th>\n",
       "      <th>Event</th>\n",
       "      <th>Medal</th>\n",
       "    </tr>\n",
       "    <tr>\n",
       "      <th>Athlete</th>\n",
       "      <th></th>\n",
       "      <th></th>\n",
       "      <th></th>\n",
       "      <th></th>\n",
       "      <th></th>\n",
       "      <th></th>\n",
       "      <th></th>\n",
       "      <th></th>\n",
       "    </tr>\n",
       "  </thead>\n",
       "  <tbody>\n",
       "    <tr>\n",
       "      <th>HAJOS, Alfred</th>\n",
       "      <td>1896</td>\n",
       "      <td>Athens</td>\n",
       "      <td>Aquatics</td>\n",
       "      <td>Swimming</td>\n",
       "      <td>HUN</td>\n",
       "      <td>Men</td>\n",
       "      <td>100M Freestyle</td>\n",
       "      <td>Gold</td>\n",
       "    </tr>\n",
       "    <tr>\n",
       "      <th>HERSCHMANN, Otto</th>\n",
       "      <td>1896</td>\n",
       "      <td>Athens</td>\n",
       "      <td>Aquatics</td>\n",
       "      <td>Swimming</td>\n",
       "      <td>AUT</td>\n",
       "      <td>Men</td>\n",
       "      <td>100M Freestyle</td>\n",
       "      <td>Silver</td>\n",
       "    </tr>\n",
       "    <tr>\n",
       "      <th>DRIVAS, Dimitrios</th>\n",
       "      <td>1896</td>\n",
       "      <td>Athens</td>\n",
       "      <td>Aquatics</td>\n",
       "      <td>Swimming</td>\n",
       "      <td>GRE</td>\n",
       "      <td>Men</td>\n",
       "      <td>100M Freestyle For Sailors</td>\n",
       "      <td>Bronze</td>\n",
       "    </tr>\n",
       "    <tr>\n",
       "      <th>MALOKINIS, Ioannis</th>\n",
       "      <td>1896</td>\n",
       "      <td>Athens</td>\n",
       "      <td>Aquatics</td>\n",
       "      <td>Swimming</td>\n",
       "      <td>GRE</td>\n",
       "      <td>Men</td>\n",
       "      <td>100M Freestyle For Sailors</td>\n",
       "      <td>Gold</td>\n",
       "    </tr>\n",
       "    <tr>\n",
       "      <th>CHASAPIS, Spiridon</th>\n",
       "      <td>1896</td>\n",
       "      <td>Athens</td>\n",
       "      <td>Aquatics</td>\n",
       "      <td>Swimming</td>\n",
       "      <td>GRE</td>\n",
       "      <td>Men</td>\n",
       "      <td>100M Freestyle For Sailors</td>\n",
       "      <td>Silver</td>\n",
       "    </tr>\n",
       "    <tr>\n",
       "      <th>...</th>\n",
       "      <td>...</td>\n",
       "      <td>...</td>\n",
       "      <td>...</td>\n",
       "      <td>...</td>\n",
       "      <td>...</td>\n",
       "      <td>...</td>\n",
       "      <td>...</td>\n",
       "      <td>...</td>\n",
       "    </tr>\n",
       "    <tr>\n",
       "      <th>JANIKOWSKI, Damian</th>\n",
       "      <td>2012</td>\n",
       "      <td>London</td>\n",
       "      <td>Wrestling</td>\n",
       "      <td>Wrestling Freestyle</td>\n",
       "      <td>POL</td>\n",
       "      <td>Men</td>\n",
       "      <td>Wg 84 KG</td>\n",
       "      <td>Bronze</td>\n",
       "    </tr>\n",
       "    <tr>\n",
       "      <th>REZAEI, Ghasem Gholamreza</th>\n",
       "      <td>2012</td>\n",
       "      <td>London</td>\n",
       "      <td>Wrestling</td>\n",
       "      <td>Wrestling Freestyle</td>\n",
       "      <td>IRI</td>\n",
       "      <td>Men</td>\n",
       "      <td>Wg 96 KG</td>\n",
       "      <td>Gold</td>\n",
       "    </tr>\n",
       "    <tr>\n",
       "      <th>TOTROV, Rustam</th>\n",
       "      <td>2012</td>\n",
       "      <td>London</td>\n",
       "      <td>Wrestling</td>\n",
       "      <td>Wrestling Freestyle</td>\n",
       "      <td>RUS</td>\n",
       "      <td>Men</td>\n",
       "      <td>Wg 96 KG</td>\n",
       "      <td>Silver</td>\n",
       "    </tr>\n",
       "    <tr>\n",
       "      <th>ALEKSANYAN, Artur</th>\n",
       "      <td>2012</td>\n",
       "      <td>London</td>\n",
       "      <td>Wrestling</td>\n",
       "      <td>Wrestling Freestyle</td>\n",
       "      <td>ARM</td>\n",
       "      <td>Men</td>\n",
       "      <td>Wg 96 KG</td>\n",
       "      <td>Bronze</td>\n",
       "    </tr>\n",
       "    <tr>\n",
       "      <th>LIDBERG, Jimmy</th>\n",
       "      <td>2012</td>\n",
       "      <td>London</td>\n",
       "      <td>Wrestling</td>\n",
       "      <td>Wrestling Freestyle</td>\n",
       "      <td>SWE</td>\n",
       "      <td>Men</td>\n",
       "      <td>Wg 96 KG</td>\n",
       "      <td>Bronze</td>\n",
       "    </tr>\n",
       "  </tbody>\n",
       "</table>\n",
       "<p>31165 rows × 8 columns</p>\n",
       "</div>"
      ],
      "text/plain": [
       "                           Year Host_City      Sport           Discipline  \\\n",
       "Athlete                                                                     \n",
       "HAJOS, Alfred              1896    Athens   Aquatics             Swimming   \n",
       "HERSCHMANN, Otto           1896    Athens   Aquatics             Swimming   \n",
       "DRIVAS, Dimitrios          1896    Athens   Aquatics             Swimming   \n",
       "MALOKINIS, Ioannis         1896    Athens   Aquatics             Swimming   \n",
       "CHASAPIS, Spiridon         1896    Athens   Aquatics             Swimming   \n",
       "...                         ...       ...        ...                  ...   \n",
       "JANIKOWSKI, Damian         2012    London  Wrestling  Wrestling Freestyle   \n",
       "REZAEI, Ghasem Gholamreza  2012    London  Wrestling  Wrestling Freestyle   \n",
       "TOTROV, Rustam             2012    London  Wrestling  Wrestling Freestyle   \n",
       "ALEKSANYAN, Artur          2012    London  Wrestling  Wrestling Freestyle   \n",
       "LIDBERG, Jimmy             2012    London  Wrestling  Wrestling Freestyle   \n",
       "\n",
       "                          Country Gender                       Event   Medal  \n",
       "Athlete                                                                       \n",
       "HAJOS, Alfred                 HUN    Men              100M Freestyle    Gold  \n",
       "HERSCHMANN, Otto              AUT    Men              100M Freestyle  Silver  \n",
       "DRIVAS, Dimitrios             GRE    Men  100M Freestyle For Sailors  Bronze  \n",
       "MALOKINIS, Ioannis            GRE    Men  100M Freestyle For Sailors    Gold  \n",
       "CHASAPIS, Spiridon            GRE    Men  100M Freestyle For Sailors  Silver  \n",
       "...                           ...    ...                         ...     ...  \n",
       "JANIKOWSKI, Damian            POL    Men                    Wg 84 KG  Bronze  \n",
       "REZAEI, Ghasem Gholamreza     IRI    Men                    Wg 96 KG    Gold  \n",
       "TOTROV, Rustam                RUS    Men                    Wg 96 KG  Silver  \n",
       "ALEKSANYAN, Artur             ARM    Men                    Wg 96 KG  Bronze  \n",
       "LIDBERG, Jimmy                SWE    Men                    Wg 96 KG  Bronze  \n",
       "\n",
       "[31165 rows x 8 columns]"
      ]
     },
     "metadata": {},
     "output_type": "display_data"
    }
   ],
   "source": [
    "summer.rename(columns={\"Sex\":\"Gender\", \"City\": \"Host_City\"})\n",
    "# ******************************************************************************************\n",
    "# choose the inplace parameter if you wish to modify the original data frame\n",
    "# ******************************************************************************************"
   ]
  },
  {
   "cell_type": "markdown",
   "metadata": {},
   "source": [
    "##### Coding exercise - 04 (separate nb)"
   ]
  }
 ],
 "metadata": {
  "language_info": {
   "name": "python"
  }
 },
 "nbformat": 4,
 "nbformat_minor": 2
}
